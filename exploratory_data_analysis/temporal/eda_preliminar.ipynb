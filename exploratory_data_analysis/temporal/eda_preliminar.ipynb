{
 "cells": [
  {
   "cell_type": "code",
   "execution_count": 1,
   "metadata": {
    "collapsed": true
   },
   "outputs": [
    {
     "name": "stdout",
     "output_type": "stream",
     "text": [
      "PyTables is not installed. No support for HDF output.\n"
     ]
    }
   ],
   "source": [
    "import pandas as pd\n",
    "from simpledbf import Dbf5\n",
    "import os\n",
    "import matplotlib.pyplot as plt"
   ]
  },
  {
   "cell_type": "markdown",
   "source": [
    "## Exports\n"
   ],
   "metadata": {
    "collapsed": false
   }
  },
  {
   "cell_type": "code",
   "execution_count": 2,
   "outputs": [
    {
     "ename": "FileNotFoundError",
     "evalue": "[WinError 3] The system cannot find the path specified: '../data/temporal_landing/x'",
     "output_type": "error",
     "traceback": [
      "\u001B[1;31m---------------------------------------------------------------------------\u001B[0m",
      "\u001B[1;31mFileNotFoundError\u001B[0m                         Traceback (most recent call last)",
      "Cell \u001B[1;32mIn[2], line 2\u001B[0m\n\u001B[0;32m      1\u001B[0m \u001B[38;5;66;03m# Get the data from the different files and merge them in a single dataframe\u001B[39;00m\n\u001B[1;32m----> 2\u001B[0m files \u001B[38;5;241m=\u001B[39m \u001B[43mos\u001B[49m\u001B[38;5;241;43m.\u001B[39;49m\u001B[43mlistdir\u001B[49m\u001B[43m(\u001B[49m\u001B[38;5;124;43m'\u001B[39;49m\u001B[38;5;124;43m../data/temporal_landing/x\u001B[39;49m\u001B[38;5;124;43m'\u001B[39;49m\u001B[43m)\u001B[49m[\u001B[38;5;241m0\u001B[39m:\u001B[38;5;241m1\u001B[39m]\n\u001B[0;32m      3\u001B[0m df \u001B[38;5;241m=\u001B[39m pd\u001B[38;5;241m.\u001B[39mconcat((Dbf5(\u001B[38;5;124m'\u001B[39m\u001B[38;5;124m../data/temporal_landing/x/\u001B[39m\u001B[38;5;124m'\u001B[39m\u001B[38;5;241m+\u001B[39mf, codec\u001B[38;5;241m=\u001B[39m\u001B[38;5;124m'\u001B[39m\u001B[38;5;124mlatin-1\u001B[39m\u001B[38;5;124m'\u001B[39m)\u001B[38;5;241m.\u001B[39mto_dataframe() \u001B[38;5;28;01mfor\u001B[39;00m f \u001B[38;5;129;01min\u001B[39;00m files), ignore_index\u001B[38;5;241m=\u001B[39m\u001B[38;5;28;01mTrue\u001B[39;00m)\n",
      "\u001B[1;31mFileNotFoundError\u001B[0m: [WinError 3] The system cannot find the path specified: '../data/temporal_landing/x'"
     ]
    }
   ],
   "source": [
    "# Get the data from the different files and merge them in a single dataframe\n",
    "files = os.listdir('../data/temporal_landing/x')[0:1]\n",
    "df = pd.concat((Dbf5('../data/temporal_landing/x/'+f, codec='latin-1').to_dataframe() for f in files), ignore_index=True)"
   ],
   "metadata": {
    "collapsed": false
   }
  },
  {
   "cell_type": "code",
   "execution_count": null,
   "outputs": [],
   "source": [
    "df"
   ],
   "metadata": {
    "collapsed": false
   }
  },
  {
   "cell_type": "code",
   "execution_count": null,
   "outputs": [],
   "source": [
    "df['DDIRCON'].value_counts()"
   ],
   "metadata": {
    "collapsed": false
   }
  },
  {
   "cell_type": "code",
   "execution_count": null,
   "outputs": [],
   "source": [
    "df['FEMB'] = pd.to_datetime(df['FEMB'], format='%Y%m%d')\n"
   ],
   "metadata": {
    "collapsed": false
   }
  },
  {
   "cell_type": "code",
   "execution_count": null,
   "outputs": [],
   "source": [
    "product = 'CACAO'"
   ],
   "metadata": {
    "collapsed": false
   }
  },
  {
   "cell_type": "code",
   "execution_count": null,
   "outputs": [],
   "source": [
    "# KG exported (daily)\n",
    "filter = (df[\"DCOM\"].str.contains(product)) & (df['FEMB']>= '20200101')\n",
    "df_subset = df[filter].groupby('FEMB')['VPESNET'].sum()\n",
    "# create a line plot of the counts\n",
    "plt.figure(figsize=(24, 6))\n",
    "df_subset.plot(kind='line')\n",
    "# add labels and title to the plot\n",
    "plt.xlabel('Date')\n",
    "plt.ylabel('Kg exported')\n",
    "plt.title('Kg exported by date')\n",
    "plt.show()"
   ],
   "metadata": {
    "collapsed": false
   }
  },
  {
   "cell_type": "code",
   "execution_count": null,
   "outputs": [],
   "source": [
    "# KG exported (monthly)\n",
    "filter = (df[\"DCOM\"].str.contains(product)) & (df['FEMB']>= '20200101')\n",
    "df_subset = df[filter].groupby([pd.Grouper(key='FEMB', freq='W')])['VPESNET'].sum()\n",
    "# create a line plot of the counts\n",
    "plt.figure(figsize=(24, 6))\n",
    "df_subset.plot(kind='line')\n",
    "# add labels and title to the plot\n",
    "plt.xlabel('Date')\n",
    "plt.ylabel('Kg exported')\n",
    "plt.title('Kg exported by date')\n",
    "plt.show()"
   ],
   "metadata": {
    "collapsed": false
   }
  },
  {
   "cell_type": "code",
   "execution_count": null,
   "outputs": [],
   "source": [
    "# USDK/Kg exported (daily)\n",
    "filter = (df[\"DCOM\"].str.contains(product)) & (df['FEMB']>= '20200101')\n",
    "df['USD_KG'] = df['VFOBSERDOL']/df['VPESNET']\n",
    "df_subset = df[filter].groupby('FEMB')['USD_KG'].mean()\n",
    "\n",
    "# calculate the IQR\n",
    "q1 = df_subset.quantile(0.25)\n",
    "q3 = df_subset.quantile(0.75)\n",
    "iqr = q3 - q1\n",
    "\n",
    "# remove outliers\n",
    "lower_bound = q1 - 1.5*iqr\n",
    "upper_bound = q3 + 1.5*iqr\n",
    "df_subset = df_subset[(df_subset > lower_bound) & (df_subset < upper_bound)]\n",
    "\n",
    "# create a line plot of the counts\n",
    "plt.figure(figsize=(24, 6))\n",
    "df_subset.plot(kind='line')\n",
    "# add labels and title to the plot\n",
    "plt.xlabel('Date')\n",
    "plt.ylabel('USD/Kg exported')\n",
    "plt.title('USD/Kg exported by date')\n",
    "plt.show()"
   ],
   "metadata": {
    "collapsed": false
   }
  },
  {
   "cell_type": "code",
   "execution_count": null,
   "outputs": [],
   "source": [
    "# USDK/Kg exported (daily)\n",
    "filter = (df[\"DCOM\"].str.contains(product)) & (df['FEMB']>= '20200101')\n",
    "df['USD_KG'] = df['VFOBSERDOL']/df['VPESNET']\n",
    "df_subset = df[filter].groupby([pd.Grouper(key='FEMB', freq='W')])['USD_KG'].mean()\n",
    "\n",
    "# calculate the IQR\n",
    "q1 = df_subset.quantile(0.25)\n",
    "q3 = df_subset.quantile(0.75)\n",
    "iqr = q3 - q1\n",
    "\n",
    "# remove outliers\n",
    "lower_bound = q1 - 1.5*iqr\n",
    "upper_bound = q3 + 1.5*iqr\n",
    "df_subset = df_subset[(df_subset > lower_bound) & (df_subset < upper_bound)]\n",
    "\n",
    "# create a line plot of the counts\n",
    "plt.figure(figsize=(24, 6))\n",
    "df_subset.plot(kind='line')\n",
    "# add labels and title to the plot\n",
    "plt.xlabel('Date')\n",
    "plt.ylabel('USD/Kg exported')\n",
    "plt.title('USD/Kg exported by date')\n",
    "plt.show()"
   ],
   "metadata": {
    "collapsed": false
   }
  },
  {
   "cell_type": "code",
   "execution_count": null,
   "outputs": [],
   "source": [
    "df['DCOM'].value_counts()"
   ],
   "metadata": {
    "collapsed": false
   }
  },
  {
   "cell_type": "code",
   "execution_count": null,
   "outputs": [],
   "source": [
    "\n",
    "\n",
    "for file in files:\n",
    "\n",
    "    x = Dbf5('../data/temporal_landing/x/'+file, codec='latin-1')\n",
    "    x = x.to_dataframe()\n",
    "    x.shape"
   ],
   "metadata": {
    "collapsed": false
   }
  },
  {
   "cell_type": "markdown",
   "source": [
    "## Extra tables"
   ],
   "metadata": {
    "collapsed": false
   }
  },
  {
   "cell_type": "code",
   "execution_count": null,
   "outputs": [],
   "source": [
    "# NANDINA\n",
    "with open('../data/temporal_landing/support/NANDINA.TXT', 'r') as f:\n",
    "    file_lines = f.readlines()\n",
    "    file_lines = [string.rstrip('\\t\\n') for string in file_lines][1:]\n",
    "    file_lines = [string.split('\\t') for string in file_lines]\n",
    "    file_lines = [[element for element in inner_list if element.strip()] for inner_list in file_lines]\n",
    "\n",
    "nandina =  pd.DataFrame(file_lines)"
   ],
   "metadata": {
    "collapsed": false
   }
  },
  {
   "cell_type": "code",
   "execution_count": null,
   "outputs": [],
   "source": [
    "nandina.sort_values(by=0, ascending=True)"
   ],
   "metadata": {
    "collapsed": false
   }
  },
  {
   "cell_type": "code",
   "execution_count": null,
   "outputs": [],
   "source": [
    "nandina[0] = nandina[0].astype(str).str.zfill(10)"
   ],
   "metadata": {
    "collapsed": false
   }
  },
  {
   "cell_type": "code",
   "execution_count": null,
   "outputs": [],
   "source": [
    "nandina[nandina[0].str.startswith('0802')]"
   ],
   "metadata": {
    "collapsed": false
   }
  }
 ],
 "metadata": {
  "kernelspec": {
   "display_name": "Python 3",
   "language": "python",
   "name": "python3"
  },
  "language_info": {
   "codemirror_mode": {
    "name": "ipython",
    "version": 2
   },
   "file_extension": ".py",
   "mimetype": "text/x-python",
   "name": "python",
   "nbconvert_exporter": "python",
   "pygments_lexer": "ipython2",
   "version": "2.7.6"
  }
 },
 "nbformat": 4,
 "nbformat_minor": 0
}
