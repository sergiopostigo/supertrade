{
 "cells": [
  {
   "cell_type": "markdown",
   "source": [
    "# Exploratory Data Analysis (Formatted Zone)\n",
    "Complex Seasonality Analysis"
   ],
   "metadata": {
    "collapsed": false
   }
  },
  {
   "cell_type": "code",
   "execution_count": null,
   "outputs": [],
   "source": [
    "from database_settings import postgres_utilities\n",
    "import pandas as pd\n",
    "import seaborn as sns\n",
    "import matplotlib.pyplot as plt\n",
    "from tqdm.notebook import tqdm\n",
    "from time_granularities_analysis import time_granularity_analysis\n",
    "import time_granularities_generator"
   ],
   "metadata": {
    "collapsed": false,
    "pycharm": {
     "is_executing": true
    }
   }
  },
  {
   "cell_type": "markdown",
   "source": [
    "## Get the time series\n"
   ],
   "metadata": {
    "collapsed": false
   }
  },
  {
   "cell_type": "code",
   "execution_count": null,
   "metadata": {
    "collapsed": true,
    "pycharm": {
     "is_executing": true
    }
   },
   "outputs": [],
   "source": [
    "# Establish the connection with the Persistent Zone\n",
    "engine = postgres_utilities.engine()\n",
    "# Filters\n",
    "net_weight_threshold = 100\n",
    "value_usd_threshold = 200\n",
    "headings_count_threshold = 100\n",
    "year_threshold = 2017\n",
    "# Get all the data filtered\n",
    "df = pd.DataFrame(postgres_utilities.run_query_file(engine,\n",
    "                                           './queries/heading_data.sql',\n",
    "                                           params={'year_threshold': year_threshold,\n",
    "                                                   'headings_count_threshold': headings_count_threshold,\n",
    "                                                   'value_usd_threshold': value_usd_threshold,\n",
    "                                                   'net_weight_threshold': net_weight_threshold}))"
   ]
  },
  {
   "cell_type": "code",
   "execution_count": null,
   "outputs": [],
   "source": [
    "# Select a random heading (optionally, select a exporter)\n",
    "heading, description, exporter = df.sample()[['heading','description', 'exporter_id']].iloc[0]\n",
    "print('Heading: {}, Description: {}'.format(heading,description))\n",
    "heading_data = df[(df['heading']==heading)].copy()"
   ],
   "metadata": {
    "collapsed": false,
    "pycharm": {
     "is_executing": true
    }
   }
  },
  {
   "cell_type": "code",
   "execution_count": null,
   "outputs": [],
   "source": [
    "# Generate the time granularities\n",
    "start_date = heading_data['boarding_date'].min()\n",
    "end_date = heading_data['boarding_date'].max()\n",
    "\n",
    "time_granularities, granularity_priority = time_granularities_generator.generate(start_date,end_date)"
   ],
   "metadata": {
    "collapsed": false,
    "pycharm": {
     "is_executing": true
    }
   }
  },
  {
   "cell_type": "markdown",
   "source": [],
   "metadata": {
    "collapsed": false
   }
  },
  {
   "cell_type": "markdown",
   "source": [
    "### Daily kilogram's price time series"
   ],
   "metadata": {
    "collapsed": false
   }
  },
  {
   "cell_type": "code",
   "execution_count": null,
   "outputs": [],
   "source": [
    "# usd/kg time series\n",
    "heading_data['usd_kg'] = heading_data['value_usd']/heading_data['net_weight']\n",
    "heading_data['usd_kg'] = heading_data['usd_kg'].astype(float)\n",
    "heading_data['usd_kg'] = heading_data['usd_kg'].round(3)\n",
    "# Group by boarding_date\n",
    "usd_kg = heading_data[['boarding_date','usd_kg']].groupby(by=['boarding_date']).mean().round(3)\n",
    "# Impute missing dates assigning the usd_kg of the day before\n",
    "usd_kg.index = pd.to_datetime(usd_kg.index)\n",
    "usd_kg = usd_kg.resample('D').ffill()\n",
    "# Add the time granularities\n",
    "usd_kg = pd.concat([usd_kg, time_granularities], axis=1)\n",
    "usd_kg"
   ],
   "metadata": {
    "collapsed": false,
    "pycharm": {
     "is_executing": true
    }
   }
  },
  {
   "cell_type": "markdown",
   "source": [],
   "metadata": {
    "collapsed": false
   }
  },
  {
   "cell_type": "markdown",
   "source": [
    "### Daily total (net) weight exporter time series"
   ],
   "metadata": {
    "collapsed": false
   }
  },
  {
   "cell_type": "code",
   "execution_count": null,
   "outputs": [],
   "source": [
    "# total net weight time series\n",
    "# Group by boarding_date\n",
    "net_weight = heading_data[['boarding_date','net_weight']].groupby(by=['boarding_date']).sum().round(3)\n",
    "# Impute missing dates assigning 0 kg for days without shipments\n",
    "net_weight.index = pd.to_datetime(net_weight.index)\n",
    "net_weight = net_weight.resample('D').asfreq()\n",
    "net_weight.fillna(0.0, inplace=True)\n",
    "# Convert numerical columns to float\n",
    "net_weight = net_weight.astype({'net_weight': 'float'})\n",
    "# Add the time granularities\n",
    "net_weight = pd.concat([net_weight, time_granularities], axis=1)\n",
    "net_weight"
   ],
   "metadata": {
    "collapsed": false,
    "pycharm": {
     "is_executing": true
    }
   }
  },
  {
   "cell_type": "code",
   "execution_count": null,
   "outputs": [],
   "source": [
    "# Plot time series\n",
    "plt.figure(figsize=(18,6))\n",
    "sns.lineplot(x=net_weight.index, y=\"net_weight\", data=net_weight)\n",
    "plt.show()"
   ],
   "metadata": {
    "collapsed": false,
    "pycharm": {
     "is_executing": true
    }
   }
  },
  {
   "cell_type": "code",
   "execution_count": null,
   "outputs": [],
   "source": [
    "# Set the granularities to analyze\n",
    "granularities = ['semester_in_year',\n",
    "                 'quarter_in_year',\n",
    "                 'month_in_year',\n",
    "                 'month_in_semester',\n",
    "                 'month_in_quarter',\n",
    "                 'quarter_in_semester',\n",
    "                 #'day_in_year',\n",
    "                 #'day_in_semester',\n",
    "                 #'day_in_quarter',\n",
    "                 'day_in_month',\n",
    "                 'day_in_week',\n",
    "                 'week_in_year',\n",
    "                 'week_in_semester',\n",
    "                 'week_in_quarter',\n",
    "                 'week_in_month']\n",
    "\n",
    "# granularities = ['month_in_semester']\n",
    "\n",
    "results = {}\n",
    "for g in tqdm(granularities):\n",
    "    res = time_granularity_analysis(cyclic_granularity=g,\n",
    "                                    observations='net_weight',\n",
    "                                    data=net_weight)\n",
    "    res.plot()\n",
    "    results.update(res.summary())"
   ],
   "metadata": {
    "collapsed": false,
    "pycharm": {
     "is_executing": true
    }
   }
  },
  {
   "cell_type": "code",
   "execution_count": null,
   "outputs": [],
   "source": [
    "# Assess the significance\n",
    "significance_threshold = 0.01\n",
    "analysis = pd.DataFrame.from_dict(results, orient='index').reset_index()\n",
    "analysis = analysis.rename(columns={'index': 'granularity'})\n",
    "analysis['significant'] = analysis['pvalue'] < significance_threshold\n",
    "analysis"
   ],
   "metadata": {
    "collapsed": false,
    "pycharm": {
     "is_executing": true
    }
   }
  },
  {
   "cell_type": "code",
   "execution_count": null,
   "outputs": [],
   "source": [
    "extraction_order = [x for x in granularity_priority if x in analysis.loc[analysis['significant']==True, 'granularity'].to_list()]\n",
    "extraction_order"
   ],
   "metadata": {
    "collapsed": false,
    "pycharm": {
     "is_executing": true
    }
   }
  }
 ],
 "metadata": {
  "kernelspec": {
   "display_name": "Python 3",
   "language": "python",
   "name": "python3"
  },
  "language_info": {
   "codemirror_mode": {
    "name": "ipython",
    "version": 2
   },
   "file_extension": ".py",
   "mimetype": "text/x-python",
   "name": "python",
   "nbconvert_exporter": "python",
   "pygments_lexer": "ipython2",
   "version": "2.7.6"
  }
 },
 "nbformat": 4,
 "nbformat_minor": 0
}
