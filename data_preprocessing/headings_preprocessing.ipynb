{
 "cells": [
  {
   "cell_type": "code",
   "execution_count": 11,
   "outputs": [],
   "source": [
    "from database_settings import spark_utilities\n",
    "from pyspark.sql.functions import col, lpad\n",
    "import pandas as pd\n",
    "import time\n",
    "from database_settings import mongo_utilities"
   ],
   "metadata": {
    "collapsed": false
   }
  },
  {
   "cell_type": "code",
   "execution_count": 2,
   "metadata": {
    "collapsed": true
   },
   "outputs": [
    {
     "data": {
      "text/plain": "              HS\n0     2615100000\n1     2701110000\n2     2613900000\n3     0708200000\n4     2515110000\n...          ...\n6466  8523803000\n6467  1602391000\n6468  8418699200\n6469  8463101000\n6470  0511999020\n\n[6471 rows x 1 columns]",
      "text/html": "<div>\n<style scoped>\n    .dataframe tbody tr th:only-of-type {\n        vertical-align: middle;\n    }\n\n    .dataframe tbody tr th {\n        vertical-align: top;\n    }\n\n    .dataframe thead th {\n        text-align: right;\n    }\n</style>\n<table border=\"1\" class=\"dataframe\">\n  <thead>\n    <tr style=\"text-align: right;\">\n      <th></th>\n      <th>HS</th>\n    </tr>\n  </thead>\n  <tbody>\n    <tr>\n      <th>0</th>\n      <td>2615100000</td>\n    </tr>\n    <tr>\n      <th>1</th>\n      <td>2701110000</td>\n    </tr>\n    <tr>\n      <th>2</th>\n      <td>2613900000</td>\n    </tr>\n    <tr>\n      <th>3</th>\n      <td>0708200000</td>\n    </tr>\n    <tr>\n      <th>4</th>\n      <td>2515110000</td>\n    </tr>\n    <tr>\n      <th>...</th>\n      <td>...</td>\n    </tr>\n    <tr>\n      <th>6466</th>\n      <td>8523803000</td>\n    </tr>\n    <tr>\n      <th>6467</th>\n      <td>1602391000</td>\n    </tr>\n    <tr>\n      <th>6468</th>\n      <td>8418699200</td>\n    </tr>\n    <tr>\n      <th>6469</th>\n      <td>8463101000</td>\n    </tr>\n    <tr>\n      <th>6470</th>\n      <td>0511999020</td>\n    </tr>\n  </tbody>\n</table>\n<p>6471 rows × 1 columns</p>\n</div>"
     },
     "execution_count": 2,
     "metadata": {},
     "output_type": "execute_result"
    }
   ],
   "source": [
    "# Get all headings in the data\n",
    "df = spark_utilities.get_spark_df('peru_exports')\n",
    "hs_data = df.select('PART_NANDI')\\\n",
    "    .distinct()\\\n",
    "    .withColumn(\"HS\", lpad(col(\"PART_NANDI\").cast(\"string\"), 10, \"0\")) \\\n",
    "    .select('HS')\\\n",
    "    .toPandas()\n",
    "hs_data"
   ]
  },
  {
   "cell_type": "code",
   "execution_count": 3,
   "outputs": [
    {
     "data": {
      "text/plain": "              HS\n1631  0701100000\n5199  0701900000\n1633  0702000000\n3200  0703100000\n123   0703201000\n...          ...\n6181  0813300000\n3527  0813400000\n5833  0813500000\n179   0814001000\n1088  0814009000\n\n[174 rows x 1 columns]",
      "text/html": "<div>\n<style scoped>\n    .dataframe tbody tr th:only-of-type {\n        vertical-align: middle;\n    }\n\n    .dataframe tbody tr th {\n        vertical-align: top;\n    }\n\n    .dataframe thead th {\n        text-align: right;\n    }\n</style>\n<table border=\"1\" class=\"dataframe\">\n  <thead>\n    <tr style=\"text-align: right;\">\n      <th></th>\n      <th>HS</th>\n    </tr>\n  </thead>\n  <tbody>\n    <tr>\n      <th>1631</th>\n      <td>0701100000</td>\n    </tr>\n    <tr>\n      <th>5199</th>\n      <td>0701900000</td>\n    </tr>\n    <tr>\n      <th>1633</th>\n      <td>0702000000</td>\n    </tr>\n    <tr>\n      <th>3200</th>\n      <td>0703100000</td>\n    </tr>\n    <tr>\n      <th>123</th>\n      <td>0703201000</td>\n    </tr>\n    <tr>\n      <th>...</th>\n      <td>...</td>\n    </tr>\n    <tr>\n      <th>6181</th>\n      <td>0813300000</td>\n    </tr>\n    <tr>\n      <th>3527</th>\n      <td>0813400000</td>\n    </tr>\n    <tr>\n      <th>5833</th>\n      <td>0813500000</td>\n    </tr>\n    <tr>\n      <th>179</th>\n      <td>0814001000</td>\n    </tr>\n    <tr>\n      <th>1088</th>\n      <td>0814009000</td>\n    </tr>\n  </tbody>\n</table>\n<p>174 rows × 1 columns</p>\n</div>"
     },
     "execution_count": 3,
     "metadata": {},
     "output_type": "execute_result"
    }
   ],
   "source": [
    "# Headings to work with:\n",
    "# 07XXXXXXXX: Hortalizas, plantas, raíces y tubérculos alimenticios\n",
    "# 08XXXXXXXX: Frutas y frutos comestibles; cortezas de agrios (cítricos), melones o sandías.\n",
    "\n",
    "hs_list = ['07', '08']\n",
    "hs_to_work = hs_data[hs_data['HS'].str.startswith(tuple(hs_list))].sort_values(by='HS', ascending= True)\n",
    "hs_to_work"
   ],
   "metadata": {
    "collapsed": false
   }
  },
  {
   "cell_type": "code",
   "execution_count": 4,
   "outputs": [
    {
     "data": {
      "text/plain": "               HS                                            DESCRIP\n0      3926909030               ESCAFANDRAS Y MASCARAS DE PROTECCION\n1      3926909090                     DEMAS MANUFACTURAS DE PLASTICO\n2      4001210000                                     HOJAS AHUMADAS\n3      4001220000          CAUCHOS TECNICAMENTE ESPECIFICADOS (TSNR)\n4      4001291000                                     HOJAS DE CREPE\n...           ...                                                ...\n24952  3002131000            - - - Para tratamiento oncológico o VIH\n24953  3002141000            - - - Para tratamiento oncológico o VIH\n24954  9811000000  - MATERIAL DE GUERRA                          ...\n24955  0208900010  - - CARNE DE CUY (COBAYO, CONEJILLO DE INDIAS)...\n24956  0208900090  - - LOS DEMAS                                 ...\n\n[24957 rows x 2 columns]",
      "text/html": "<div>\n<style scoped>\n    .dataframe tbody tr th:only-of-type {\n        vertical-align: middle;\n    }\n\n    .dataframe tbody tr th {\n        vertical-align: top;\n    }\n\n    .dataframe thead th {\n        text-align: right;\n    }\n</style>\n<table border=\"1\" class=\"dataframe\">\n  <thead>\n    <tr style=\"text-align: right;\">\n      <th></th>\n      <th>HS</th>\n      <th>DESCRIP</th>\n    </tr>\n  </thead>\n  <tbody>\n    <tr>\n      <th>0</th>\n      <td>3926909030</td>\n      <td>ESCAFANDRAS Y MASCARAS DE PROTECCION</td>\n    </tr>\n    <tr>\n      <th>1</th>\n      <td>3926909090</td>\n      <td>DEMAS MANUFACTURAS DE PLASTICO</td>\n    </tr>\n    <tr>\n      <th>2</th>\n      <td>4001210000</td>\n      <td>HOJAS AHUMADAS</td>\n    </tr>\n    <tr>\n      <th>3</th>\n      <td>4001220000</td>\n      <td>CAUCHOS TECNICAMENTE ESPECIFICADOS (TSNR)</td>\n    </tr>\n    <tr>\n      <th>4</th>\n      <td>4001291000</td>\n      <td>HOJAS DE CREPE</td>\n    </tr>\n    <tr>\n      <th>...</th>\n      <td>...</td>\n      <td>...</td>\n    </tr>\n    <tr>\n      <th>24952</th>\n      <td>3002131000</td>\n      <td>- - - Para tratamiento oncológico o VIH</td>\n    </tr>\n    <tr>\n      <th>24953</th>\n      <td>3002141000</td>\n      <td>- - - Para tratamiento oncológico o VIH</td>\n    </tr>\n    <tr>\n      <th>24954</th>\n      <td>9811000000</td>\n      <td>- MATERIAL DE GUERRA                          ...</td>\n    </tr>\n    <tr>\n      <th>24955</th>\n      <td>0208900010</td>\n      <td>- - CARNE DE CUY (COBAYO, CONEJILLO DE INDIAS)...</td>\n    </tr>\n    <tr>\n      <th>24956</th>\n      <td>0208900090</td>\n      <td>- - LOS DEMAS                                 ...</td>\n    </tr>\n  </tbody>\n</table>\n<p>24957 rows × 2 columns</p>\n</div>"
     },
     "execution_count": 4,
     "metadata": {},
     "output_type": "execute_result"
    }
   ],
   "source": [
    "# Get heading labels from the headings table obtained online\n",
    "with open('../../data/temporal_landing/support/NANDINA.TXT', 'r') as f:\n",
    "    file_lines = f.readlines()\n",
    "    file_lines = [string.rstrip('\\t\\n') for string in file_lines][1:]\n",
    "    file_lines = [string.split('\\t') for string in file_lines]\n",
    "    file_lines = [[element for element in inner_list if element.strip()] for inner_list in file_lines]\n",
    "\n",
    "hs_labels =  pd.DataFrame(file_lines,\n",
    "                          columns=['PARTIDA','DESCRIP','ADVAL','IGV','ISC','SEGURO','CUODE','CIIU','FINICIO', 'FFINAL']).rename(columns={'PARTIDA':'HS'})[['HS','DESCRIP']]\n",
    "hs_labels['HS'] = hs_labels['HS'].astype(str).str.zfill(10)\n",
    "hs_labels"
   ],
   "metadata": {
    "collapsed": false
   }
  },
  {
   "cell_type": "code",
   "execution_count": 5,
   "outputs": [
    {
     "data": {
      "text/plain": "             HS                                            DESCRIP\n0    0701100000  PAPAS(PATATAS) FRESCAS O REFRIGERADOS PARA SIE...\n1    0701100000                                 -     Para siembra\n2    0701100000                                     - Para siembra\n3    0701900000  PAPAS(PATATAS) FRESCAS O REFRIGERADAS (EXC. PA...\n4    0701900000                                    -     Las demas\n..          ...                                                ...\n367  0813500000  -     Mezclas de frutas u otros frutos, secos,...\n366  0813500000  MEZCLA DE FRUTOS SECOS O FRUTOS D'CASCARA DEL ...\n368  0813500000  - Mezclas de frutas u otros frutos, secos, o d...\n369  0814001000  - De limón (limón sutil, limón común, limón cr...\n370  0814009000                                        - Las demás\n\n[371 rows x 2 columns]",
      "text/html": "<div>\n<style scoped>\n    .dataframe tbody tr th:only-of-type {\n        vertical-align: middle;\n    }\n\n    .dataframe tbody tr th {\n        vertical-align: top;\n    }\n\n    .dataframe thead th {\n        text-align: right;\n    }\n</style>\n<table border=\"1\" class=\"dataframe\">\n  <thead>\n    <tr style=\"text-align: right;\">\n      <th></th>\n      <th>HS</th>\n      <th>DESCRIP</th>\n    </tr>\n  </thead>\n  <tbody>\n    <tr>\n      <th>0</th>\n      <td>0701100000</td>\n      <td>PAPAS(PATATAS) FRESCAS O REFRIGERADOS PARA SIE...</td>\n    </tr>\n    <tr>\n      <th>1</th>\n      <td>0701100000</td>\n      <td>-     Para siembra</td>\n    </tr>\n    <tr>\n      <th>2</th>\n      <td>0701100000</td>\n      <td>- Para siembra</td>\n    </tr>\n    <tr>\n      <th>3</th>\n      <td>0701900000</td>\n      <td>PAPAS(PATATAS) FRESCAS O REFRIGERADAS (EXC. PA...</td>\n    </tr>\n    <tr>\n      <th>4</th>\n      <td>0701900000</td>\n      <td>-     Las demas</td>\n    </tr>\n    <tr>\n      <th>...</th>\n      <td>...</td>\n      <td>...</td>\n    </tr>\n    <tr>\n      <th>367</th>\n      <td>0813500000</td>\n      <td>-     Mezclas de frutas u otros frutos, secos,...</td>\n    </tr>\n    <tr>\n      <th>366</th>\n      <td>0813500000</td>\n      <td>MEZCLA DE FRUTOS SECOS O FRUTOS D'CASCARA DEL ...</td>\n    </tr>\n    <tr>\n      <th>368</th>\n      <td>0813500000</td>\n      <td>- Mezclas de frutas u otros frutos, secos, o d...</td>\n    </tr>\n    <tr>\n      <th>369</th>\n      <td>0814001000</td>\n      <td>- De limón (limón sutil, limón común, limón cr...</td>\n    </tr>\n    <tr>\n      <th>370</th>\n      <td>0814009000</td>\n      <td>- Las demás</td>\n    </tr>\n  </tbody>\n</table>\n<p>371 rows × 2 columns</p>\n</div>"
     },
     "execution_count": 5,
     "metadata": {},
     "output_type": "execute_result"
    }
   ],
   "source": [
    "# Join both dataframes in the headings column\n",
    "my_hs = pd.merge(hs_to_work,hs_labels, on= 'HS',how='left').sort_values(by='HS', ascending=True)\n",
    "my_hs"
   ],
   "metadata": {
    "collapsed": false
   }
  },
  {
   "cell_type": "code",
   "execution_count": 6,
   "outputs": [
    {
     "data": {
      "text/plain": "Empty DataFrame\nColumns: [HS, DESCRIP]\nIndex: []",
      "text/html": "<div>\n<style scoped>\n    .dataframe tbody tr th:only-of-type {\n        vertical-align: middle;\n    }\n\n    .dataframe tbody tr th {\n        vertical-align: top;\n    }\n\n    .dataframe thead th {\n        text-align: right;\n    }\n</style>\n<table border=\"1\" class=\"dataframe\">\n  <thead>\n    <tr style=\"text-align: right;\">\n      <th></th>\n      <th>HS</th>\n      <th>DESCRIP</th>\n    </tr>\n  </thead>\n  <tbody>\n  </tbody>\n</table>\n</div>"
     },
     "execution_count": 6,
     "metadata": {},
     "output_type": "execute_result"
    }
   ],
   "source": [
    "# Verify that no headings code has a null description\n",
    "my_hs[my_hs.isnull().any(axis=1)]"
   ],
   "metadata": {
    "collapsed": false
   }
  },
  {
   "cell_type": "code",
   "execution_count": 7,
   "outputs": [
    {
     "data": {
      "text/plain": "0711900000    4\n0805209000    4\n0712909000    4\n0802900000    4\n0703900000    4\n             ..\n0805299000    1\n0805291000    1\n0805220000    1\n0805210000    1\n0814009000    1\nName: HS, Length: 174, dtype: int64"
     },
     "execution_count": 7,
     "metadata": {},
     "output_type": "execute_result"
    }
   ],
   "source": [
    "# See how many descriptions are available per headings code in the data of interest\n",
    "my_hs['HS'].value_counts()"
   ],
   "metadata": {
    "collapsed": false
   }
  },
  {
   "cell_type": "code",
   "execution_count": 8,
   "outputs": [],
   "source": [
    "# Eliminate multiple spacings in the description\n",
    "my_hs['DESCRIP'].replace(r'\\s+', ' ', regex=True, inplace=True)\n",
    "# Eliminate the dashes at the beginning of the description\n",
    "my_hs['DESCRIP'].replace(r'^[-\\s]+', '', regex=True, inplace=True)\n",
    "# Add final dot to description\n",
    "my_hs['DESCRIP'] = my_hs['DESCRIP'].apply(lambda x: x if x.endswith('.') else x+'.')\n",
    "# Group all descriptions from a heading in a single cell\n",
    "my_hs = my_hs.groupby('HS')['DESCRIP'].agg(lambda x: ' '.join(x)).reset_index()\n",
    "# Rename the description\n",
    "my_hs.rename(columns={'DESCRIP':'MERGED_DESCRIP'}, inplace=True)\n",
    "# Add additional columns for curated description and mappings\n",
    "my_hs['CURATED_DESCRIP'] = ''\n",
    "my_hs['MAPPED_TO'] = '' # It may be the case that some headings in the list did not exist in the PDF, so the must be mapped to another headings that do exist."
   ],
   "metadata": {
    "collapsed": false
   }
  },
  {
   "cell_type": "code",
   "execution_count": 11,
   "outputs": [],
   "source": [
    "# Export to CSV for manual resolution of descriptions\n",
    "my_hs.to_csv('./hs_curated_'+str(int(time.time()*1000))+'.csv', index=None)"
   ],
   "metadata": {
    "collapsed": false
   }
  },
  {
   "cell_type": "code",
   "execution_count": 22,
   "outputs": [],
   "source": [
    "# Import the manually curated CSV\n",
    "curated_hs = pd.read_csv('./hs_curated_1680276488570.csv')"
   ],
   "metadata": {
    "collapsed": false
   }
  },
  {
   "cell_type": "code",
   "execution_count": 23,
   "outputs": [
    {
     "data": {
      "text/plain": "              HS                                     MERGED_DESCRIP  \\\n0    701100000.0  PAPAS(PATATAS) FRESCAS O REFRIGERADOS PARA SIE...   \n1    701900000.0  PAPAS(PATATAS) FRESCAS O REFRIGERADAS (EXC. PA...   \n2    702000000.0  TOMATES FRESCOS O REFRIGERADOS. Tomates fresco...   \n3    703100000.0  Cebollas y chalotes. CEBOLLAS Y CHALOTES. Cebo...   \n4    703201000.0                                      Para siembra.   \n..           ...                                                ...   \n170  813400000.0  Las demas frutas u otros frutos. Las demás fru...   \n171  813500000.0  Mezclas de frutas u otros frutos, secos, o de ...   \n172  814001000.0  De limón (limón sutil, limón común, limón crio...   \n173  814009000.0                                         Las demás.   \n174          NaN                                                NaN   \n\n                                       CURATED_DESCRIP  MAPPED_TO  \n0    Papas (patatas) para siembra, frescos o refrig...        NaN  \n1    Papas (patatas) excepto para siembra, frescos ...        NaN  \n2                       Tomates frescos o refrigerados        NaN  \n3           Cebollas y chalotes frescos o refrigerados        NaN  \n4             Ajos para siembra frescos o refrigerados        NaN  \n..                                                 ...        ...  \n170                        Otros frutas o frutos secos        NaN  \n171                    Mezcla de frutas o frutos secos        NaN  \n172  Corteza de (limón sutil, limón común, limón cr...        NaN  \n173                Otras cortezas de agrios (cítricos)        NaN  \n174                                                NaN        NaN  \n\n[175 rows x 4 columns]",
      "text/html": "<div>\n<style scoped>\n    .dataframe tbody tr th:only-of-type {\n        vertical-align: middle;\n    }\n\n    .dataframe tbody tr th {\n        vertical-align: top;\n    }\n\n    .dataframe thead th {\n        text-align: right;\n    }\n</style>\n<table border=\"1\" class=\"dataframe\">\n  <thead>\n    <tr style=\"text-align: right;\">\n      <th></th>\n      <th>HS</th>\n      <th>MERGED_DESCRIP</th>\n      <th>CURATED_DESCRIP</th>\n      <th>MAPPED_TO</th>\n    </tr>\n  </thead>\n  <tbody>\n    <tr>\n      <th>0</th>\n      <td>701100000.0</td>\n      <td>PAPAS(PATATAS) FRESCAS O REFRIGERADOS PARA SIE...</td>\n      <td>Papas (patatas) para siembra, frescos o refrig...</td>\n      <td>NaN</td>\n    </tr>\n    <tr>\n      <th>1</th>\n      <td>701900000.0</td>\n      <td>PAPAS(PATATAS) FRESCAS O REFRIGERADAS (EXC. PA...</td>\n      <td>Papas (patatas) excepto para siembra, frescos ...</td>\n      <td>NaN</td>\n    </tr>\n    <tr>\n      <th>2</th>\n      <td>702000000.0</td>\n      <td>TOMATES FRESCOS O REFRIGERADOS. Tomates fresco...</td>\n      <td>Tomates frescos o refrigerados</td>\n      <td>NaN</td>\n    </tr>\n    <tr>\n      <th>3</th>\n      <td>703100000.0</td>\n      <td>Cebollas y chalotes. CEBOLLAS Y CHALOTES. Cebo...</td>\n      <td>Cebollas y chalotes frescos o refrigerados</td>\n      <td>NaN</td>\n    </tr>\n    <tr>\n      <th>4</th>\n      <td>703201000.0</td>\n      <td>Para siembra.</td>\n      <td>Ajos para siembra frescos o refrigerados</td>\n      <td>NaN</td>\n    </tr>\n    <tr>\n      <th>...</th>\n      <td>...</td>\n      <td>...</td>\n      <td>...</td>\n      <td>...</td>\n    </tr>\n    <tr>\n      <th>170</th>\n      <td>813400000.0</td>\n      <td>Las demas frutas u otros frutos. Las demás fru...</td>\n      <td>Otros frutas o frutos secos</td>\n      <td>NaN</td>\n    </tr>\n    <tr>\n      <th>171</th>\n      <td>813500000.0</td>\n      <td>Mezclas de frutas u otros frutos, secos, o de ...</td>\n      <td>Mezcla de frutas o frutos secos</td>\n      <td>NaN</td>\n    </tr>\n    <tr>\n      <th>172</th>\n      <td>814001000.0</td>\n      <td>De limón (limón sutil, limón común, limón crio...</td>\n      <td>Corteza de (limón sutil, limón común, limón cr...</td>\n      <td>NaN</td>\n    </tr>\n    <tr>\n      <th>173</th>\n      <td>814009000.0</td>\n      <td>Las demás.</td>\n      <td>Otras cortezas de agrios (cítricos)</td>\n      <td>NaN</td>\n    </tr>\n    <tr>\n      <th>174</th>\n      <td>NaN</td>\n      <td>NaN</td>\n      <td>NaN</td>\n      <td>NaN</td>\n    </tr>\n  </tbody>\n</table>\n<p>175 rows × 4 columns</p>\n</div>"
     },
     "execution_count": 23,
     "metadata": {},
     "output_type": "execute_result"
    }
   ],
   "source": [
    "curated_hs"
   ],
   "metadata": {
    "collapsed": false
   }
  },
  {
   "cell_type": "code",
   "execution_count": 24,
   "outputs": [
    {
     "name": "stdout",
     "output_type": "stream",
     "text": [
      "Database connected successfully!\n"
     ]
    }
   ],
   "source": [
    "# Add it to the database\n",
    "db = mongo_utilities.connect() # Connect to the database"
   ],
   "metadata": {
    "collapsed": false
   }
  },
  {
   "cell_type": "code",
   "execution_count": 25,
   "outputs": [],
   "source": [
    "collection = db['peru_exports_headings'] # Use (or create) the collection]"
   ],
   "metadata": {
    "collapsed": false
   }
  },
  {
   "cell_type": "code",
   "execution_count": 26,
   "outputs": [
    {
     "name": "stdout",
     "output_type": "stream",
     "text": [
      "Headings added to database\n"
     ]
    }
   ],
   "source": [
    "# Convert the dataframe into a dict\n",
    "curated_hs = curated_hs.to_dict('records')\n",
    "# Insert the data\n",
    "try:\n",
    "    result = collection.insert_many(curated_hs)\n",
    "    print(\"Headings added to database\")\n",
    "except Exception as e:\n",
    "    print(\"An exception occurred ::\", e)"
   ],
   "metadata": {
    "collapsed": false
   }
  }
 ],
 "metadata": {
  "kernelspec": {
   "display_name": "Python 3",
   "language": "python",
   "name": "python3"
  },
  "language_info": {
   "codemirror_mode": {
    "name": "ipython",
    "version": 2
   },
   "file_extension": ".py",
   "mimetype": "text/x-python",
   "name": "python",
   "nbconvert_exporter": "python",
   "pygments_lexer": "ipython2",
   "version": "2.7.6"
  }
 },
 "nbformat": 4,
 "nbformat_minor": 0
}
