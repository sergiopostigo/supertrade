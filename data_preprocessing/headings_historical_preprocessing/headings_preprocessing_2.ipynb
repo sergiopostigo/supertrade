{
 "cells": [
  {
   "cell_type": "markdown",
   "source": [
    "## Headings Historical Preprocessing (Part 2)\n",
    "\n",
    "Once manual curation is performed send the curated headings data to the Formatted Zone in PostgreSQL"
   ],
   "metadata": {
    "collapsed": false
   }
  },
  {
   "cell_type": "code",
   "execution_count": null,
   "outputs": [],
   "source": [
    "import pandas as pd\n",
    "from database_settings import postgres_utilities\n",
    "import os"
   ],
   "metadata": {
    "collapsed": false
   }
  },
  {
   "cell_type": "code",
   "execution_count": null,
   "outputs": [],
   "source": [
    "# EDIT HERE (add the name of the file created in part 1)\n",
    "file_name = 'hs_curated_16802764885702.csv'"
   ],
   "metadata": {
    "collapsed": false
   }
  },
  {
   "cell_type": "code",
   "execution_count": null,
   "outputs": [],
   "source": [
    "# Import the manually curated CSV\n",
    "curated_hs = pd.read_csv('./'+file_name)\n",
    "curated_hs"
   ],
   "metadata": {
    "collapsed": false
   }
  },
  {
   "cell_type": "code",
   "execution_count": null,
   "outputs": [],
   "source": [
    "# Add it to the formatted zone\n",
    "\n",
    "# Establish the connection with the database\n",
    "conn = postgres_utilities.connect()\n",
    "engine = postgres_utilities.engine()\n",
    "\n",
    "# Rename the columns and write in the database\n",
    "try:\n",
    "    curated_hs[['HS','CURATED_DESCRIP', 'MAPPED_TO']]\\\n",
    "        .rename(columns={\"HS\": \"heading\", \"CURATED_DESCRIP\": \"description\", 'MAPPED_TO':'mapped_to'})\\\n",
    "        .to_sql('peru_exports_headings', engine, if_exists='append', index=False)\n",
    "    print(\"DataFrame sent to PostgreSQL table successfully!\")\n",
    "\n",
    "except Exception as e:\n",
    "        print(f\"Error while sending DataFrame to PostgreSQL table: {e}\")"
   ],
   "metadata": {
    "collapsed": false
   }
  },
  {
   "cell_type": "code",
   "execution_count": null,
   "outputs": [],
   "source": [
    "# Remove the manually curated file once it's data is already in the Formatted Zone\n",
    "instruction = \"Since the data is already in PostgreSQL, remove file {}?\".format(file_name)\n",
    "user_input = input(instruction + \" (yes/no): \").lower()\n",
    "if user_input == 'yes' or user_input == 'y':\n",
    "    os.remove('./'+file_name)\n",
    "    print('File {} deleted'.format(file_name))\n",
    "elif user_input == 'no' or user_input == 'n':\n",
    "    print('Deletion of file {} cancelled'.format(file_name))\n",
    "else:\n",
    "    print(\"Invalid input. Please enter 'yes' or 'no'.\")"
   ],
   "metadata": {
    "collapsed": false
   }
  },
  {
   "cell_type": "code",
   "execution_count": null,
   "outputs": [],
   "source": [
    "# Enviar a PostgreSQL\n",
    "# Una vez que tenga los headings en postgres, subo la otra data filtrando por headings, asi tengo una tabla de exportaciones de frutas y verduras con headings etiquetados. Ese es el orden, primero tabla de headings (incluso incremental) y luego datos"
   ],
   "metadata": {
    "collapsed": false
   }
  }
 ],
 "metadata": {
  "kernelspec": {
   "display_name": "Python 3",
   "language": "python",
   "name": "python3"
  },
  "language_info": {
   "codemirror_mode": {
    "name": "ipython",
    "version": 2
   },
   "file_extension": ".py",
   "mimetype": "text/x-python",
   "name": "python",
   "nbconvert_exporter": "python",
   "pygments_lexer": "ipython2",
   "version": "2.7.6"
  }
 },
 "nbformat": 4,
 "nbformat_minor": 0
}
