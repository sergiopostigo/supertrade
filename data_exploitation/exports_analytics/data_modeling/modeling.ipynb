{
 "cells": [
  {
   "cell_type": "markdown",
   "source": [
    "## Modeling\n",
    "\n",
    "Create different models for each product's time-series\n"
   ],
   "metadata": {
    "collapsed": false
   }
  },
  {
   "cell_type": "code",
   "execution_count": 2,
   "metadata": {
    "collapsed": true
   },
   "outputs": [
    {
     "name": "stderr",
     "output_type": "stream",
     "text": [
      "Importing plotly failed. Interactive plots will not work.\n"
     ]
    }
   ],
   "source": [
    "from data_exploitation.exports_analytics.data.scripts import time_series_generator\n",
    "from data_exploitation.exports_analytics.exploratory_data_analysis.scripts import time_granularities_analysis, time_granularities_generator\n",
    "from database_settings import postgres_utilities\n",
    "import pandas as pd\n",
    "import numpy as np\n",
    "import math\n",
    "import statsmodels.api as sm\n",
    "from scipy.stats import pearsonr\n",
    "from data_exploitation.exports_analytics.data_modeling.models import linear_regression, gam, prophet_1, prophet_2, prophet_3, arima, gradient_boosting\n",
    "from tqdm.notebook import tqdm\n"
   ]
  },
  {
   "cell_type": "markdown",
   "source": [
    "### Get available headings"
   ],
   "metadata": {
    "collapsed": false
   }
  },
  {
   "cell_type": "code",
   "execution_count": 3,
   "outputs": [
    {
     "name": "stdout",
     "output_type": "stream",
     "text": [
      "Connected to Formatted Zone successfully!\n"
     ]
    },
    {
     "data": {
      "text/plain": "       heading                                        description\n0   0712909000  Otras hortalizas y mezclas de hortalizas corta...\n1   0805291000  Tangelo (Citrus reticulata x Citrus paradisis)...\n2   0810400000  Arándanos rojos, mirtilos y demas frutos del g...\n3   0713359000  Frijoles (fréjoles, porotos, alubias, judías) ...\n4   0805502100  Limón (limón sutil, limón común, limón criollo...\n5   0810901000  Granadilla, maracuya (parchita) y demas frutas...\n6   0702000000                     Tomates frescos o refrigerados\n7   0709999000            Otras hortalizas frescas o refrigeradas\n8   0801220000                      Nueces del Brasil sin cáscara\n9   0710400000             Maiz dulce incluso cocidos, congelados\n10  0713339200  Frijoles (fréjoles, porotos, alubias, judías) ...\n11  0811909400  Maracuyá (parchita) (Passiflora edulis) inclus...\n12  0709200000                  Espárragos frescos o refrigerados\n13  0804502000               Mangos y mangostanes frescos o secos\n14  0813400000                        Otros frutas o frutos secos\n15  0714209000  Camotes (batatas, boniatos) frescos, refrigera...\n16  0709600000  Frutos de los géneros Capsicum o Pimenta fresc...\n17  0811909100  Mango (Mangifera indica L) incluso cocidos, co...\n18  0804400000                 Aguacates (paltas) frescos o secos\n19  0714909000                          Otras raíces y tubérculos\n20  0810100000                         Fresas (frutillas) frescas\n21  0811909900  Otros frutas o frutos incluso cocidos, congelados\n22  0805299000  Otros agrios (cítricos) similares a mandarinas...\n23  0714100000  Raíces de yuca (mandioca) frescos, refrigerado...\n24  0703209000   Ajos excepto para siembra frescos o refrigerados\n25  0711200000  Aceitunas conservadas provisionalmente para co...\n26  0713399100                      Pallares excepto para siembra\n27  0708100000  Arvejas (guisantes, chicharos) frescos o refri...\n28  0807110000                                    Sandías frescas\n29  0709930000  Calabazas (zapallos) y calabacines (Cucurbita ...\n30  0701900000  Papas (patatas) excepto para siembra, frescos ...\n31  0710801000             Espárragos incluso cocidos, congelados\n32  0805100000                           Naranjas frescas o secas\n33  0713509000  Habas (Vicia faba var. major), haba caballar (...\n34  0805502200  Lima Tahití (limón Tahití) (Citrus latifolia) ...\n35  0708200000  Frijoles (frejoles, porotos, alubias, judías) ...\n36  0703100000         Cebollas y chalotes frescos o refrigerados\n37  0710809000       Otras hortalizas incluso cocidas, congeladas\n38  0710100000        Papas (patatas) incluso cocidas, congeladas\n39  0805220000                        Clementinas frescas o secas\n40  0810909000                      Otras frutas o frutos frescos\n41  0804200000                              Higos fréscos o secos\n42  0803901100                   Bananas Cavendish Valery frescas\n43  0806100000                                       Uvas frescas\n44  0805210000  Mandarinas (incluidas las tangerinas y satsuma...\n45  0705190000  Lechugas excepto repolladas, frescas o refrige...\n46  0811109000  Fresas (frutillas) incluso cocidas, excepto az...",
      "text/html": "<div>\n<style scoped>\n    .dataframe tbody tr th:only-of-type {\n        vertical-align: middle;\n    }\n\n    .dataframe tbody tr th {\n        vertical-align: top;\n    }\n\n    .dataframe thead th {\n        text-align: right;\n    }\n</style>\n<table border=\"1\" class=\"dataframe\">\n  <thead>\n    <tr style=\"text-align: right;\">\n      <th></th>\n      <th>heading</th>\n      <th>description</th>\n    </tr>\n  </thead>\n  <tbody>\n    <tr>\n      <th>0</th>\n      <td>0712909000</td>\n      <td>Otras hortalizas y mezclas de hortalizas corta...</td>\n    </tr>\n    <tr>\n      <th>1</th>\n      <td>0805291000</td>\n      <td>Tangelo (Citrus reticulata x Citrus paradisis)...</td>\n    </tr>\n    <tr>\n      <th>2</th>\n      <td>0810400000</td>\n      <td>Arándanos rojos, mirtilos y demas frutos del g...</td>\n    </tr>\n    <tr>\n      <th>3</th>\n      <td>0713359000</td>\n      <td>Frijoles (fréjoles, porotos, alubias, judías) ...</td>\n    </tr>\n    <tr>\n      <th>4</th>\n      <td>0805502100</td>\n      <td>Limón (limón sutil, limón común, limón criollo...</td>\n    </tr>\n    <tr>\n      <th>5</th>\n      <td>0810901000</td>\n      <td>Granadilla, maracuya (parchita) y demas frutas...</td>\n    </tr>\n    <tr>\n      <th>6</th>\n      <td>0702000000</td>\n      <td>Tomates frescos o refrigerados</td>\n    </tr>\n    <tr>\n      <th>7</th>\n      <td>0709999000</td>\n      <td>Otras hortalizas frescas o refrigeradas</td>\n    </tr>\n    <tr>\n      <th>8</th>\n      <td>0801220000</td>\n      <td>Nueces del Brasil sin cáscara</td>\n    </tr>\n    <tr>\n      <th>9</th>\n      <td>0710400000</td>\n      <td>Maiz dulce incluso cocidos, congelados</td>\n    </tr>\n    <tr>\n      <th>10</th>\n      <td>0713339200</td>\n      <td>Frijoles (fréjoles, porotos, alubias, judías) ...</td>\n    </tr>\n    <tr>\n      <th>11</th>\n      <td>0811909400</td>\n      <td>Maracuyá (parchita) (Passiflora edulis) inclus...</td>\n    </tr>\n    <tr>\n      <th>12</th>\n      <td>0709200000</td>\n      <td>Espárragos frescos o refrigerados</td>\n    </tr>\n    <tr>\n      <th>13</th>\n      <td>0804502000</td>\n      <td>Mangos y mangostanes frescos o secos</td>\n    </tr>\n    <tr>\n      <th>14</th>\n      <td>0813400000</td>\n      <td>Otros frutas o frutos secos</td>\n    </tr>\n    <tr>\n      <th>15</th>\n      <td>0714209000</td>\n      <td>Camotes (batatas, boniatos) frescos, refrigera...</td>\n    </tr>\n    <tr>\n      <th>16</th>\n      <td>0709600000</td>\n      <td>Frutos de los géneros Capsicum o Pimenta fresc...</td>\n    </tr>\n    <tr>\n      <th>17</th>\n      <td>0811909100</td>\n      <td>Mango (Mangifera indica L) incluso cocidos, co...</td>\n    </tr>\n    <tr>\n      <th>18</th>\n      <td>0804400000</td>\n      <td>Aguacates (paltas) frescos o secos</td>\n    </tr>\n    <tr>\n      <th>19</th>\n      <td>0714909000</td>\n      <td>Otras raíces y tubérculos</td>\n    </tr>\n    <tr>\n      <th>20</th>\n      <td>0810100000</td>\n      <td>Fresas (frutillas) frescas</td>\n    </tr>\n    <tr>\n      <th>21</th>\n      <td>0811909900</td>\n      <td>Otros frutas o frutos incluso cocidos, congelados</td>\n    </tr>\n    <tr>\n      <th>22</th>\n      <td>0805299000</td>\n      <td>Otros agrios (cítricos) similares a mandarinas...</td>\n    </tr>\n    <tr>\n      <th>23</th>\n      <td>0714100000</td>\n      <td>Raíces de yuca (mandioca) frescos, refrigerado...</td>\n    </tr>\n    <tr>\n      <th>24</th>\n      <td>0703209000</td>\n      <td>Ajos excepto para siembra frescos o refrigerados</td>\n    </tr>\n    <tr>\n      <th>25</th>\n      <td>0711200000</td>\n      <td>Aceitunas conservadas provisionalmente para co...</td>\n    </tr>\n    <tr>\n      <th>26</th>\n      <td>0713399100</td>\n      <td>Pallares excepto para siembra</td>\n    </tr>\n    <tr>\n      <th>27</th>\n      <td>0708100000</td>\n      <td>Arvejas (guisantes, chicharos) frescos o refri...</td>\n    </tr>\n    <tr>\n      <th>28</th>\n      <td>0807110000</td>\n      <td>Sandías frescas</td>\n    </tr>\n    <tr>\n      <th>29</th>\n      <td>0709930000</td>\n      <td>Calabazas (zapallos) y calabacines (Cucurbita ...</td>\n    </tr>\n    <tr>\n      <th>30</th>\n      <td>0701900000</td>\n      <td>Papas (patatas) excepto para siembra, frescos ...</td>\n    </tr>\n    <tr>\n      <th>31</th>\n      <td>0710801000</td>\n      <td>Espárragos incluso cocidos, congelados</td>\n    </tr>\n    <tr>\n      <th>32</th>\n      <td>0805100000</td>\n      <td>Naranjas frescas o secas</td>\n    </tr>\n    <tr>\n      <th>33</th>\n      <td>0713509000</td>\n      <td>Habas (Vicia faba var. major), haba caballar (...</td>\n    </tr>\n    <tr>\n      <th>34</th>\n      <td>0805502200</td>\n      <td>Lima Tahití (limón Tahití) (Citrus latifolia) ...</td>\n    </tr>\n    <tr>\n      <th>35</th>\n      <td>0708200000</td>\n      <td>Frijoles (frejoles, porotos, alubias, judías) ...</td>\n    </tr>\n    <tr>\n      <th>36</th>\n      <td>0703100000</td>\n      <td>Cebollas y chalotes frescos o refrigerados</td>\n    </tr>\n    <tr>\n      <th>37</th>\n      <td>0710809000</td>\n      <td>Otras hortalizas incluso cocidas, congeladas</td>\n    </tr>\n    <tr>\n      <th>38</th>\n      <td>0710100000</td>\n      <td>Papas (patatas) incluso cocidas, congeladas</td>\n    </tr>\n    <tr>\n      <th>39</th>\n      <td>0805220000</td>\n      <td>Clementinas frescas o secas</td>\n    </tr>\n    <tr>\n      <th>40</th>\n      <td>0810909000</td>\n      <td>Otras frutas o frutos frescos</td>\n    </tr>\n    <tr>\n      <th>41</th>\n      <td>0804200000</td>\n      <td>Higos fréscos o secos</td>\n    </tr>\n    <tr>\n      <th>42</th>\n      <td>0803901100</td>\n      <td>Bananas Cavendish Valery frescas</td>\n    </tr>\n    <tr>\n      <th>43</th>\n      <td>0806100000</td>\n      <td>Uvas frescas</td>\n    </tr>\n    <tr>\n      <th>44</th>\n      <td>0805210000</td>\n      <td>Mandarinas (incluidas las tangerinas y satsuma...</td>\n    </tr>\n    <tr>\n      <th>45</th>\n      <td>0705190000</td>\n      <td>Lechugas excepto repolladas, frescas o refrige...</td>\n    </tr>\n    <tr>\n      <th>46</th>\n      <td>0811109000</td>\n      <td>Fresas (frutillas) incluso cocidas, excepto az...</td>\n    </tr>\n  </tbody>\n</table>\n</div>"
     },
     "execution_count": 3,
     "metadata": {},
     "output_type": "execute_result"
    }
   ],
   "source": [
    "# Get available headings from peru_exports_sandbox\n",
    "engine = postgres_utilities.engine()\n",
    "available_headings = postgres_utilities.run_query_file(engine,\n",
    "                                                       './../data/queries/read_available_headings.sql')\n",
    "available_headings = pd.DataFrame(available_headings)\n",
    "available_headings"
   ],
   "metadata": {
    "collapsed": false
   }
  },
  {
   "cell_type": "markdown",
   "source": [
    "### Get models for each heading"
   ],
   "metadata": {
    "collapsed": false
   }
  },
  {
   "cell_type": "markdown",
   "source": [
    "#### Multi-step models\n"
   ],
   "metadata": {
    "collapsed": false
   }
  },
  {
   "cell_type": "code",
   "execution_count": null,
   "outputs": [],
   "source": [
    "# Set the observations options\n",
    "observations_options = ['usd_kg', 'net_weight']\n",
    "# Model's metrics dataframe\n",
    "metrics_df = pd.DataFrame(columns=['heading', 'type', 'steps','model', 'rmse', 'mae'])\n",
    "\n",
    "for heading in tqdm(available_headings['heading'].values):\n",
    "\n",
    "    # Choose a heading\n",
    "    chosen_heading = heading\n",
    "    print('Analyzing {}...'.format(chosen_heading))\n",
    "    # Iterate trough obsevation options\n",
    "    for observations in observations_options:\n",
    "        # Get the time-series\n",
    "        ts = time_series_generator.generate(chosen_heading, observations)\n",
    "\n",
    "        #-------------------------------------\n",
    "        # Cyclic-time granularities generation\n",
    "        #-------------------------------------\n",
    "        time_granularities, priority = time_granularities_generator.generate(ts.start_date, ts.end_date)\n",
    "        data = pd.concat([ts.data, time_granularities], axis=1)\n",
    "        #-------------------------------------\n",
    "\n",
    "\n",
    "        #-------------------------------------\n",
    "        # Seasonality analysis\n",
    "        #-------------------------------------\n",
    "        # Define the granularities to analyze\n",
    "        granularities = ['semester_in_year',\n",
    "                         'quarter_in_year',\n",
    "                         'month_in_year',\n",
    "                         'month_in_semester',\n",
    "                         'month_in_quarter',\n",
    "                         'quarter_in_semester',\n",
    "                         'day_in_month',\n",
    "                         'day_in_week',\n",
    "                         'week_in_year',\n",
    "                         'week_in_semester',\n",
    "                         'week_in_quarter',\n",
    "                         'week_in_month']\n",
    "\n",
    "        selected_granularities = []\n",
    "        for g in granularities:\n",
    "            # print('Analyzing {}...'.format(g))\n",
    "            seasonality_analysis = time_granularities_analysis.analysis(cyclic_granularity=g,\n",
    "                                            observations=observations,\n",
    "                                            data=data)\n",
    "            if seasonality_analysis.is_seasonal():\n",
    "                selected_granularities.append(g)\n",
    "        selected_granularities = [x for x in priority if x in selected_granularities]\n",
    "        print(\"The time-series has {} seasonalities detected\".format(len(selected_granularities)))\n",
    "        #-------------------------------------\n",
    "\n",
    "        #-------------------------------------\n",
    "        # GMST decomposition\n",
    "        #-------------------------------------\n",
    "\n",
    "        # Get the time-series\n",
    "        time_series = data[observations].values\n",
    "\n",
    "        #--------------\n",
    "        # SEASONALITIES\n",
    "        #--------------\n",
    "        # Initialize the seasonal patterns\n",
    "        seasonal_patterns = {}\n",
    "\n",
    "        # Get the pattern for every granularity\n",
    "        for granularity in selected_granularities:\n",
    "\n",
    "            # Get the label of every observation\n",
    "            labels = data[granularity].values\n",
    "            # Generate the pattern\n",
    "            pattern = []\n",
    "            for label in labels:\n",
    "                value = np.mean(time_series[np.where(labels == label)])\n",
    "                pattern.append(value)\n",
    "            seasonal_patterns[granularity] = pattern\n",
    "        #--------------\n",
    "\n",
    "        #------\n",
    "        # TREND\n",
    "        #------\n",
    "        # Initialize the parameters\n",
    "        percentage = 0.00 # fraction of datapoints taken in the lowess smoothing\n",
    "        statistic_th = 0.05 # threshold for the distance metric\n",
    "        alpha = 0.05 # threshold for significance\n",
    "\n",
    "        correlation_exists = True\n",
    "\n",
    "        while(correlation_exists ## while they are correlated\n",
    "              and\n",
    "              not(math.isclose(percentage, 1)) # while the fraction for the lowess isn't 100%\n",
    "        ):\n",
    "            # Increase the percentage\n",
    "            percentage = round(percentage + 0.01, 2)\n",
    "\n",
    "            # Get the trend\n",
    "            trend = sm.nonparametric.lowess(data[observations], data.index, frac=percentage)[:, 1]\n",
    "            # Initialize the statistics summary\n",
    "            pearson_correlations ={}\n",
    "            # Make the comparisons\n",
    "            for granularity, seasonal_pattern in seasonal_patterns.items():\n",
    "\n",
    "                # Compute Pearson correlation coefficient and p-value\n",
    "                analysis = pearsonr(seasonal_pattern, trend)\n",
    "\n",
    "                pearson_correlations[granularity] = {'statistic':analysis.statistic, 'pvalue':analysis.pvalue}\n",
    "\n",
    "            # Get the max correlation\n",
    "            granularity, metrics = max(pearson_correlations.items(), key=lambda x: abs(x[1]['statistic']))\n",
    "            statistic = metrics['statistic']\n",
    "\n",
    "            # If the max correlation is smaller than the threshold, assess its significance\n",
    "            if abs(statistic) < statistic_th:\n",
    "                pvalue = pearson_correlations[granularity]['pvalue']/2\n",
    "                # print('pvalue: {}'.format(pvalue))\n",
    "                # If the pvalue is smaller than the threshold, it's significant\n",
    "                if pvalue < alpha:\n",
    "                    correlation_exists = False\n",
    "\n",
    "        pearson_correlations = pd.DataFrame.from_dict(pearson_correlations, orient='index')\n",
    "        print('Trend\\'s smoothing fraction chosen: {}'.format(percentage))\n",
    "        #------\n",
    "\n",
    "        # Make an array with the decomposition results\n",
    "        X = np.array([trend] + list(seasonal_patterns.values())).T\n",
    "\n",
    "        #-------------------------------------\n",
    "\n",
    "        #-------------------------------------\n",
    "        # Multi-step models\n",
    "        #-------------------------------------\n",
    "        explanatory_variables = X\n",
    "        target_variable = data[observations].values\n",
    "        target_name = observations\n",
    "        timepoints = data.index\n",
    "        training_fraction = 0.8\n",
    "        steps = [30, 60, 90]\n",
    "\n",
    "        for s in steps:\n",
    "            print('{} steps'.format(s))\n",
    "            models = {'linear_regression':linear_regression,\n",
    "                      'gam':gam,\n",
    "                      'prophet_3':prophet_3,\n",
    "                      'arima': arima,\n",
    "                      'gradient_boosting':gradient_boosting}\n",
    "            for model_name, model in models.items():\n",
    "                m = model.model(explanatory_variables = explanatory_variables,\n",
    "                                target_variable = target_variable,\n",
    "                                target_name = target_name,\n",
    "                                timepoints = timepoints,\n",
    "                                training_fraction = training_fraction,\n",
    "                                steps = s)\n",
    "                assessment = m.test()\n",
    "                metrics = {'heading': [chosen_heading],\n",
    "                          'type':[observations],\n",
    "                          'steps':[s],\n",
    "                          'model': [model_name],\n",
    "                          'rmse': [assessment['rmse']],\n",
    "                          'mae':[assessment['mae']]}\n",
    "                metrics_df = pd.concat([metrics_df, pd.DataFrame(metrics)], ignore_index = True)\n",
    "\n",
    "# Save all\n",
    "metrics_df.to_csv('./multi_step_models_metrics.csv')"
   ],
   "metadata": {
    "collapsed": false,
    "pycharm": {
     "is_executing": true
    }
   }
  },
  {
   "cell_type": "markdown",
   "source": [
    "#### Non-multistep models\n"
   ],
   "metadata": {
    "collapsed": false
   }
  },
  {
   "cell_type": "code",
   "execution_count": 5,
   "outputs": [
    {
     "data": {
      "text/plain": "  0%|          | 0/47 [00:00<?, ?it/s]",
      "application/vnd.jupyter.widget-view+json": {
       "version_major": 2,
       "version_minor": 0,
       "model_id": "46fd53b87d4a4d2aad684c318b0093dd"
      }
     },
     "metadata": {},
     "output_type": "display_data"
    },
    {
     "name": "stdout",
     "output_type": "stream",
     "text": [
      "Analyzing 0712909000...\n",
      "The time-series has 8 seasonalities detected\n"
     ]
    },
    {
     "name": "stderr",
     "output_type": "stream",
     "text": [
      "10:10:09 - cmdstanpy - INFO - Chain [1] start processing\n"
     ]
    },
    {
     "name": "stdout",
     "output_type": "stream",
     "text": [
      "Trend's smoothing fraction chosen: 0.4\n"
     ]
    },
    {
     "name": "stderr",
     "output_type": "stream",
     "text": [
      "10:10:09 - cmdstanpy - INFO - Chain [1] done processing\n",
      "10:10:10 - cmdstanpy - INFO - Chain [1] start processing\n",
      "10:10:10 - cmdstanpy - INFO - Chain [1] done processing\n"
     ]
    },
    {
     "name": "stdout",
     "output_type": "stream",
     "text": [
      "The time-series has 3 seasonalities detected\n"
     ]
    },
    {
     "name": "stderr",
     "output_type": "stream",
     "text": [
      "10:10:41 - cmdstanpy - INFO - Chain [1] start processing\n",
      "10:10:41 - cmdstanpy - INFO - Chain [1] done processing\n"
     ]
    },
    {
     "name": "stdout",
     "output_type": "stream",
     "text": [
      "Trend's smoothing fraction chosen: 0.09\n"
     ]
    },
    {
     "name": "stderr",
     "output_type": "stream",
     "text": [
      "10:10:42 - cmdstanpy - INFO - Chain [1] start processing\n",
      "10:10:42 - cmdstanpy - INFO - Chain [1] done processing\n"
     ]
    },
    {
     "name": "stdout",
     "output_type": "stream",
     "text": [
      "Analyzing 0805291000...\n",
      "The time-series has 9 seasonalities detected\n"
     ]
    },
    {
     "name": "stderr",
     "output_type": "stream",
     "text": [
      "10:11:19 - cmdstanpy - INFO - Chain [1] start processing\n"
     ]
    },
    {
     "name": "stdout",
     "output_type": "stream",
     "text": [
      "Trend's smoothing fraction chosen: 0.34\n"
     ]
    },
    {
     "name": "stderr",
     "output_type": "stream",
     "text": [
      "10:11:19 - cmdstanpy - INFO - Chain [1] done processing\n",
      "10:11:20 - cmdstanpy - INFO - Chain [1] start processing\n",
      "10:11:20 - cmdstanpy - INFO - Chain [1] done processing\n"
     ]
    },
    {
     "name": "stdout",
     "output_type": "stream",
     "text": [
      "The time-series has 9 seasonalities detected\n"
     ]
    },
    {
     "name": "stderr",
     "output_type": "stream",
     "text": [
      "10:11:56 - cmdstanpy - INFO - Chain [1] start processing\n",
      "10:11:56 - cmdstanpy - INFO - Chain [1] done processing\n"
     ]
    },
    {
     "name": "stdout",
     "output_type": "stream",
     "text": [
      "Trend's smoothing fraction chosen: 0.3\n"
     ]
    },
    {
     "name": "stderr",
     "output_type": "stream",
     "text": [
      "10:11:56 - cmdstanpy - INFO - Chain [1] start processing\n",
      "10:11:56 - cmdstanpy - INFO - Chain [1] done processing\n",
      "10:11:56 - cmdstanpy - ERROR - Chain [1] error: error during processing Operation not permitted\n",
      "Optimization terminated abnormally. Falling back to Newton.\n",
      "10:11:57 - cmdstanpy - INFO - Chain [1] start processing\n",
      "10:11:58 - cmdstanpy - INFO - Chain [1] done processing\n"
     ]
    },
    {
     "name": "stdout",
     "output_type": "stream",
     "text": [
      "Analyzing 0810400000...\n",
      "The time-series has 9 seasonalities detected\n"
     ]
    },
    {
     "name": "stderr",
     "output_type": "stream",
     "text": [
      "10:12:35 - cmdstanpy - INFO - Chain [1] start processing\n"
     ]
    },
    {
     "name": "stdout",
     "output_type": "stream",
     "text": [
      "Trend's smoothing fraction chosen: 0.22\n"
     ]
    },
    {
     "name": "stderr",
     "output_type": "stream",
     "text": [
      "10:12:35 - cmdstanpy - INFO - Chain [1] done processing\n",
      "10:12:35 - cmdstanpy - INFO - Chain [1] start processing\n",
      "10:12:35 - cmdstanpy - INFO - Chain [1] done processing\n"
     ]
    },
    {
     "name": "stdout",
     "output_type": "stream",
     "text": [
      "The time-series has 8 seasonalities detected\n"
     ]
    },
    {
     "name": "stderr",
     "output_type": "stream",
     "text": [
      "10:13:13 - cmdstanpy - INFO - Chain [1] start processing\n"
     ]
    },
    {
     "name": "stdout",
     "output_type": "stream",
     "text": [
      "Trend's smoothing fraction chosen: 0.3\n"
     ]
    },
    {
     "name": "stderr",
     "output_type": "stream",
     "text": [
      "10:13:13 - cmdstanpy - INFO - Chain [1] done processing\n",
      "10:13:13 - cmdstanpy - INFO - Chain [1] start processing\n",
      "10:13:13 - cmdstanpy - INFO - Chain [1] done processing\n",
      "10:13:13 - cmdstanpy - ERROR - Chain [1] error: error during processing Operation not permitted\n",
      "Optimization terminated abnormally. Falling back to Newton.\n",
      "10:13:13 - cmdstanpy - INFO - Chain [1] start processing\n",
      "10:13:17 - cmdstanpy - INFO - Chain [1] done processing\n"
     ]
    },
    {
     "name": "stdout",
     "output_type": "stream",
     "text": [
      "Analyzing 0713359000...\n",
      "The time-series has 5 seasonalities detected\n"
     ]
    },
    {
     "name": "stderr",
     "output_type": "stream",
     "text": [
      "10:13:49 - cmdstanpy - INFO - Chain [1] start processing\n"
     ]
    },
    {
     "name": "stdout",
     "output_type": "stream",
     "text": [
      "Trend's smoothing fraction chosen: 0.14\n"
     ]
    },
    {
     "name": "stderr",
     "output_type": "stream",
     "text": [
      "10:13:49 - cmdstanpy - INFO - Chain [1] done processing\n",
      "10:13:49 - cmdstanpy - INFO - Chain [1] start processing\n",
      "10:13:49 - cmdstanpy - INFO - Chain [1] done processing\n"
     ]
    },
    {
     "name": "stdout",
     "output_type": "stream",
     "text": [
      "The time-series has 3 seasonalities detected\n"
     ]
    },
    {
     "name": "stderr",
     "output_type": "stream",
     "text": [
      "10:14:21 - cmdstanpy - INFO - Chain [1] start processing\n"
     ]
    },
    {
     "name": "stdout",
     "output_type": "stream",
     "text": [
      "Trend's smoothing fraction chosen: 0.12\n"
     ]
    },
    {
     "name": "stderr",
     "output_type": "stream",
     "text": [
      "10:14:21 - cmdstanpy - INFO - Chain [1] done processing\n",
      "10:14:21 - cmdstanpy - INFO - Chain [1] start processing\n",
      "10:14:21 - cmdstanpy - INFO - Chain [1] done processing\n",
      "10:14:21 - cmdstanpy - ERROR - Chain [1] error: error during processing Operation not permitted\n",
      "Optimization terminated abnormally. Falling back to Newton.\n",
      "10:14:22 - cmdstanpy - INFO - Chain [1] start processing\n",
      "10:14:24 - cmdstanpy - INFO - Chain [1] done processing\n"
     ]
    },
    {
     "name": "stdout",
     "output_type": "stream",
     "text": [
      "Analyzing 0805502100...\n",
      "The time-series has 9 seasonalities detected\n"
     ]
    },
    {
     "name": "stderr",
     "output_type": "stream",
     "text": [
      "10:14:58 - cmdstanpy - INFO - Chain [1] start processing\n"
     ]
    },
    {
     "name": "stdout",
     "output_type": "stream",
     "text": [
      "Trend's smoothing fraction chosen: 0.17\n"
     ]
    },
    {
     "name": "stderr",
     "output_type": "stream",
     "text": [
      "10:14:58 - cmdstanpy - INFO - Chain [1] done processing\n",
      "10:14:58 - cmdstanpy - INFO - Chain [1] start processing\n",
      "10:14:58 - cmdstanpy - INFO - Chain [1] done processing\n"
     ]
    },
    {
     "name": "stdout",
     "output_type": "stream",
     "text": [
      "The time-series has 5 seasonalities detected\n"
     ]
    },
    {
     "name": "stderr",
     "output_type": "stream",
     "text": [
      "10:15:33 - cmdstanpy - INFO - Chain [1] start processing\n"
     ]
    },
    {
     "name": "stdout",
     "output_type": "stream",
     "text": [
      "Trend's smoothing fraction chosen: 0.26\n"
     ]
    },
    {
     "name": "stderr",
     "output_type": "stream",
     "text": [
      "10:15:34 - cmdstanpy - INFO - Chain [1] done processing\n",
      "10:15:34 - cmdstanpy - INFO - Chain [1] start processing\n",
      "10:15:34 - cmdstanpy - INFO - Chain [1] done processing\n",
      "10:15:34 - cmdstanpy - ERROR - Chain [1] error: error during processing Operation not permitted\n",
      "Optimization terminated abnormally. Falling back to Newton.\n",
      "10:15:34 - cmdstanpy - INFO - Chain [1] start processing\n",
      "10:15:39 - cmdstanpy - INFO - Chain [1] done processing\n"
     ]
    },
    {
     "name": "stdout",
     "output_type": "stream",
     "text": [
      "Analyzing 0810901000...\n",
      "The time-series has 7 seasonalities detected\n"
     ]
    },
    {
     "name": "stderr",
     "output_type": "stream",
     "text": [
      "10:16:17 - cmdstanpy - INFO - Chain [1] start processing\n"
     ]
    },
    {
     "name": "stdout",
     "output_type": "stream",
     "text": [
      "Trend's smoothing fraction chosen: 0.19\n"
     ]
    },
    {
     "name": "stderr",
     "output_type": "stream",
     "text": [
      "10:16:18 - cmdstanpy - INFO - Chain [1] done processing\n",
      "10:16:18 - cmdstanpy - INFO - Chain [1] start processing\n",
      "10:16:18 - cmdstanpy - INFO - Chain [1] done processing\n"
     ]
    },
    {
     "name": "stdout",
     "output_type": "stream",
     "text": [
      "The time-series has 4 seasonalities detected\n"
     ]
    },
    {
     "name": "stderr",
     "output_type": "stream",
     "text": [
      "10:16:55 - cmdstanpy - INFO - Chain [1] start processing\n"
     ]
    },
    {
     "name": "stdout",
     "output_type": "stream",
     "text": [
      "Trend's smoothing fraction chosen: 0.2\n"
     ]
    },
    {
     "name": "stderr",
     "output_type": "stream",
     "text": [
      "10:16:55 - cmdstanpy - INFO - Chain [1] done processing\n",
      "10:16:55 - cmdstanpy - INFO - Chain [1] start processing\n",
      "10:16:56 - cmdstanpy - INFO - Chain [1] done processing\n"
     ]
    },
    {
     "name": "stdout",
     "output_type": "stream",
     "text": [
      "Analyzing 0702000000...\n",
      "The time-series has 8 seasonalities detected\n"
     ]
    },
    {
     "name": "stderr",
     "output_type": "stream",
     "text": [
      "10:17:29 - cmdstanpy - INFO - Chain [1] start processing\n"
     ]
    },
    {
     "name": "stdout",
     "output_type": "stream",
     "text": [
      "Trend's smoothing fraction chosen: 0.16\n"
     ]
    },
    {
     "name": "stderr",
     "output_type": "stream",
     "text": [
      "10:17:30 - cmdstanpy - INFO - Chain [1] done processing\n",
      "10:17:30 - cmdstanpy - INFO - Chain [1] start processing\n",
      "10:17:30 - cmdstanpy - INFO - Chain [1] done processing\n"
     ]
    },
    {
     "name": "stdout",
     "output_type": "stream",
     "text": [
      "The time-series has 9 seasonalities detected\n"
     ]
    },
    {
     "name": "stderr",
     "output_type": "stream",
     "text": [
      "10:18:12 - cmdstanpy - INFO - Chain [1] start processing\n"
     ]
    },
    {
     "name": "stdout",
     "output_type": "stream",
     "text": [
      "Trend's smoothing fraction chosen: 0.53\n"
     ]
    },
    {
     "name": "stderr",
     "output_type": "stream",
     "text": [
      "10:18:12 - cmdstanpy - INFO - Chain [1] done processing\n",
      "10:18:13 - cmdstanpy - INFO - Chain [1] start processing\n",
      "10:18:13 - cmdstanpy - INFO - Chain [1] done processing\n"
     ]
    },
    {
     "name": "stdout",
     "output_type": "stream",
     "text": [
      "Analyzing 0709999000...\n",
      "The time-series has 8 seasonalities detected\n"
     ]
    },
    {
     "name": "stderr",
     "output_type": "stream",
     "text": [
      "10:18:47 - cmdstanpy - INFO - Chain [1] start processing\n"
     ]
    },
    {
     "name": "stdout",
     "output_type": "stream",
     "text": [
      "Trend's smoothing fraction chosen: 0.22\n"
     ]
    },
    {
     "name": "stderr",
     "output_type": "stream",
     "text": [
      "10:18:47 - cmdstanpy - INFO - Chain [1] done processing\n",
      "10:18:48 - cmdstanpy - INFO - Chain [1] start processing\n",
      "10:18:48 - cmdstanpy - INFO - Chain [1] done processing\n"
     ]
    },
    {
     "name": "stdout",
     "output_type": "stream",
     "text": [
      "The time-series has 5 seasonalities detected\n"
     ]
    },
    {
     "name": "stderr",
     "output_type": "stream",
     "text": [
      "10:19:21 - cmdstanpy - INFO - Chain [1] start processing\n"
     ]
    },
    {
     "name": "stdout",
     "output_type": "stream",
     "text": [
      "Trend's smoothing fraction chosen: 0.19\n"
     ]
    },
    {
     "name": "stderr",
     "output_type": "stream",
     "text": [
      "10:19:21 - cmdstanpy - INFO - Chain [1] done processing\n",
      "10:19:22 - cmdstanpy - INFO - Chain [1] start processing\n",
      "10:19:22 - cmdstanpy - INFO - Chain [1] done processing\n"
     ]
    },
    {
     "name": "stdout",
     "output_type": "stream",
     "text": [
      "Analyzing 0801220000...\n",
      "The time-series has 10 seasonalities detected\n"
     ]
    },
    {
     "name": "stderr",
     "output_type": "stream",
     "text": [
      "10:19:56 - cmdstanpy - INFO - Chain [1] start processing\n"
     ]
    },
    {
     "name": "stdout",
     "output_type": "stream",
     "text": [
      "Trend's smoothing fraction chosen: 0.21\n"
     ]
    },
    {
     "name": "stderr",
     "output_type": "stream",
     "text": [
      "10:19:56 - cmdstanpy - INFO - Chain [1] done processing\n",
      "10:19:57 - cmdstanpy - INFO - Chain [1] start processing\n",
      "10:19:57 - cmdstanpy - INFO - Chain [1] done processing\n"
     ]
    },
    {
     "name": "stdout",
     "output_type": "stream",
     "text": [
      "The time-series has 3 seasonalities detected\n"
     ]
    },
    {
     "name": "stderr",
     "output_type": "stream",
     "text": [
      "10:20:33 - cmdstanpy - INFO - Chain [1] start processing\n",
      "10:20:33 - cmdstanpy - INFO - Chain [1] done processing\n"
     ]
    },
    {
     "name": "stdout",
     "output_type": "stream",
     "text": [
      "Trend's smoothing fraction chosen: 0.27\n"
     ]
    },
    {
     "name": "stderr",
     "output_type": "stream",
     "text": [
      "10:20:33 - cmdstanpy - INFO - Chain [1] start processing\n",
      "10:20:33 - cmdstanpy - INFO - Chain [1] done processing\n"
     ]
    },
    {
     "name": "stdout",
     "output_type": "stream",
     "text": [
      "Analyzing 0710400000...\n",
      "The time-series has 8 seasonalities detected\n"
     ]
    },
    {
     "name": "stderr",
     "output_type": "stream",
     "text": [
      "10:21:07 - cmdstanpy - INFO - Chain [1] start processing\n"
     ]
    },
    {
     "name": "stdout",
     "output_type": "stream",
     "text": [
      "Trend's smoothing fraction chosen: 0.16\n"
     ]
    },
    {
     "name": "stderr",
     "output_type": "stream",
     "text": [
      "10:21:07 - cmdstanpy - INFO - Chain [1] done processing\n",
      "10:21:07 - cmdstanpy - INFO - Chain [1] start processing\n",
      "10:21:07 - cmdstanpy - INFO - Chain [1] done processing\n"
     ]
    },
    {
     "name": "stdout",
     "output_type": "stream",
     "text": [
      "The time-series has 2 seasonalities detected\n"
     ]
    },
    {
     "name": "stderr",
     "output_type": "stream",
     "text": [
      "10:22:18 - cmdstanpy - INFO - Chain [1] start processing\n"
     ]
    },
    {
     "name": "stdout",
     "output_type": "stream",
     "text": [
      "Trend's smoothing fraction chosen: 1.0\n"
     ]
    },
    {
     "name": "stderr",
     "output_type": "stream",
     "text": [
      "10:22:18 - cmdstanpy - INFO - Chain [1] done processing\n",
      "10:22:18 - cmdstanpy - INFO - Chain [1] start processing\n",
      "10:22:18 - cmdstanpy - INFO - Chain [1] done processing\n"
     ]
    },
    {
     "name": "stdout",
     "output_type": "stream",
     "text": [
      "Analyzing 0713339200...\n",
      "The time-series has 11 seasonalities detected\n"
     ]
    },
    {
     "name": "stderr",
     "output_type": "stream",
     "text": [
      "10:22:51 - cmdstanpy - INFO - Chain [1] start processing\n"
     ]
    },
    {
     "name": "stdout",
     "output_type": "stream",
     "text": [
      "Trend's smoothing fraction chosen: 0.15\n"
     ]
    },
    {
     "name": "stderr",
     "output_type": "stream",
     "text": [
      "10:22:51 - cmdstanpy - INFO - Chain [1] done processing\n",
      "10:22:51 - cmdstanpy - INFO - Chain [1] start processing\n",
      "10:22:51 - cmdstanpy - INFO - Chain [1] done processing\n"
     ]
    },
    {
     "name": "stdout",
     "output_type": "stream",
     "text": [
      "The time-series has 2 seasonalities detected\n"
     ]
    },
    {
     "name": "stderr",
     "output_type": "stream",
     "text": [
      "10:23:21 - cmdstanpy - INFO - Chain [1] start processing\n"
     ]
    },
    {
     "name": "stdout",
     "output_type": "stream",
     "text": [
      "Trend's smoothing fraction chosen: 0.03\n"
     ]
    },
    {
     "name": "stderr",
     "output_type": "stream",
     "text": [
      "10:23:21 - cmdstanpy - INFO - Chain [1] done processing\n",
      "10:23:22 - cmdstanpy - INFO - Chain [1] start processing\n",
      "10:23:22 - cmdstanpy - INFO - Chain [1] done processing\n"
     ]
    },
    {
     "name": "stdout",
     "output_type": "stream",
     "text": [
      "Analyzing 0811909400...\n",
      "The time-series has 7 seasonalities detected\n"
     ]
    },
    {
     "name": "stderr",
     "output_type": "stream",
     "text": [
      "10:24:27 - cmdstanpy - INFO - Chain [1] start processing\n"
     ]
    },
    {
     "name": "stdout",
     "output_type": "stream",
     "text": [
      "Trend's smoothing fraction chosen: 0.92\n"
     ]
    },
    {
     "name": "stderr",
     "output_type": "stream",
     "text": [
      "10:24:27 - cmdstanpy - INFO - Chain [1] done processing\n",
      "10:24:27 - cmdstanpy - INFO - Chain [1] start processing\n",
      "10:24:27 - cmdstanpy - INFO - Chain [1] done processing\n"
     ]
    },
    {
     "name": "stdout",
     "output_type": "stream",
     "text": [
      "The time-series has 2 seasonalities detected\n"
     ]
    },
    {
     "name": "stderr",
     "output_type": "stream",
     "text": [
      "10:24:57 - cmdstanpy - INFO - Chain [1] start processing\n"
     ]
    },
    {
     "name": "stdout",
     "output_type": "stream",
     "text": [
      "Trend's smoothing fraction chosen: 0.04\n"
     ]
    },
    {
     "name": "stderr",
     "output_type": "stream",
     "text": [
      "10:24:57 - cmdstanpy - INFO - Chain [1] done processing\n",
      "10:24:58 - cmdstanpy - INFO - Chain [1] start processing\n",
      "10:24:58 - cmdstanpy - INFO - Chain [1] done processing\n"
     ]
    },
    {
     "name": "stdout",
     "output_type": "stream",
     "text": [
      "Analyzing 0709200000...\n",
      "The time-series has 7 seasonalities detected\n"
     ]
    },
    {
     "name": "stderr",
     "output_type": "stream",
     "text": [
      "10:26:10 - cmdstanpy - INFO - Chain [1] start processing\n"
     ]
    },
    {
     "name": "stdout",
     "output_type": "stream",
     "text": [
      "Trend's smoothing fraction chosen: 1.0\n"
     ]
    },
    {
     "name": "stderr",
     "output_type": "stream",
     "text": [
      "10:26:10 - cmdstanpy - INFO - Chain [1] done processing\n",
      "10:26:11 - cmdstanpy - INFO - Chain [1] start processing\n",
      "10:26:11 - cmdstanpy - INFO - Chain [1] done processing\n"
     ]
    },
    {
     "name": "stdout",
     "output_type": "stream",
     "text": [
      "The time-series has 6 seasonalities detected\n"
     ]
    },
    {
     "name": "stderr",
     "output_type": "stream",
     "text": [
      "10:26:48 - cmdstanpy - INFO - Chain [1] start processing\n"
     ]
    },
    {
     "name": "stdout",
     "output_type": "stream",
     "text": [
      "Trend's smoothing fraction chosen: 0.28\n"
     ]
    },
    {
     "name": "stderr",
     "output_type": "stream",
     "text": [
      "10:26:48 - cmdstanpy - INFO - Chain [1] done processing\n",
      "10:26:48 - cmdstanpy - INFO - Chain [1] start processing\n",
      "10:26:48 - cmdstanpy - INFO - Chain [1] done processing\n",
      "10:26:48 - cmdstanpy - ERROR - Chain [1] error: error during processing Operation not permitted\n",
      "Optimization terminated abnormally. Falling back to Newton.\n",
      "10:26:49 - cmdstanpy - INFO - Chain [1] start processing\n",
      "10:26:52 - cmdstanpy - INFO - Chain [1] done processing\n"
     ]
    },
    {
     "name": "stdout",
     "output_type": "stream",
     "text": [
      "Analyzing 0804502000...\n",
      "The time-series has 10 seasonalities detected\n"
     ]
    },
    {
     "name": "stderr",
     "output_type": "stream",
     "text": [
      "10:27:29 - cmdstanpy - INFO - Chain [1] start processing\n"
     ]
    },
    {
     "name": "stdout",
     "output_type": "stream",
     "text": [
      "Trend's smoothing fraction chosen: 0.32\n"
     ]
    },
    {
     "name": "stderr",
     "output_type": "stream",
     "text": [
      "10:27:29 - cmdstanpy - INFO - Chain [1] done processing\n",
      "10:27:30 - cmdstanpy - INFO - Chain [1] start processing\n",
      "10:27:30 - cmdstanpy - INFO - Chain [1] done processing\n"
     ]
    },
    {
     "name": "stdout",
     "output_type": "stream",
     "text": [
      "The time-series has 9 seasonalities detected\n"
     ]
    },
    {
     "name": "stderr",
     "output_type": "stream",
     "text": [
      "10:28:37 - cmdstanpy - INFO - Chain [1] start processing\n"
     ]
    },
    {
     "name": "stdout",
     "output_type": "stream",
     "text": [
      "Trend's smoothing fraction chosen: 0.92\n"
     ]
    },
    {
     "name": "stderr",
     "output_type": "stream",
     "text": [
      "10:28:37 - cmdstanpy - INFO - Chain [1] done processing\n",
      "10:28:37 - cmdstanpy - INFO - Chain [1] start processing\n",
      "10:28:37 - cmdstanpy - INFO - Chain [1] done processing\n",
      "10:28:37 - cmdstanpy - ERROR - Chain [1] error: error during processing Operation not permitted\n",
      "Optimization terminated abnormally. Falling back to Newton.\n",
      "10:28:37 - cmdstanpy - INFO - Chain [1] start processing\n",
      "10:28:40 - cmdstanpy - INFO - Chain [1] done processing\n"
     ]
    },
    {
     "name": "stdout",
     "output_type": "stream",
     "text": [
      "Analyzing 0813400000...\n",
      "The time-series has 8 seasonalities detected\n"
     ]
    },
    {
     "name": "stderr",
     "output_type": "stream",
     "text": [
      "10:29:15 - cmdstanpy - INFO - Chain [1] start processing\n",
      "10:29:16 - cmdstanpy - INFO - Chain [1] done processing\n"
     ]
    },
    {
     "name": "stdout",
     "output_type": "stream",
     "text": [
      "Trend's smoothing fraction chosen: 0.25\n"
     ]
    },
    {
     "name": "stderr",
     "output_type": "stream",
     "text": [
      "10:29:16 - cmdstanpy - INFO - Chain [1] start processing\n",
      "10:29:16 - cmdstanpy - INFO - Chain [1] done processing\n"
     ]
    },
    {
     "name": "stdout",
     "output_type": "stream",
     "text": [
      "The time-series has 4 seasonalities detected\n"
     ]
    },
    {
     "name": "stderr",
     "output_type": "stream",
     "text": [
      "10:29:49 - cmdstanpy - INFO - Chain [1] start processing\n"
     ]
    },
    {
     "name": "stdout",
     "output_type": "stream",
     "text": [
      "Trend's smoothing fraction chosen: 0.2\n"
     ]
    },
    {
     "name": "stderr",
     "output_type": "stream",
     "text": [
      "10:29:49 - cmdstanpy - INFO - Chain [1] done processing\n",
      "10:29:49 - cmdstanpy - INFO - Chain [1] start processing\n",
      "10:29:50 - cmdstanpy - INFO - Chain [1] done processing\n"
     ]
    },
    {
     "name": "stdout",
     "output_type": "stream",
     "text": [
      "Analyzing 0714209000...\n",
      "The time-series has 3 seasonalities detected\n"
     ]
    },
    {
     "name": "stderr",
     "output_type": "stream",
     "text": [
      "10:31:00 - cmdstanpy - INFO - Chain [1] start processing\n"
     ]
    },
    {
     "name": "stdout",
     "output_type": "stream",
     "text": [
      "Trend's smoothing fraction chosen: 1.0\n"
     ]
    },
    {
     "name": "stderr",
     "output_type": "stream",
     "text": [
      "10:31:00 - cmdstanpy - INFO - Chain [1] done processing\n",
      "10:31:00 - cmdstanpy - INFO - Chain [1] start processing\n",
      "10:31:00 - cmdstanpy - INFO - Chain [1] done processing\n"
     ]
    },
    {
     "name": "stdout",
     "output_type": "stream",
     "text": [
      "The time-series has 5 seasonalities detected\n"
     ]
    },
    {
     "name": "stderr",
     "output_type": "stream",
     "text": [
      "10:32:11 - cmdstanpy - INFO - Chain [1] start processing\n",
      "10:32:11 - cmdstanpy - INFO - Chain [1] done processing\n"
     ]
    },
    {
     "name": "stdout",
     "output_type": "stream",
     "text": [
      "Trend's smoothing fraction chosen: 1.0\n"
     ]
    },
    {
     "name": "stderr",
     "output_type": "stream",
     "text": [
      "10:32:11 - cmdstanpy - INFO - Chain [1] start processing\n",
      "10:32:11 - cmdstanpy - INFO - Chain [1] done processing\n",
      "10:32:11 - cmdstanpy - ERROR - Chain [1] error: error during processing Operation not permitted\n",
      "Optimization terminated abnormally. Falling back to Newton.\n",
      "10:32:11 - cmdstanpy - INFO - Chain [1] start processing\n",
      "10:32:13 - cmdstanpy - INFO - Chain [1] done processing\n"
     ]
    },
    {
     "name": "stdout",
     "output_type": "stream",
     "text": [
      "Analyzing 0709600000...\n",
      "The time-series has 5 seasonalities detected\n"
     ]
    },
    {
     "name": "stderr",
     "output_type": "stream",
     "text": [
      "10:32:45 - cmdstanpy - INFO - Chain [1] start processing\n"
     ]
    },
    {
     "name": "stdout",
     "output_type": "stream",
     "text": [
      "Trend's smoothing fraction chosen: 0.14\n"
     ]
    },
    {
     "name": "stderr",
     "output_type": "stream",
     "text": [
      "10:32:45 - cmdstanpy - INFO - Chain [1] done processing\n",
      "10:32:45 - cmdstanpy - INFO - Chain [1] start processing\n",
      "10:32:45 - cmdstanpy - INFO - Chain [1] done processing\n"
     ]
    },
    {
     "name": "stdout",
     "output_type": "stream",
     "text": [
      "The time-series has 3 seasonalities detected\n"
     ]
    },
    {
     "name": "stderr",
     "output_type": "stream",
     "text": [
      "10:33:18 - cmdstanpy - INFO - Chain [1] start processing\n"
     ]
    },
    {
     "name": "stdout",
     "output_type": "stream",
     "text": [
      "Trend's smoothing fraction chosen: 0.22\n"
     ]
    },
    {
     "name": "stderr",
     "output_type": "stream",
     "text": [
      "10:33:18 - cmdstanpy - INFO - Chain [1] done processing\n",
      "10:33:19 - cmdstanpy - INFO - Chain [1] start processing\n",
      "10:33:19 - cmdstanpy - INFO - Chain [1] done processing\n"
     ]
    },
    {
     "name": "stdout",
     "output_type": "stream",
     "text": [
      "Analyzing 0811909100...\n",
      "The time-series has 3 seasonalities detected\n"
     ]
    },
    {
     "name": "stderr",
     "output_type": "stream",
     "text": [
      "10:33:49 - cmdstanpy - INFO - Chain [1] start processing\n"
     ]
    },
    {
     "name": "stdout",
     "output_type": "stream",
     "text": [
      "Trend's smoothing fraction chosen: 0.01\n"
     ]
    },
    {
     "name": "stderr",
     "output_type": "stream",
     "text": [
      "10:33:49 - cmdstanpy - INFO - Chain [1] done processing\n",
      "10:33:49 - cmdstanpy - INFO - Chain [1] start processing\n",
      "10:33:49 - cmdstanpy - INFO - Chain [1] done processing\n"
     ]
    },
    {
     "name": "stdout",
     "output_type": "stream",
     "text": [
      "The time-series has 8 seasonalities detected\n"
     ]
    },
    {
     "name": "stderr",
     "output_type": "stream",
     "text": [
      "10:34:27 - cmdstanpy - INFO - Chain [1] start processing\n"
     ]
    },
    {
     "name": "stdout",
     "output_type": "stream",
     "text": [
      "Trend's smoothing fraction chosen: 0.32\n"
     ]
    },
    {
     "name": "stderr",
     "output_type": "stream",
     "text": [
      "10:34:27 - cmdstanpy - INFO - Chain [1] done processing\n",
      "10:34:27 - cmdstanpy - INFO - Chain [1] start processing\n",
      "10:34:27 - cmdstanpy - INFO - Chain [1] done processing\n",
      "10:34:27 - cmdstanpy - ERROR - Chain [1] error: error during processing Operation not permitted\n",
      "Optimization terminated abnormally. Falling back to Newton.\n",
      "10:34:27 - cmdstanpy - INFO - Chain [1] start processing\n",
      "10:34:33 - cmdstanpy - INFO - Chain [1] done processing\n"
     ]
    },
    {
     "name": "stdout",
     "output_type": "stream",
     "text": [
      "Analyzing 0804400000...\n",
      "The time-series has 8 seasonalities detected\n"
     ]
    },
    {
     "name": "stderr",
     "output_type": "stream",
     "text": [
      "10:35:07 - cmdstanpy - INFO - Chain [1] start processing\n"
     ]
    },
    {
     "name": "stdout",
     "output_type": "stream",
     "text": [
      "Trend's smoothing fraction chosen: 0.14\n"
     ]
    },
    {
     "name": "stderr",
     "output_type": "stream",
     "text": [
      "10:35:07 - cmdstanpy - INFO - Chain [1] done processing\n",
      "10:35:08 - cmdstanpy - INFO - Chain [1] start processing\n",
      "10:35:08 - cmdstanpy - INFO - Chain [1] done processing\n"
     ]
    },
    {
     "name": "stdout",
     "output_type": "stream",
     "text": [
      "The time-series has 8 seasonalities detected\n"
     ]
    },
    {
     "name": "stderr",
     "output_type": "stream",
     "text": [
      "10:35:52 - cmdstanpy - INFO - Chain [1] start processing\n"
     ]
    },
    {
     "name": "stdout",
     "output_type": "stream",
     "text": [
      "Trend's smoothing fraction chosen: 0.46\n"
     ]
    },
    {
     "name": "stderr",
     "output_type": "stream",
     "text": [
      "10:35:52 - cmdstanpy - INFO - Chain [1] done processing\n",
      "10:35:52 - cmdstanpy - INFO - Chain [1] start processing\n",
      "10:35:52 - cmdstanpy - INFO - Chain [1] done processing\n",
      "10:35:52 - cmdstanpy - ERROR - Chain [1] error: error during processing Operation not permitted\n",
      "Optimization terminated abnormally. Falling back to Newton.\n",
      "10:35:52 - cmdstanpy - INFO - Chain [1] start processing\n",
      "10:35:55 - cmdstanpy - INFO - Chain [1] done processing\n"
     ]
    },
    {
     "name": "stdout",
     "output_type": "stream",
     "text": [
      "Analyzing 0714909000...\n",
      "The time-series has 9 seasonalities detected\n"
     ]
    },
    {
     "name": "stderr",
     "output_type": "stream",
     "text": [
      "10:36:28 - cmdstanpy - INFO - Chain [1] start processing\n"
     ]
    },
    {
     "name": "stdout",
     "output_type": "stream",
     "text": [
      "Trend's smoothing fraction chosen: 0.1\n"
     ]
    },
    {
     "name": "stderr",
     "output_type": "stream",
     "text": [
      "10:36:28 - cmdstanpy - INFO - Chain [1] done processing\n",
      "10:36:28 - cmdstanpy - INFO - Chain [1] start processing\n",
      "10:36:28 - cmdstanpy - INFO - Chain [1] done processing\n"
     ]
    },
    {
     "name": "stdout",
     "output_type": "stream",
     "text": [
      "The time-series has 4 seasonalities detected\n"
     ]
    },
    {
     "name": "stderr",
     "output_type": "stream",
     "text": [
      "10:37:04 - cmdstanpy - INFO - Chain [1] start processing\n"
     ]
    },
    {
     "name": "stdout",
     "output_type": "stream",
     "text": [
      "Trend's smoothing fraction chosen: 0.28\n"
     ]
    },
    {
     "name": "stderr",
     "output_type": "stream",
     "text": [
      "10:37:04 - cmdstanpy - INFO - Chain [1] done processing\n",
      "10:37:04 - cmdstanpy - INFO - Chain [1] start processing\n",
      "10:37:04 - cmdstanpy - INFO - Chain [1] done processing\n"
     ]
    },
    {
     "name": "stdout",
     "output_type": "stream",
     "text": [
      "Analyzing 0810100000...\n",
      "The time-series has 10 seasonalities detected\n"
     ]
    },
    {
     "name": "stderr",
     "output_type": "stream",
     "text": [
      "10:37:38 - cmdstanpy - INFO - Chain [1] start processing\n"
     ]
    },
    {
     "name": "stdout",
     "output_type": "stream",
     "text": [
      "Trend's smoothing fraction chosen: 0.23\n"
     ]
    },
    {
     "name": "stderr",
     "output_type": "stream",
     "text": [
      "10:37:38 - cmdstanpy - INFO - Chain [1] done processing\n",
      "10:37:38 - cmdstanpy - INFO - Chain [1] start processing\n",
      "10:37:38 - cmdstanpy - INFO - Chain [1] done processing\n"
     ]
    },
    {
     "name": "stdout",
     "output_type": "stream",
     "text": [
      "The time-series has 9 seasonalities detected\n"
     ]
    },
    {
     "name": "stderr",
     "output_type": "stream",
     "text": [
      "10:38:51 - cmdstanpy - INFO - Chain [1] start processing\n"
     ]
    },
    {
     "name": "stdout",
     "output_type": "stream",
     "text": [
      "Trend's smoothing fraction chosen: 1.0\n"
     ]
    },
    {
     "name": "stderr",
     "output_type": "stream",
     "text": [
      "10:38:51 - cmdstanpy - INFO - Chain [1] done processing\n",
      "10:38:52 - cmdstanpy - INFO - Chain [1] start processing\n",
      "10:38:52 - cmdstanpy - INFO - Chain [1] done processing\n"
     ]
    },
    {
     "name": "stdout",
     "output_type": "stream",
     "text": [
      "Analyzing 0811909900...\n",
      "The time-series has 7 seasonalities detected\n"
     ]
    },
    {
     "name": "stderr",
     "output_type": "stream",
     "text": [
      "10:40:19 - cmdstanpy - INFO - Chain [1] start processing\n"
     ]
    },
    {
     "name": "stdout",
     "output_type": "stream",
     "text": [
      "Trend's smoothing fraction chosen: 1.0\n"
     ]
    },
    {
     "name": "stderr",
     "output_type": "stream",
     "text": [
      "10:40:19 - cmdstanpy - INFO - Chain [1] done processing\n",
      "10:40:19 - cmdstanpy - INFO - Chain [1] start processing\n",
      "10:40:19 - cmdstanpy - INFO - Chain [1] done processing\n"
     ]
    },
    {
     "name": "stdout",
     "output_type": "stream",
     "text": [
      "The time-series has 6 seasonalities detected\n"
     ]
    },
    {
     "name": "stderr",
     "output_type": "stream",
     "text": [
      "10:41:02 - cmdstanpy - INFO - Chain [1] start processing\n"
     ]
    },
    {
     "name": "stdout",
     "output_type": "stream",
     "text": [
      "Trend's smoothing fraction chosen: 0.27\n"
     ]
    },
    {
     "name": "stderr",
     "output_type": "stream",
     "text": [
      "10:41:02 - cmdstanpy - INFO - Chain [1] done processing\n",
      "10:41:03 - cmdstanpy - INFO - Chain [1] start processing\n",
      "10:41:03 - cmdstanpy - INFO - Chain [1] done processing\n",
      "10:41:03 - cmdstanpy - ERROR - Chain [1] error: error during processing Operation not permitted\n",
      "Optimization terminated abnormally. Falling back to Newton.\n",
      "10:41:03 - cmdstanpy - INFO - Chain [1] start processing\n",
      "10:41:08 - cmdstanpy - INFO - Chain [1] done processing\n"
     ]
    },
    {
     "name": "stdout",
     "output_type": "stream",
     "text": [
      "Analyzing 0805299000...\n",
      "The time-series has 10 seasonalities detected\n"
     ]
    },
    {
     "name": "stderr",
     "output_type": "stream",
     "text": [
      "10:42:32 - cmdstanpy - INFO - Chain [1] start processing\n"
     ]
    },
    {
     "name": "stdout",
     "output_type": "stream",
     "text": [
      "Trend's smoothing fraction chosen: 1.0\n"
     ]
    },
    {
     "name": "stderr",
     "output_type": "stream",
     "text": [
      "10:42:32 - cmdstanpy - INFO - Chain [1] done processing\n",
      "10:42:32 - cmdstanpy - INFO - Chain [1] start processing\n",
      "10:42:32 - cmdstanpy - INFO - Chain [1] done processing\n"
     ]
    },
    {
     "name": "stdout",
     "output_type": "stream",
     "text": [
      "The time-series has 8 seasonalities detected\n"
     ]
    },
    {
     "name": "stderr",
     "output_type": "stream",
     "text": [
      "10:43:54 - cmdstanpy - INFO - Chain [1] start processing\n"
     ]
    },
    {
     "name": "stdout",
     "output_type": "stream",
     "text": [
      "Trend's smoothing fraction chosen: 1.0\n"
     ]
    },
    {
     "name": "stderr",
     "output_type": "stream",
     "text": [
      "10:43:54 - cmdstanpy - INFO - Chain [1] done processing\n",
      "10:43:54 - cmdstanpy - INFO - Chain [1] start processing\n",
      "10:43:54 - cmdstanpy - INFO - Chain [1] done processing\n",
      "10:43:54 - cmdstanpy - ERROR - Chain [1] error: error during processing Operation not permitted\n",
      "Optimization terminated abnormally. Falling back to Newton.\n",
      "10:43:54 - cmdstanpy - INFO - Chain [1] start processing\n",
      "10:43:58 - cmdstanpy - INFO - Chain [1] done processing\n"
     ]
    },
    {
     "name": "stdout",
     "output_type": "stream",
     "text": [
      "Analyzing 0714100000...\n",
      "The time-series has 11 seasonalities detected\n"
     ]
    },
    {
     "name": "stderr",
     "output_type": "stream",
     "text": [
      "10:45:22 - cmdstanpy - INFO - Chain [1] start processing\n"
     ]
    },
    {
     "name": "stdout",
     "output_type": "stream",
     "text": [
      "Trend's smoothing fraction chosen: 1.0\n"
     ]
    },
    {
     "name": "stderr",
     "output_type": "stream",
     "text": [
      "10:45:22 - cmdstanpy - INFO - Chain [1] done processing\n",
      "10:45:23 - cmdstanpy - INFO - Chain [1] start processing\n",
      "10:45:23 - cmdstanpy - INFO - Chain [1] done processing\n"
     ]
    },
    {
     "name": "stdout",
     "output_type": "stream",
     "text": [
      "The time-series has 3 seasonalities detected\n"
     ]
    },
    {
     "name": "stderr",
     "output_type": "stream",
     "text": [
      "10:45:59 - cmdstanpy - INFO - Chain [1] start processing\n"
     ]
    },
    {
     "name": "stdout",
     "output_type": "stream",
     "text": [
      "Trend's smoothing fraction chosen: 0.25\n"
     ]
    },
    {
     "name": "stderr",
     "output_type": "stream",
     "text": [
      "10:46:00 - cmdstanpy - INFO - Chain [1] done processing\n",
      "10:46:00 - cmdstanpy - INFO - Chain [1] start processing\n",
      "10:46:00 - cmdstanpy - INFO - Chain [1] done processing\n"
     ]
    },
    {
     "name": "stdout",
     "output_type": "stream",
     "text": [
      "Analyzing 0703209000...\n",
      "The time-series has 7 seasonalities detected\n"
     ]
    },
    {
     "name": "stderr",
     "output_type": "stream",
     "text": [
      "10:46:36 - cmdstanpy - INFO - Chain [1] start processing\n"
     ]
    },
    {
     "name": "stdout",
     "output_type": "stream",
     "text": [
      "Trend's smoothing fraction chosen: 0.28\n"
     ]
    },
    {
     "name": "stderr",
     "output_type": "stream",
     "text": [
      "10:46:36 - cmdstanpy - INFO - Chain [1] done processing\n",
      "10:46:37 - cmdstanpy - INFO - Chain [1] start processing\n",
      "10:46:37 - cmdstanpy - INFO - Chain [1] done processing\n"
     ]
    },
    {
     "name": "stdout",
     "output_type": "stream",
     "text": [
      "The time-series has 6 seasonalities detected\n"
     ]
    },
    {
     "name": "stderr",
     "output_type": "stream",
     "text": [
      "10:47:12 - cmdstanpy - INFO - Chain [1] start processing\n"
     ]
    },
    {
     "name": "stdout",
     "output_type": "stream",
     "text": [
      "Trend's smoothing fraction chosen: 0.25\n"
     ]
    },
    {
     "name": "stderr",
     "output_type": "stream",
     "text": [
      "10:47:12 - cmdstanpy - INFO - Chain [1] done processing\n",
      "10:47:12 - cmdstanpy - INFO - Chain [1] start processing\n",
      "10:47:12 - cmdstanpy - INFO - Chain [1] done processing\n",
      "10:47:12 - cmdstanpy - ERROR - Chain [1] error: error during processing Operation not permitted\n",
      "Optimization terminated abnormally. Falling back to Newton.\n",
      "10:47:12 - cmdstanpy - INFO - Chain [1] start processing\n",
      "10:47:18 - cmdstanpy - INFO - Chain [1] done processing\n"
     ]
    },
    {
     "name": "stdout",
     "output_type": "stream",
     "text": [
      "Analyzing 0711200000...\n",
      "The time-series has 3 seasonalities detected\n",
      "Trend's smoothing fraction chosen: 0.1\n"
     ]
    },
    {
     "name": "stderr",
     "output_type": "stream",
     "text": [
      "10:47:50 - cmdstanpy - INFO - Chain [1] start processing\n",
      "10:47:50 - cmdstanpy - INFO - Chain [1] done processing\n",
      "10:47:50 - cmdstanpy - INFO - Chain [1] start processing\n",
      "10:47:50 - cmdstanpy - INFO - Chain [1] done processing\n"
     ]
    },
    {
     "name": "stdout",
     "output_type": "stream",
     "text": [
      "The time-series has 5 seasonalities detected\n"
     ]
    },
    {
     "name": "stderr",
     "output_type": "stream",
     "text": [
      "10:48:25 - cmdstanpy - INFO - Chain [1] start processing\n"
     ]
    },
    {
     "name": "stdout",
     "output_type": "stream",
     "text": [
      "Trend's smoothing fraction chosen: 0.27\n"
     ]
    },
    {
     "name": "stderr",
     "output_type": "stream",
     "text": [
      "10:48:26 - cmdstanpy - INFO - Chain [1] done processing\n",
      "10:48:26 - cmdstanpy - INFO - Chain [1] start processing\n",
      "10:48:26 - cmdstanpy - INFO - Chain [1] done processing\n",
      "10:48:26 - cmdstanpy - ERROR - Chain [1] error: error during processing Operation not permitted\n",
      "Optimization terminated abnormally. Falling back to Newton.\n",
      "10:48:26 - cmdstanpy - INFO - Chain [1] start processing\n",
      "10:48:30 - cmdstanpy - INFO - Chain [1] done processing\n"
     ]
    },
    {
     "name": "stdout",
     "output_type": "stream",
     "text": [
      "Analyzing 0713399100...\n",
      "The time-series has 9 seasonalities detected\n"
     ]
    },
    {
     "name": "stderr",
     "output_type": "stream",
     "text": [
      "10:49:04 - cmdstanpy - INFO - Chain [1] start processing\n"
     ]
    },
    {
     "name": "stdout",
     "output_type": "stream",
     "text": [
      "Trend's smoothing fraction chosen: 0.22\n"
     ]
    },
    {
     "name": "stderr",
     "output_type": "stream",
     "text": [
      "10:49:04 - cmdstanpy - INFO - Chain [1] done processing\n",
      "10:49:05 - cmdstanpy - INFO - Chain [1] start processing\n",
      "10:49:05 - cmdstanpy - INFO - Chain [1] done processing\n"
     ]
    },
    {
     "name": "stdout",
     "output_type": "stream",
     "text": [
      "The time-series has 6 seasonalities detected\n"
     ]
    },
    {
     "name": "stderr",
     "output_type": "stream",
     "text": [
      "10:50:11 - cmdstanpy - INFO - Chain [1] start processing\n",
      "10:50:12 - cmdstanpy - INFO - Chain [1] done processing\n"
     ]
    },
    {
     "name": "stdout",
     "output_type": "stream",
     "text": [
      "Trend's smoothing fraction chosen: 0.95\n"
     ]
    },
    {
     "name": "stderr",
     "output_type": "stream",
     "text": [
      "10:50:12 - cmdstanpy - INFO - Chain [1] start processing\n",
      "10:50:12 - cmdstanpy - INFO - Chain [1] done processing\n",
      "10:50:12 - cmdstanpy - ERROR - Chain [1] error: error during processing Operation not permitted\n",
      "Optimization terminated abnormally. Falling back to Newton.\n",
      "10:50:12 - cmdstanpy - INFO - Chain [1] start processing\n",
      "10:50:16 - cmdstanpy - INFO - Chain [1] done processing\n"
     ]
    },
    {
     "name": "stdout",
     "output_type": "stream",
     "text": [
      "Analyzing 0708100000...\n",
      "The time-series has 7 seasonalities detected\n"
     ]
    },
    {
     "name": "stderr",
     "output_type": "stream",
     "text": [
      "10:51:23 - cmdstanpy - INFO - Chain [1] start processing\n"
     ]
    },
    {
     "name": "stdout",
     "output_type": "stream",
     "text": [
      "Trend's smoothing fraction chosen: 1.0\n"
     ]
    },
    {
     "name": "stderr",
     "output_type": "stream",
     "text": [
      "10:51:23 - cmdstanpy - INFO - Chain [1] done processing\n",
      "10:51:23 - cmdstanpy - INFO - Chain [1] start processing\n",
      "10:51:24 - cmdstanpy - INFO - Chain [1] done processing\n"
     ]
    },
    {
     "name": "stdout",
     "output_type": "stream",
     "text": [
      "The time-series has 6 seasonalities detected\n"
     ]
    },
    {
     "name": "stderr",
     "output_type": "stream",
     "text": [
      "10:52:01 - cmdstanpy - INFO - Chain [1] start processing\n"
     ]
    },
    {
     "name": "stdout",
     "output_type": "stream",
     "text": [
      "Trend's smoothing fraction chosen: 0.36\n"
     ]
    },
    {
     "name": "stderr",
     "output_type": "stream",
     "text": [
      "10:52:01 - cmdstanpy - INFO - Chain [1] done processing\n",
      "10:52:01 - cmdstanpy - INFO - Chain [1] start processing\n",
      "10:52:01 - cmdstanpy - INFO - Chain [1] done processing\n",
      "10:52:01 - cmdstanpy - ERROR - Chain [1] error: error during processing Operation not permitted\n",
      "Optimization terminated abnormally. Falling back to Newton.\n",
      "10:52:01 - cmdstanpy - INFO - Chain [1] start processing\n",
      "10:52:06 - cmdstanpy - INFO - Chain [1] done processing\n"
     ]
    },
    {
     "name": "stdout",
     "output_type": "stream",
     "text": [
      "Analyzing 0807110000...\n",
      "The time-series has 9 seasonalities detected\n"
     ]
    },
    {
     "name": "stderr",
     "output_type": "stream",
     "text": [
      "10:53:09 - cmdstanpy - INFO - Chain [1] start processing\n"
     ]
    },
    {
     "name": "stdout",
     "output_type": "stream",
     "text": [
      "Trend's smoothing fraction chosen: 0.88\n"
     ]
    },
    {
     "name": "stderr",
     "output_type": "stream",
     "text": [
      "10:53:09 - cmdstanpy - INFO - Chain [1] done processing\n",
      "10:53:09 - cmdstanpy - INFO - Chain [1] start processing\n",
      "10:53:09 - cmdstanpy - INFO - Chain [1] done processing\n"
     ]
    },
    {
     "name": "stdout",
     "output_type": "stream",
     "text": [
      "The time-series has 8 seasonalities detected\n"
     ]
    },
    {
     "name": "stderr",
     "output_type": "stream",
     "text": [
      "10:54:21 - cmdstanpy - INFO - Chain [1] start processing\n",
      "10:54:21 - cmdstanpy - INFO - Chain [1] done processing\n"
     ]
    },
    {
     "name": "stdout",
     "output_type": "stream",
     "text": [
      "Trend's smoothing fraction chosen: 1.0\n"
     ]
    },
    {
     "name": "stderr",
     "output_type": "stream",
     "text": [
      "10:54:22 - cmdstanpy - INFO - Chain [1] start processing\n",
      "10:54:22 - cmdstanpy - INFO - Chain [1] done processing\n",
      "10:54:22 - cmdstanpy - ERROR - Chain [1] error: error during processing Operation not permitted\n",
      "Optimization terminated abnormally. Falling back to Newton.\n",
      "10:54:22 - cmdstanpy - INFO - Chain [1] start processing\n",
      "10:54:26 - cmdstanpy - INFO - Chain [1] done processing\n"
     ]
    },
    {
     "name": "stdout",
     "output_type": "stream",
     "text": [
      "Analyzing 0709930000...\n",
      "The time-series has 9 seasonalities detected\n"
     ]
    },
    {
     "name": "stderr",
     "output_type": "stream",
     "text": [
      "10:55:08 - cmdstanpy - INFO - Chain [1] start processing\n"
     ]
    },
    {
     "name": "stdout",
     "output_type": "stream",
     "text": [
      "Trend's smoothing fraction chosen: 0.47\n"
     ]
    },
    {
     "name": "stderr",
     "output_type": "stream",
     "text": [
      "10:55:09 - cmdstanpy - INFO - Chain [1] done processing\n",
      "10:55:09 - cmdstanpy - INFO - Chain [1] start processing\n",
      "10:55:09 - cmdstanpy - INFO - Chain [1] done processing\n"
     ]
    },
    {
     "name": "stdout",
     "output_type": "stream",
     "text": [
      "The time-series has 8 seasonalities detected\n"
     ]
    },
    {
     "name": "stderr",
     "output_type": "stream",
     "text": [
      "10:55:44 - cmdstanpy - INFO - Chain [1] start processing\n"
     ]
    },
    {
     "name": "stdout",
     "output_type": "stream",
     "text": [
      "Trend's smoothing fraction chosen: 0.28\n"
     ]
    },
    {
     "name": "stderr",
     "output_type": "stream",
     "text": [
      "10:55:44 - cmdstanpy - INFO - Chain [1] done processing\n",
      "10:55:45 - cmdstanpy - INFO - Chain [1] start processing\n",
      "10:55:45 - cmdstanpy - INFO - Chain [1] done processing\n",
      "10:55:45 - cmdstanpy - ERROR - Chain [1] error: error during processing Operation not permitted\n",
      "Optimization terminated abnormally. Falling back to Newton.\n",
      "10:55:45 - cmdstanpy - INFO - Chain [1] start processing\n",
      "10:55:49 - cmdstanpy - INFO - Chain [1] done processing\n"
     ]
    },
    {
     "name": "stdout",
     "output_type": "stream",
     "text": [
      "Analyzing 0701900000...\n",
      "The time-series has 10 seasonalities detected\n"
     ]
    },
    {
     "name": "stderr",
     "output_type": "stream",
     "text": [
      "10:56:57 - cmdstanpy - INFO - Chain [1] start processing\n"
     ]
    },
    {
     "name": "stdout",
     "output_type": "stream",
     "text": [
      "Trend's smoothing fraction chosen: 0.97\n"
     ]
    },
    {
     "name": "stderr",
     "output_type": "stream",
     "text": [
      "10:56:57 - cmdstanpy - INFO - Chain [1] done processing\n",
      "10:56:57 - cmdstanpy - INFO - Chain [1] start processing\n",
      "10:56:57 - cmdstanpy - INFO - Chain [1] done processing\n"
     ]
    },
    {
     "name": "stdout",
     "output_type": "stream",
     "text": [
      "The time-series has 8 seasonalities detected\n"
     ]
    },
    {
     "name": "stderr",
     "output_type": "stream",
     "text": [
      "10:57:30 - cmdstanpy - INFO - Chain [1] start processing\n"
     ]
    },
    {
     "name": "stdout",
     "output_type": "stream",
     "text": [
      "Trend's smoothing fraction chosen: 0.19\n"
     ]
    },
    {
     "name": "stderr",
     "output_type": "stream",
     "text": [
      "10:57:31 - cmdstanpy - INFO - Chain [1] done processing\n",
      "10:57:31 - cmdstanpy - INFO - Chain [1] start processing\n",
      "10:57:31 - cmdstanpy - INFO - Chain [1] done processing\n",
      "10:57:31 - cmdstanpy - ERROR - Chain [1] error: error during processing Operation not permitted\n",
      "Optimization terminated abnormally. Falling back to Newton.\n",
      "10:57:31 - cmdstanpy - INFO - Chain [1] start processing\n",
      "10:57:34 - cmdstanpy - INFO - Chain [1] done processing\n"
     ]
    },
    {
     "name": "stdout",
     "output_type": "stream",
     "text": [
      "Analyzing 0710801000...\n",
      "The time-series has 9 seasonalities detected\n"
     ]
    },
    {
     "name": "stderr",
     "output_type": "stream",
     "text": [
      "10:58:07 - cmdstanpy - INFO - Chain [1] start processing\n"
     ]
    },
    {
     "name": "stdout",
     "output_type": "stream",
     "text": [
      "Trend's smoothing fraction chosen: 0.17\n"
     ]
    },
    {
     "name": "stderr",
     "output_type": "stream",
     "text": [
      "10:58:07 - cmdstanpy - INFO - Chain [1] done processing\n",
      "10:58:07 - cmdstanpy - INFO - Chain [1] start processing\n",
      "10:58:07 - cmdstanpy - INFO - Chain [1] done processing\n"
     ]
    },
    {
     "name": "stdout",
     "output_type": "stream",
     "text": [
      "The time-series has 4 seasonalities detected\n"
     ]
    },
    {
     "name": "stderr",
     "output_type": "stream",
     "text": [
      "10:58:41 - cmdstanpy - INFO - Chain [1] start processing\n",
      "10:58:41 - cmdstanpy - INFO - Chain [1] done processing\n"
     ]
    },
    {
     "name": "stdout",
     "output_type": "stream",
     "text": [
      "Trend's smoothing fraction chosen: 0.21\n"
     ]
    },
    {
     "name": "stderr",
     "output_type": "stream",
     "text": [
      "10:58:41 - cmdstanpy - INFO - Chain [1] start processing\n",
      "10:58:41 - cmdstanpy - INFO - Chain [1] done processing\n",
      "10:58:41 - cmdstanpy - ERROR - Chain [1] error: error during processing Operation not permitted\n",
      "Optimization terminated abnormally. Falling back to Newton.\n",
      "10:58:41 - cmdstanpy - INFO - Chain [1] start processing\n",
      "10:58:45 - cmdstanpy - INFO - Chain [1] done processing\n"
     ]
    },
    {
     "name": "stdout",
     "output_type": "stream",
     "text": [
      "Analyzing 0805100000...\n",
      "The time-series has 9 seasonalities detected\n"
     ]
    },
    {
     "name": "stderr",
     "output_type": "stream",
     "text": [
      "10:59:52 - cmdstanpy - INFO - Chain [1] start processing\n"
     ]
    },
    {
     "name": "stdout",
     "output_type": "stream",
     "text": [
      "Trend's smoothing fraction chosen: 1.0\n"
     ]
    },
    {
     "name": "stderr",
     "output_type": "stream",
     "text": [
      "10:59:52 - cmdstanpy - INFO - Chain [1] done processing\n",
      "10:59:52 - cmdstanpy - INFO - Chain [1] start processing\n",
      "10:59:52 - cmdstanpy - INFO - Chain [1] done processing\n"
     ]
    },
    {
     "name": "stdout",
     "output_type": "stream",
     "text": [
      "The time-series has 5 seasonalities detected\n",
      "Trend's smoothing fraction chosen: 0.34\n"
     ]
    },
    {
     "name": "stderr",
     "output_type": "stream",
     "text": [
      "11:00:29 - cmdstanpy - INFO - Chain [1] start processing\n",
      "11:00:29 - cmdstanpy - INFO - Chain [1] done processing\n",
      "11:00:29 - cmdstanpy - INFO - Chain [1] start processing\n",
      "11:00:29 - cmdstanpy - INFO - Chain [1] done processing\n",
      "11:00:29 - cmdstanpy - ERROR - Chain [1] error: error during processing Operation not permitted\n",
      "Optimization terminated abnormally. Falling back to Newton.\n",
      "11:00:29 - cmdstanpy - INFO - Chain [1] start processing\n",
      "11:00:33 - cmdstanpy - INFO - Chain [1] done processing\n"
     ]
    },
    {
     "name": "stdout",
     "output_type": "stream",
     "text": [
      "Analyzing 0713509000...\n",
      "The time-series has 11 seasonalities detected\n"
     ]
    },
    {
     "name": "stderr",
     "output_type": "stream",
     "text": [
      "11:01:10 - cmdstanpy - INFO - Chain [1] start processing\n"
     ]
    },
    {
     "name": "stdout",
     "output_type": "stream",
     "text": [
      "Trend's smoothing fraction chosen: 0.3\n"
     ]
    },
    {
     "name": "stderr",
     "output_type": "stream",
     "text": [
      "11:01:10 - cmdstanpy - INFO - Chain [1] done processing\n",
      "11:01:10 - cmdstanpy - INFO - Chain [1] start processing\n",
      "11:01:10 - cmdstanpy - INFO - Chain [1] done processing\n"
     ]
    },
    {
     "name": "stdout",
     "output_type": "stream",
     "text": [
      "The time-series has 4 seasonalities detected\n"
     ]
    },
    {
     "name": "stderr",
     "output_type": "stream",
     "text": [
      "11:01:44 - cmdstanpy - INFO - Chain [1] start processing\n"
     ]
    },
    {
     "name": "stdout",
     "output_type": "stream",
     "text": [
      "Trend's smoothing fraction chosen: 0.23\n"
     ]
    },
    {
     "name": "stderr",
     "output_type": "stream",
     "text": [
      "11:01:44 - cmdstanpy - INFO - Chain [1] done processing\n",
      "11:01:44 - cmdstanpy - INFO - Chain [1] start processing\n",
      "11:01:44 - cmdstanpy - INFO - Chain [1] done processing\n"
     ]
    },
    {
     "name": "stdout",
     "output_type": "stream",
     "text": [
      "Analyzing 0805502200...\n",
      "The time-series has 4 seasonalities detected\n",
      "Trend's smoothing fraction chosen: 1.0\n"
     ]
    },
    {
     "name": "stderr",
     "output_type": "stream",
     "text": [
      "11:03:15 - cmdstanpy - INFO - Chain [1] start processing\n",
      "11:03:15 - cmdstanpy - INFO - Chain [1] done processing\n",
      "11:03:15 - cmdstanpy - INFO - Chain [1] start processing\n",
      "11:03:15 - cmdstanpy - INFO - Chain [1] done processing\n"
     ]
    },
    {
     "name": "stdout",
     "output_type": "stream",
     "text": [
      "The time-series has 4 seasonalities detected\n"
     ]
    },
    {
     "name": "stderr",
     "output_type": "stream",
     "text": [
      "11:03:51 - cmdstanpy - INFO - Chain [1] start processing\n"
     ]
    },
    {
     "name": "stdout",
     "output_type": "stream",
     "text": [
      "Trend's smoothing fraction chosen: 0.27\n"
     ]
    },
    {
     "name": "stderr",
     "output_type": "stream",
     "text": [
      "11:03:51 - cmdstanpy - INFO - Chain [1] done processing\n",
      "11:03:52 - cmdstanpy - INFO - Chain [1] start processing\n",
      "11:03:52 - cmdstanpy - INFO - Chain [1] done processing\n",
      "11:03:52 - cmdstanpy - ERROR - Chain [1] error: error during processing Operation not permitted\n",
      "Optimization terminated abnormally. Falling back to Newton.\n",
      "11:03:52 - cmdstanpy - INFO - Chain [1] start processing\n",
      "11:03:55 - cmdstanpy - INFO - Chain [1] done processing\n"
     ]
    },
    {
     "name": "stdout",
     "output_type": "stream",
     "text": [
      "Analyzing 0708200000...\n",
      "The time-series has 9 seasonalities detected\n"
     ]
    },
    {
     "name": "stderr",
     "output_type": "stream",
     "text": [
      "11:04:31 - cmdstanpy - INFO - Chain [1] start processing\n"
     ]
    },
    {
     "name": "stdout",
     "output_type": "stream",
     "text": [
      "Trend's smoothing fraction chosen: 0.27\n"
     ]
    },
    {
     "name": "stderr",
     "output_type": "stream",
     "text": [
      "11:04:31 - cmdstanpy - INFO - Chain [1] done processing\n",
      "11:04:31 - cmdstanpy - INFO - Chain [1] start processing\n",
      "11:04:31 - cmdstanpy - INFO - Chain [1] done processing\n"
     ]
    },
    {
     "name": "stdout",
     "output_type": "stream",
     "text": [
      "The time-series has 7 seasonalities detected\n"
     ]
    },
    {
     "name": "stderr",
     "output_type": "stream",
     "text": [
      "11:05:09 - cmdstanpy - INFO - Chain [1] start processing\n"
     ]
    },
    {
     "name": "stdout",
     "output_type": "stream",
     "text": [
      "Trend's smoothing fraction chosen: 0.28\n"
     ]
    },
    {
     "name": "stderr",
     "output_type": "stream",
     "text": [
      "11:05:09 - cmdstanpy - INFO - Chain [1] done processing\n",
      "11:05:09 - cmdstanpy - INFO - Chain [1] start processing\n",
      "11:05:09 - cmdstanpy - INFO - Chain [1] done processing\n",
      "11:05:09 - cmdstanpy - ERROR - Chain [1] error: error during processing Operation not permitted\n",
      "Optimization terminated abnormally. Falling back to Newton.\n",
      "11:05:09 - cmdstanpy - INFO - Chain [1] start processing\n",
      "11:05:12 - cmdstanpy - INFO - Chain [1] done processing\n"
     ]
    },
    {
     "name": "stdout",
     "output_type": "stream",
     "text": [
      "Analyzing 0703100000...\n",
      "The time-series has 5 seasonalities detected\n"
     ]
    },
    {
     "name": "stderr",
     "output_type": "stream",
     "text": [
      "11:05:52 - cmdstanpy - INFO - Chain [1] start processing\n"
     ]
    },
    {
     "name": "stdout",
     "output_type": "stream",
     "text": [
      "Trend's smoothing fraction chosen: 0.28\n"
     ]
    },
    {
     "name": "stderr",
     "output_type": "stream",
     "text": [
      "11:05:52 - cmdstanpy - INFO - Chain [1] done processing\n",
      "11:05:52 - cmdstanpy - INFO - Chain [1] start processing\n",
      "11:05:52 - cmdstanpy - INFO - Chain [1] done processing\n"
     ]
    },
    {
     "name": "stdout",
     "output_type": "stream",
     "text": [
      "The time-series has 7 seasonalities detected\n",
      "Trend's smoothing fraction chosen: 0.29\n"
     ]
    },
    {
     "name": "stderr",
     "output_type": "stream",
     "text": [
      "11:06:37 - cmdstanpy - INFO - Chain [1] start processing\n",
      "11:06:37 - cmdstanpy - INFO - Chain [1] done processing\n",
      "11:06:37 - cmdstanpy - INFO - Chain [1] start processing\n",
      "11:06:37 - cmdstanpy - INFO - Chain [1] done processing\n",
      "11:06:37 - cmdstanpy - ERROR - Chain [1] error: error during processing Operation not permitted\n",
      "Optimization terminated abnormally. Falling back to Newton.\n",
      "11:06:37 - cmdstanpy - INFO - Chain [1] start processing\n",
      "11:06:40 - cmdstanpy - INFO - Chain [1] done processing\n"
     ]
    },
    {
     "name": "stdout",
     "output_type": "stream",
     "text": [
      "Analyzing 0710809000...\n",
      "The time-series has 6 seasonalities detected\n"
     ]
    },
    {
     "name": "stderr",
     "output_type": "stream",
     "text": [
      "11:08:03 - cmdstanpy - INFO - Chain [1] start processing\n"
     ]
    },
    {
     "name": "stdout",
     "output_type": "stream",
     "text": [
      "Trend's smoothing fraction chosen: 1.0\n"
     ]
    },
    {
     "name": "stderr",
     "output_type": "stream",
     "text": [
      "11:08:04 - cmdstanpy - INFO - Chain [1] done processing\n",
      "11:08:04 - cmdstanpy - INFO - Chain [1] start processing\n",
      "11:08:04 - cmdstanpy - INFO - Chain [1] done processing\n"
     ]
    },
    {
     "name": "stdout",
     "output_type": "stream",
     "text": [
      "The time-series has 6 seasonalities detected\n"
     ]
    },
    {
     "name": "stderr",
     "output_type": "stream",
     "text": [
      "11:09:15 - cmdstanpy - INFO - Chain [1] start processing\n"
     ]
    },
    {
     "name": "stdout",
     "output_type": "stream",
     "text": [
      "Trend's smoothing fraction chosen: 1.0\n"
     ]
    },
    {
     "name": "stderr",
     "output_type": "stream",
     "text": [
      "11:09:15 - cmdstanpy - INFO - Chain [1] done processing\n",
      "11:09:15 - cmdstanpy - INFO - Chain [1] start processing\n",
      "11:09:15 - cmdstanpy - INFO - Chain [1] done processing\n",
      "11:09:15 - cmdstanpy - ERROR - Chain [1] error: error during processing Operation not permitted\n",
      "Optimization terminated abnormally. Falling back to Newton.\n",
      "11:09:15 - cmdstanpy - INFO - Chain [1] start processing\n",
      "11:09:21 - cmdstanpy - INFO - Chain [1] done processing\n"
     ]
    },
    {
     "name": "stdout",
     "output_type": "stream",
     "text": [
      "Analyzing 0710100000...\n",
      "The time-series has 10 seasonalities detected\n"
     ]
    },
    {
     "name": "stderr",
     "output_type": "stream",
     "text": [
      "11:10:31 - cmdstanpy - INFO - Chain [1] start processing\n"
     ]
    },
    {
     "name": "stdout",
     "output_type": "stream",
     "text": [
      "Trend's smoothing fraction chosen: 1.0\n"
     ]
    },
    {
     "name": "stderr",
     "output_type": "stream",
     "text": [
      "11:10:31 - cmdstanpy - INFO - Chain [1] done processing\n",
      "11:10:31 - cmdstanpy - INFO - Chain [1] start processing\n",
      "11:10:31 - cmdstanpy - INFO - Chain [1] done processing\n"
     ]
    },
    {
     "name": "stdout",
     "output_type": "stream",
     "text": [
      "The time-series has 2 seasonalities detected\n"
     ]
    },
    {
     "name": "stderr",
     "output_type": "stream",
     "text": [
      "11:11:40 - cmdstanpy - INFO - Chain [1] start processing\n"
     ]
    },
    {
     "name": "stdout",
     "output_type": "stream",
     "text": [
      "Trend's smoothing fraction chosen: 1.0\n"
     ]
    },
    {
     "name": "stderr",
     "output_type": "stream",
     "text": [
      "11:11:40 - cmdstanpy - INFO - Chain [1] done processing\n",
      "11:11:41 - cmdstanpy - INFO - Chain [1] start processing\n",
      "11:11:41 - cmdstanpy - INFO - Chain [1] done processing\n"
     ]
    },
    {
     "name": "stdout",
     "output_type": "stream",
     "text": [
      "Analyzing 0805220000...\n",
      "The time-series has 10 seasonalities detected\n"
     ]
    },
    {
     "name": "stderr",
     "output_type": "stream",
     "text": [
      "11:12:21 - cmdstanpy - INFO - Chain [1] start processing\n"
     ]
    },
    {
     "name": "stdout",
     "output_type": "stream",
     "text": [
      "Trend's smoothing fraction chosen: 0.15\n"
     ]
    },
    {
     "name": "stderr",
     "output_type": "stream",
     "text": [
      "11:12:21 - cmdstanpy - INFO - Chain [1] done processing\n",
      "11:12:21 - cmdstanpy - INFO - Chain [1] start processing\n",
      "11:12:21 - cmdstanpy - INFO - Chain [1] done processing\n"
     ]
    },
    {
     "name": "stdout",
     "output_type": "stream",
     "text": [
      "The time-series has 7 seasonalities detected\n"
     ]
    },
    {
     "name": "stderr",
     "output_type": "stream",
     "text": [
      "11:13:00 - cmdstanpy - INFO - Chain [1] start processing\n"
     ]
    },
    {
     "name": "stdout",
     "output_type": "stream",
     "text": [
      "Trend's smoothing fraction chosen: 0.37\n"
     ]
    },
    {
     "name": "stderr",
     "output_type": "stream",
     "text": [
      "11:13:00 - cmdstanpy - INFO - Chain [1] done processing\n",
      "11:13:00 - cmdstanpy - INFO - Chain [1] start processing\n",
      "11:13:00 - cmdstanpy - INFO - Chain [1] done processing\n",
      "11:13:00 - cmdstanpy - ERROR - Chain [1] error: error during processing Operation not permitted\n",
      "Optimization terminated abnormally. Falling back to Newton.\n",
      "11:13:00 - cmdstanpy - INFO - Chain [1] start processing\n",
      "11:13:04 - cmdstanpy - INFO - Chain [1] done processing\n"
     ]
    },
    {
     "name": "stdout",
     "output_type": "stream",
     "text": [
      "Analyzing 0810909000...\n",
      "The time-series has 10 seasonalities detected\n"
     ]
    },
    {
     "name": "stderr",
     "output_type": "stream",
     "text": [
      "11:13:42 - cmdstanpy - INFO - Chain [1] start processing\n"
     ]
    },
    {
     "name": "stdout",
     "output_type": "stream",
     "text": [
      "Trend's smoothing fraction chosen: 0.27\n"
     ]
    },
    {
     "name": "stderr",
     "output_type": "stream",
     "text": [
      "11:13:42 - cmdstanpy - INFO - Chain [1] done processing\n",
      "11:13:42 - cmdstanpy - INFO - Chain [1] start processing\n",
      "11:13:42 - cmdstanpy - INFO - Chain [1] done processing\n"
     ]
    },
    {
     "name": "stdout",
     "output_type": "stream",
     "text": [
      "The time-series has 7 seasonalities detected\n"
     ]
    },
    {
     "name": "stderr",
     "output_type": "stream",
     "text": [
      "11:14:54 - cmdstanpy - INFO - Chain [1] start processing\n"
     ]
    },
    {
     "name": "stdout",
     "output_type": "stream",
     "text": [
      "Trend's smoothing fraction chosen: 1.0\n"
     ]
    },
    {
     "name": "stderr",
     "output_type": "stream",
     "text": [
      "11:14:54 - cmdstanpy - INFO - Chain [1] done processing\n",
      "11:14:54 - cmdstanpy - INFO - Chain [1] start processing\n",
      "11:14:54 - cmdstanpy - INFO - Chain [1] done processing\n",
      "11:14:54 - cmdstanpy - ERROR - Chain [1] error: error during processing Operation not permitted\n",
      "Optimization terminated abnormally. Falling back to Newton.\n",
      "11:14:54 - cmdstanpy - INFO - Chain [1] start processing\n",
      "11:14:57 - cmdstanpy - INFO - Chain [1] done processing\n"
     ]
    },
    {
     "name": "stdout",
     "output_type": "stream",
     "text": [
      "Analyzing 0804200000...\n",
      "The time-series has 9 seasonalities detected\n"
     ]
    },
    {
     "name": "stderr",
     "output_type": "stream",
     "text": [
      "11:16:08 - cmdstanpy - INFO - Chain [1] start processing\n"
     ]
    },
    {
     "name": "stdout",
     "output_type": "stream",
     "text": [
      "Trend's smoothing fraction chosen: 1.0\n"
     ]
    },
    {
     "name": "stderr",
     "output_type": "stream",
     "text": [
      "11:16:08 - cmdstanpy - INFO - Chain [1] done processing\n",
      "11:16:09 - cmdstanpy - INFO - Chain [1] start processing\n",
      "11:16:09 - cmdstanpy - INFO - Chain [1] done processing\n"
     ]
    },
    {
     "name": "stdout",
     "output_type": "stream",
     "text": [
      "The time-series has 8 seasonalities detected\n"
     ]
    },
    {
     "name": "stderr",
     "output_type": "stream",
     "text": [
      "11:17:20 - cmdstanpy - INFO - Chain [1] start processing\n"
     ]
    },
    {
     "name": "stdout",
     "output_type": "stream",
     "text": [
      "Trend's smoothing fraction chosen: 1.0\n"
     ]
    },
    {
     "name": "stderr",
     "output_type": "stream",
     "text": [
      "11:17:20 - cmdstanpy - INFO - Chain [1] done processing\n",
      "11:17:20 - cmdstanpy - INFO - Chain [1] start processing\n",
      "11:17:20 - cmdstanpy - INFO - Chain [1] done processing\n"
     ]
    },
    {
     "name": "stdout",
     "output_type": "stream",
     "text": [
      "Analyzing 0803901100...\n",
      "The time-series has 4 seasonalities detected\n"
     ]
    },
    {
     "name": "stderr",
     "output_type": "stream",
     "text": [
      "11:18:31 - cmdstanpy - INFO - Chain [1] start processing\n"
     ]
    },
    {
     "name": "stdout",
     "output_type": "stream",
     "text": [
      "Trend's smoothing fraction chosen: 1.0\n"
     ]
    },
    {
     "name": "stderr",
     "output_type": "stream",
     "text": [
      "11:18:31 - cmdstanpy - INFO - Chain [1] done processing\n",
      "11:18:31 - cmdstanpy - INFO - Chain [1] start processing\n",
      "11:18:32 - cmdstanpy - INFO - Chain [1] done processing\n"
     ]
    },
    {
     "name": "stdout",
     "output_type": "stream",
     "text": [
      "The time-series has 3 seasonalities detected\n"
     ]
    },
    {
     "name": "stderr",
     "output_type": "stream",
     "text": [
      "11:19:07 - cmdstanpy - INFO - Chain [1] start processing\n"
     ]
    },
    {
     "name": "stdout",
     "output_type": "stream",
     "text": [
      "Trend's smoothing fraction chosen: 0.25\n"
     ]
    },
    {
     "name": "stderr",
     "output_type": "stream",
     "text": [
      "11:19:07 - cmdstanpy - INFO - Chain [1] done processing\n",
      "11:19:07 - cmdstanpy - INFO - Chain [1] start processing\n",
      "11:19:07 - cmdstanpy - INFO - Chain [1] done processing\n",
      "11:19:07 - cmdstanpy - ERROR - Chain [1] error: error during processing Operation not permitted\n",
      "Optimization terminated abnormally. Falling back to Newton.\n",
      "11:19:07 - cmdstanpy - INFO - Chain [1] start processing\n",
      "11:19:09 - cmdstanpy - INFO - Chain [1] done processing\n"
     ]
    },
    {
     "name": "stdout",
     "output_type": "stream",
     "text": [
      "Analyzing 0806100000...\n",
      "The time-series has 8 seasonalities detected\n"
     ]
    },
    {
     "name": "stderr",
     "output_type": "stream",
     "text": [
      "11:20:23 - cmdstanpy - INFO - Chain [1] start processing\n"
     ]
    },
    {
     "name": "stdout",
     "output_type": "stream",
     "text": [
      "Trend's smoothing fraction chosen: 1.0\n"
     ]
    },
    {
     "name": "stderr",
     "output_type": "stream",
     "text": [
      "11:20:23 - cmdstanpy - INFO - Chain [1] done processing\n",
      "11:20:23 - cmdstanpy - INFO - Chain [1] start processing\n",
      "11:20:24 - cmdstanpy - INFO - Chain [1] done processing\n"
     ]
    },
    {
     "name": "stdout",
     "output_type": "stream",
     "text": [
      "The time-series has 8 seasonalities detected\n",
      "Trend's smoothing fraction chosen: 0.97\n"
     ]
    },
    {
     "name": "stderr",
     "output_type": "stream",
     "text": [
      "11:21:51 - cmdstanpy - INFO - Chain [1] start processing\n",
      "11:21:51 - cmdstanpy - INFO - Chain [1] done processing\n",
      "11:21:52 - cmdstanpy - INFO - Chain [1] start processing\n",
      "11:21:52 - cmdstanpy - INFO - Chain [1] done processing\n",
      "11:21:52 - cmdstanpy - ERROR - Chain [1] error: error during processing Operation not permitted\n",
      "Optimization terminated abnormally. Falling back to Newton.\n",
      "11:21:52 - cmdstanpy - INFO - Chain [1] start processing\n",
      "11:21:56 - cmdstanpy - INFO - Chain [1] done processing\n"
     ]
    },
    {
     "name": "stdout",
     "output_type": "stream",
     "text": [
      "Analyzing 0805210000...\n",
      "The time-series has 7 seasonalities detected\n",
      "Trend's smoothing fraction chosen: 0.23\n"
     ]
    },
    {
     "name": "stderr",
     "output_type": "stream",
     "text": [
      "11:22:39 - cmdstanpy - INFO - Chain [1] start processing\n",
      "11:22:40 - cmdstanpy - INFO - Chain [1] done processing\n",
      "11:22:40 - cmdstanpy - INFO - Chain [1] start processing\n",
      "11:22:40 - cmdstanpy - INFO - Chain [1] done processing\n"
     ]
    },
    {
     "name": "stdout",
     "output_type": "stream",
     "text": [
      "The time-series has 8 seasonalities detected\n"
     ]
    },
    {
     "name": "stderr",
     "output_type": "stream",
     "text": [
      "11:24:00 - cmdstanpy - INFO - Chain [1] start processing\n"
     ]
    },
    {
     "name": "stdout",
     "output_type": "stream",
     "text": [
      "Trend's smoothing fraction chosen: 1.0\n"
     ]
    },
    {
     "name": "stderr",
     "output_type": "stream",
     "text": [
      "11:24:00 - cmdstanpy - INFO - Chain [1] done processing\n",
      "11:24:01 - cmdstanpy - INFO - Chain [1] start processing\n",
      "11:24:01 - cmdstanpy - INFO - Chain [1] done processing\n",
      "11:24:01 - cmdstanpy - ERROR - Chain [1] error: error during processing Operation not permitted\n",
      "Optimization terminated abnormally. Falling back to Newton.\n",
      "11:24:01 - cmdstanpy - INFO - Chain [1] start processing\n",
      "11:24:05 - cmdstanpy - INFO - Chain [1] done processing\n"
     ]
    },
    {
     "name": "stdout",
     "output_type": "stream",
     "text": [
      "Analyzing 0705190000...\n",
      "The time-series has 9 seasonalities detected\n"
     ]
    },
    {
     "name": "stderr",
     "output_type": "stream",
     "text": [
      "11:24:44 - cmdstanpy - INFO - Chain [1] start processing\n"
     ]
    },
    {
     "name": "stdout",
     "output_type": "stream",
     "text": [
      "Trend's smoothing fraction chosen: 0.1\n"
     ]
    },
    {
     "name": "stderr",
     "output_type": "stream",
     "text": [
      "11:24:44 - cmdstanpy - INFO - Chain [1] done processing\n",
      "11:24:44 - cmdstanpy - INFO - Chain [1] start processing\n",
      "11:24:45 - cmdstanpy - INFO - Chain [1] done processing\n"
     ]
    },
    {
     "name": "stdout",
     "output_type": "stream",
     "text": [
      "The time-series has 3 seasonalities detected\n"
     ]
    },
    {
     "name": "stderr",
     "output_type": "stream",
     "text": [
      "11:25:19 - cmdstanpy - INFO - Chain [1] start processing\n"
     ]
    },
    {
     "name": "stdout",
     "output_type": "stream",
     "text": [
      "Trend's smoothing fraction chosen: 0.2\n"
     ]
    },
    {
     "name": "stderr",
     "output_type": "stream",
     "text": [
      "11:25:19 - cmdstanpy - INFO - Chain [1] done processing\n",
      "11:25:19 - cmdstanpy - INFO - Chain [1] start processing\n",
      "11:25:19 - cmdstanpy - INFO - Chain [1] done processing\n"
     ]
    },
    {
     "name": "stdout",
     "output_type": "stream",
     "text": [
      "Analyzing 0811109000...\n",
      "The time-series has 9 seasonalities detected\n"
     ]
    },
    {
     "name": "stderr",
     "output_type": "stream",
     "text": [
      "11:26:30 - cmdstanpy - INFO - Chain [1] start processing\n"
     ]
    },
    {
     "name": "stdout",
     "output_type": "stream",
     "text": [
      "Trend's smoothing fraction chosen: 1.0\n"
     ]
    },
    {
     "name": "stderr",
     "output_type": "stream",
     "text": [
      "11:26:30 - cmdstanpy - INFO - Chain [1] done processing\n",
      "11:26:30 - cmdstanpy - INFO - Chain [1] start processing\n",
      "11:26:30 - cmdstanpy - INFO - Chain [1] done processing\n"
     ]
    },
    {
     "name": "stdout",
     "output_type": "stream",
     "text": [
      "The time-series has 8 seasonalities detected\n"
     ]
    },
    {
     "name": "stderr",
     "output_type": "stream",
     "text": [
      "11:27:05 - cmdstanpy - INFO - Chain [1] start processing\n"
     ]
    },
    {
     "name": "stdout",
     "output_type": "stream",
     "text": [
      "Trend's smoothing fraction chosen: 0.25\n"
     ]
    },
    {
     "name": "stderr",
     "output_type": "stream",
     "text": [
      "11:27:05 - cmdstanpy - INFO - Chain [1] done processing\n",
      "11:27:05 - cmdstanpy - INFO - Chain [1] start processing\n",
      "11:27:05 - cmdstanpy - INFO - Chain [1] done processing\n",
      "11:27:05 - cmdstanpy - ERROR - Chain [1] error: error during processing Operation not permitted\n",
      "Optimization terminated abnormally. Falling back to Newton.\n",
      "11:27:05 - cmdstanpy - INFO - Chain [1] start processing\n",
      "11:27:08 - cmdstanpy - INFO - Chain [1] done processing\n"
     ]
    }
   ],
   "source": [
    "# Set the observations options\n",
    "observations_options = ['usd_kg', 'net_weight']\n",
    "# Model's metrics dataframe\n",
    "metrics_df = pd.DataFrame(columns=['heading', 'type','model', 'rmse', 'mae'])\n",
    "\n",
    "for heading in tqdm(available_headings['heading'].values):\n",
    "\n",
    "    # Choose a heading\n",
    "    chosen_heading = heading\n",
    "    print('Analyzing {}...'.format(chosen_heading))\n",
    "    # Iterate trough obsevation options\n",
    "    for observations in observations_options:\n",
    "        # Get the time-series\n",
    "        ts = time_series_generator.generate(chosen_heading, observations)\n",
    "\n",
    "        #-------------------------------------\n",
    "        # Cyclic-time granularities generation\n",
    "        #-------------------------------------\n",
    "        time_granularities, priority = time_granularities_generator.generate(ts.start_date, ts.end_date)\n",
    "        data = pd.concat([ts.data, time_granularities], axis=1)\n",
    "        #-------------------------------------\n",
    "\n",
    "\n",
    "        #-------------------------------------\n",
    "        # Seasonality analysis\n",
    "        #-------------------------------------\n",
    "        # Define the granularities to analyze\n",
    "        granularities = ['semester_in_year',\n",
    "                         'quarter_in_year',\n",
    "                         'month_in_year',\n",
    "                         'month_in_semester',\n",
    "                         'month_in_quarter',\n",
    "                         'quarter_in_semester',\n",
    "                         'day_in_month',\n",
    "                         'day_in_week',\n",
    "                         'week_in_year',\n",
    "                         'week_in_semester',\n",
    "                         'week_in_quarter',\n",
    "                         'week_in_month']\n",
    "\n",
    "        selected_granularities = []\n",
    "        for g in granularities:\n",
    "            # print('Analyzing {}...'.format(g))\n",
    "            seasonality_analysis = time_granularities_analysis.analysis(cyclic_granularity=g,\n",
    "                                            observations=observations,\n",
    "                                            data=data)\n",
    "            if seasonality_analysis.is_seasonal():\n",
    "                selected_granularities.append(g)\n",
    "        selected_granularities = [x for x in priority if x in selected_granularities]\n",
    "        print(\"The time-series has {} seasonalities detected\".format(len(selected_granularities)))\n",
    "        #-------------------------------------\n",
    "\n",
    "        #-------------------------------------\n",
    "        # GMST decomposition\n",
    "        #-------------------------------------\n",
    "\n",
    "        # Get the time-series\n",
    "        time_series = data[observations].values\n",
    "\n",
    "        #--------------\n",
    "        # SEASONALITIES\n",
    "        #--------------\n",
    "        # Initialize the seasonal patterns\n",
    "        seasonal_patterns = {}\n",
    "\n",
    "        # Get the pattern for every granularity\n",
    "        for granularity in selected_granularities:\n",
    "\n",
    "            # Get the label of every observation\n",
    "            labels = data[granularity].values\n",
    "            # Generate the pattern\n",
    "            pattern = []\n",
    "            for label in labels:\n",
    "                value = np.mean(time_series[np.where(labels == label)])\n",
    "                pattern.append(value)\n",
    "            seasonal_patterns[granularity] = pattern\n",
    "        #--------------\n",
    "\n",
    "        #------\n",
    "        # TREND\n",
    "        #------\n",
    "        # Initialize the parameters\n",
    "        percentage = 0.00 # fraction of datapoints taken in the lowess smoothing\n",
    "        statistic_th = 0.05 # threshold for the distance metric\n",
    "        alpha = 0.05 # threshold for significance\n",
    "\n",
    "        correlation_exists = True\n",
    "\n",
    "        while(correlation_exists ## while they are correlated\n",
    "              and\n",
    "              not(math.isclose(percentage, 1)) # while the fraction for the lowess isn't 100%\n",
    "        ):\n",
    "            # Increase the percentage\n",
    "            percentage = round(percentage + 0.01, 2)\n",
    "\n",
    "            # Get the trend\n",
    "            trend = sm.nonparametric.lowess(data[observations], data.index, frac=percentage)[:, 1]\n",
    "            # Initialize the statistics summary\n",
    "            pearson_correlations ={}\n",
    "            # Make the comparisons\n",
    "            for granularity, seasonal_pattern in seasonal_patterns.items():\n",
    "\n",
    "                # Compute Pearson correlation coefficient and p-value\n",
    "                analysis = pearsonr(seasonal_pattern, trend)\n",
    "\n",
    "                pearson_correlations[granularity] = {'statistic':analysis.statistic, 'pvalue':analysis.pvalue}\n",
    "\n",
    "            # Get the max correlation\n",
    "            granularity, metrics = max(pearson_correlations.items(), key=lambda x: abs(x[1]['statistic']))\n",
    "            statistic = metrics['statistic']\n",
    "\n",
    "            # If the max correlation is smaller than the threshold, assess its significance\n",
    "            if abs(statistic) < statistic_th:\n",
    "                pvalue = pearson_correlations[granularity]['pvalue']/2\n",
    "                # print('pvalue: {}'.format(pvalue))\n",
    "                # If the pvalue is smaller than the threshold, it's significant\n",
    "                if pvalue < alpha:\n",
    "                    correlation_exists = False\n",
    "\n",
    "        pearson_correlations = pd.DataFrame.from_dict(pearson_correlations, orient='index')\n",
    "        print('Trend\\'s smoothing fraction chosen: {}'.format(percentage))\n",
    "        #------\n",
    "\n",
    "        # Make an array with the decomposition results\n",
    "        X = np.array([trend] + list(seasonal_patterns.values())).T\n",
    "\n",
    "        #-------------------------------------\n",
    "\n",
    "        #-------------------------------------\n",
    "        # Models\n",
    "        #-------------------------------------\n",
    "        explanatory_variables = X\n",
    "        target_variable = data[observations].values\n",
    "        target_name = observations\n",
    "        timepoints = data.index\n",
    "        training_fraction = 0.8\n",
    "\n",
    "        models = {'prophet_1':prophet_1, 'prophet_2':prophet_2}\n",
    "        for model_name, model in models.items():\n",
    "            kwargs = {\n",
    "                'target_variable': target_variable,\n",
    "                'target_name': target_name,\n",
    "                'timepoints': timepoints,\n",
    "                'training_fraction': training_fraction\n",
    "            }\n",
    "            if model_name == 'prophet_2':\n",
    "                kwargs['explanatory_variables'] = explanatory_variables\n",
    "            m = model.model(**kwargs)\n",
    "            assessment = m.test()\n",
    "            metrics = {'heading': [chosen_heading],\n",
    "                      'type':[observations],\n",
    "                      'model': [model_name],\n",
    "                      'rmse': [assessment['rmse']],\n",
    "                      'mae':[assessment['mae']]}\n",
    "            metrics_df = pd.concat([metrics_df, pd.DataFrame(metrics)], ignore_index = True)\n",
    "\n",
    "# Save all\n",
    "metrics_df.to_csv('./prophet_models_metrics.csv')"
   ],
   "metadata": {
    "collapsed": false
   }
  }
 ],
 "metadata": {
  "kernelspec": {
   "display_name": "Python 3",
   "language": "python",
   "name": "python3"
  },
  "language_info": {
   "codemirror_mode": {
    "name": "ipython",
    "version": 2
   },
   "file_extension": ".py",
   "mimetype": "text/x-python",
   "name": "python",
   "nbconvert_exporter": "python",
   "pygments_lexer": "ipython2",
   "version": "2.7.6"
  }
 },
 "nbformat": 4,
 "nbformat_minor": 0
}
