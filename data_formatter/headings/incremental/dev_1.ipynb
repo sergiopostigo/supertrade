{
 "cells": [
  {
   "cell_type": "markdown",
   "source": [
    "## Headings Incremental Preprocessing (Part 1)\n",
    "\n",
    "Formatting unseen headings (new headings in the persistent zone that do not exist already in the formatted zone). In this first part, generate the manual curation file for unseen headings."
   ],
   "metadata": {
    "collapsed": false
   }
  },
  {
   "cell_type": "code",
   "execution_count": 9,
   "outputs": [],
   "source": [
    "from database_settings import spark_utilities\n",
    "from pyspark.sql.functions import col, lpad,concat_ws\n",
    "import pandas as pd\n",
    "import time\n",
    "from database_settings import postgres_utilities\n",
    "from data_formatter import utilities"
   ],
   "metadata": {
    "collapsed": false
   }
  },
  {
   "cell_type": "code",
   "execution_count": 10,
   "outputs": [],
   "source": [
    "# Get headings to work\n",
    "headings = utilities.get_headings()\n",
    "headings_filter = r\"^(\"+ \"|\".join(headings) + \")\" # filter out headings that aren't in the list"
   ],
   "metadata": {
    "collapsed": false
   }
  },
  {
   "cell_type": "code",
   "execution_count": 11,
   "outputs": [],
   "source": [
    "# Get the headings that already exist in the Formatted Zone\n",
    "\n",
    "# Establish the connection with the database\n",
    "engine = postgres_utilities.engine()\n",
    "\n",
    "# Read the headings table\n",
    "existing_headings = pd.read_sql_table('peru_exports_headings', engine)"
   ],
   "metadata": {
    "collapsed": false
   }
  },
  {
   "cell_type": "code",
   "execution_count": 12,
   "outputs": [
    {
     "data": {
      "text/plain": "        heading                                        description mapped_to\n0    0701100000  Papas (patatas) para siembra, frescos o refrig...      None\n1    0701900000  Papas (patatas) excepto para siembra, frescos ...      None\n2    0702000000                     Tomates frescos o refrigerados      None\n3    0703100000         Cebollas y chalotes frescos o refrigerados      None\n4    0703201000           Ajos para siembra frescos o refrigerados      None\n..          ...                                                ...       ...\n169  0813300000                                     Manzanas secas      None\n170  0813400000                        Otros frutas o frutos secos      None\n171  0813500000                    Mezcla de frutas o frutos secos      None\n172  0814001000  Corteza de (limón sutil, limón común, limón cr...      None\n173  0814009000                Otras cortezas de agrios (cítricos)      None\n\n[174 rows x 3 columns]",
      "text/html": "<div>\n<style scoped>\n    .dataframe tbody tr th:only-of-type {\n        vertical-align: middle;\n    }\n\n    .dataframe tbody tr th {\n        vertical-align: top;\n    }\n\n    .dataframe thead th {\n        text-align: right;\n    }\n</style>\n<table border=\"1\" class=\"dataframe\">\n  <thead>\n    <tr style=\"text-align: right;\">\n      <th></th>\n      <th>heading</th>\n      <th>description</th>\n      <th>mapped_to</th>\n    </tr>\n  </thead>\n  <tbody>\n    <tr>\n      <th>0</th>\n      <td>0701100000</td>\n      <td>Papas (patatas) para siembra, frescos o refrig...</td>\n      <td>None</td>\n    </tr>\n    <tr>\n      <th>1</th>\n      <td>0701900000</td>\n      <td>Papas (patatas) excepto para siembra, frescos ...</td>\n      <td>None</td>\n    </tr>\n    <tr>\n      <th>2</th>\n      <td>0702000000</td>\n      <td>Tomates frescos o refrigerados</td>\n      <td>None</td>\n    </tr>\n    <tr>\n      <th>3</th>\n      <td>0703100000</td>\n      <td>Cebollas y chalotes frescos o refrigerados</td>\n      <td>None</td>\n    </tr>\n    <tr>\n      <th>4</th>\n      <td>0703201000</td>\n      <td>Ajos para siembra frescos o refrigerados</td>\n      <td>None</td>\n    </tr>\n    <tr>\n      <th>...</th>\n      <td>...</td>\n      <td>...</td>\n      <td>...</td>\n    </tr>\n    <tr>\n      <th>169</th>\n      <td>0813300000</td>\n      <td>Manzanas secas</td>\n      <td>None</td>\n    </tr>\n    <tr>\n      <th>170</th>\n      <td>0813400000</td>\n      <td>Otros frutas o frutos secos</td>\n      <td>None</td>\n    </tr>\n    <tr>\n      <th>171</th>\n      <td>0813500000</td>\n      <td>Mezcla de frutas o frutos secos</td>\n      <td>None</td>\n    </tr>\n    <tr>\n      <th>172</th>\n      <td>0814001000</td>\n      <td>Corteza de (limón sutil, limón común, limón cr...</td>\n      <td>None</td>\n    </tr>\n    <tr>\n      <th>173</th>\n      <td>0814009000</td>\n      <td>Otras cortezas de agrios (cítricos)</td>\n      <td>None</td>\n    </tr>\n  </tbody>\n</table>\n<p>174 rows × 3 columns</p>\n</div>"
     },
     "execution_count": 12,
     "metadata": {},
     "output_type": "execute_result"
    }
   ],
   "source": [
    "existing_headings"
   ],
   "metadata": {
    "collapsed": false
   }
  },
  {
   "cell_type": "code",
   "execution_count": 13,
   "outputs": [
    {
     "name": "stdout",
     "output_type": "stream",
     "text": [
      "Rows to curate: 0\n"
     ]
    },
    {
     "data": {
      "text/plain": "Empty DataFrame\nColumns: [heading, merged_description, curated_description, mapped_to]\nIndex: []",
      "text/html": "<div>\n<style scoped>\n    .dataframe tbody tr th:only-of-type {\n        vertical-align: middle;\n    }\n\n    .dataframe tbody tr th {\n        vertical-align: top;\n    }\n\n    .dataframe thead th {\n        text-align: right;\n    }\n</style>\n<table border=\"1\" class=\"dataframe\">\n  <thead>\n    <tr style=\"text-align: right;\">\n      <th></th>\n      <th>heading</th>\n      <th>merged_description</th>\n      <th>curated_description</th>\n      <th>mapped_to</th>\n    </tr>\n  </thead>\n  <tbody>\n  </tbody>\n</table>\n</div>"
     },
     "execution_count": 13,
     "metadata": {},
     "output_type": "execute_result"
    }
   ],
   "source": [
    "# Get the headings in the Persistent Zone that do not exist in the Formatted Zone (those starting with the digits in the headings list defined above)\n",
    "headings_to_format = spark_utilities.get_spark_df('peru_exports')\\\n",
    "    .select('PART_NANDI')\\\n",
    "    .distinct()\\\n",
    "    .withColumn(\"heading\", lpad(col(\"PART_NANDI\").cast(\"string\"), 10, \"0\")) \\\n",
    "    .filter(col(\"heading\").rlike(headings_filter))\\\n",
    "    .filter(~(col(\"heading\").isin(existing_headings['heading'].to_list())))\\\n",
    "    .select('heading')\\\n",
    "    .toPandas()\n",
    "\n",
    "# Get the labeled headings from the persistent zone\n",
    "headings_labeled = spark_utilities.get_spark_df('peru_exports_headings')\\\n",
    "    .select('0', '1')\\\n",
    "    .distinct()\\\n",
    "    .withColumnRenamed('1', 'raw_description') \\\n",
    "    .withColumn(\"heading\", lpad(col(\"0\").cast(\"string\"), 10, \"0\")) \\\n",
    "    .select('heading', 'raw_description')\\\n",
    "    .toPandas()\n",
    "\n",
    "# Join both dataframes in the headings column\n",
    "my_headings = pd.merge(headings_to_format, headings_labeled, on='heading',how='left').sort_values(by='heading', ascending=True)\n",
    "\n",
    "# Formatting\n",
    "# Eliminate multiple spacings in the description\n",
    "my_headings['raw_description'].replace(r'\\s+', ' ', regex=True, inplace=True)\n",
    "# Eliminate the dashes at the beginning of the description\n",
    "my_headings['raw_description'].replace(r'^[-\\s]+', '', regex=True, inplace=True)\n",
    "# Add final dot to description\n",
    "my_headings['raw_description'] = my_headings['raw_description'].apply(lambda x: x if x.endswith('.') else x+'.')\n",
    "# Group all descriptions from a heading in a single cell\n",
    "my_headings = my_headings.groupby('heading')['raw_description'].agg(lambda x: ' '.join(x)).reset_index()\n",
    "# Rename the description\n",
    "my_headings.rename(columns={'raw_description':'merged_description'}, inplace=True)\n",
    "# Add additional columns for curated description and mappings\n",
    "my_headings['curated_description'] = ''\n",
    "my_headings['mapped_to'] = '' # It may be the case that some headings in the list did not exist in the PDF, so the must be mapped to another headings that do exist.\n",
    "# Show count of rows to curate\n",
    "print('Rows to curate: '+str(len(my_headings)))\n",
    "my_headings"
   ],
   "metadata": {
    "collapsed": false
   }
  },
  {
   "cell_type": "code",
   "execution_count": 14,
   "outputs": [
    {
     "name": "stdout",
     "output_type": "stream",
     "text": [
      "No new headings to curate\n"
     ]
    }
   ],
   "source": [
    "# Export to CSV for manual resolution of descriptions\n",
    "if (len(my_headings)>0):\n",
    "    file_name = './hs_curated_'+str(int(time.time()*1000))+'.csv'\n",
    "    my_headings.to_csv(file_name, index=None)\n",
    "    print(\"Proceed to manual curation process\")\n",
    "else:\n",
    "    print(\"No new headings to curate\")"
   ],
   "metadata": {
    "collapsed": false
   }
  }
 ],
 "metadata": {
  "kernelspec": {
   "display_name": "Python 3",
   "language": "python",
   "name": "python3"
  },
  "language_info": {
   "codemirror_mode": {
    "name": "ipython",
    "version": 2
   },
   "file_extension": ".py",
   "mimetype": "text/x-python",
   "name": "python",
   "nbconvert_exporter": "python",
   "pygments_lexer": "ipython2",
   "version": "2.7.6"
  }
 },
 "nbformat": 4,
 "nbformat_minor": 0
}
