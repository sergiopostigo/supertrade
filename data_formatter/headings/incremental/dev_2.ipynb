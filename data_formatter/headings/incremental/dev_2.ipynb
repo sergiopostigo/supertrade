{
 "cells": [
  {
   "cell_type": "markdown",
   "source": [
    "## Headings Incremental Preprocessing (Part 2)\n",
    "\n",
    "Formatting unseen headings (new headings in the persistent zone that do not exist already in the formatted zone). In this second part, load the manually curated headings into the Formatted Zone."
   ],
   "metadata": {
    "collapsed": false
   }
  },
  {
   "cell_type": "code",
   "execution_count": null,
   "metadata": {
    "collapsed": true
   },
   "outputs": [],
   "source": [
    "import pandas as pd\n",
    "from database_settings import postgres_utilities\n",
    "from data_formatter import utilities"
   ]
  },
  {
   "cell_type": "code",
   "execution_count": null,
   "outputs": [],
   "source": [
    "# EDIT HERE (add the name of the file created in part 1)\n",
    "file_name = ''"
   ],
   "metadata": {
    "collapsed": false
   }
  },
  {
   "cell_type": "code",
   "execution_count": null,
   "outputs": [],
   "source": [
    "# Import the manually curated CSV\n",
    "curated_hs = pd.read_csv('./'+file_name, dtype={\"heading\":\"string\", \"mapped_to\": \"string\"})\n",
    "# during curation, zero padding may have been removed, so add it if needed\n",
    "curated_hs['heading'] = curated_hs['heading'].apply(lambda x: x.zfill(10))\n",
    "curated_hs['mapped_to'] = curated_hs['mapped_to'].apply(lambda x: x.zfill(10) if not pd.isnull(x) else x)\n",
    "curated_hs"
   ],
   "metadata": {
    "collapsed": false
   }
  },
  {
   "cell_type": "code",
   "execution_count": null,
   "outputs": [],
   "source": [
    "# Add it to the formatted zone\n",
    "\n",
    "# Establish the connection with the database\n",
    "engine = postgres_utilities.engine()\n",
    "\n",
    "# Rename the columns and write in the database\n",
    "try:\n",
    "    curated_hs[['heading','curated_description', 'mapped_to']]\\\n",
    "        .rename(columns={\"curated_description\": \"description\"})\\\n",
    "        .to_sql('peru_exports_headings', engine, if_exists='append', index=False)\n",
    "    print(\"Data sent to Formatted Zone successfully!\")\n",
    "    # Remove the manually curated file once it's data is already in the Formatted Zone\n",
    "    utilities.delete_file_request(file_name)\n",
    "\n",
    "except Exception as e:\n",
    "        print(f\"Error while sending data to Formatted Zone: {e}\")"
   ],
   "metadata": {
    "collapsed": false
   }
  }
 ],
 "metadata": {
  "kernelspec": {
   "display_name": "Python 3",
   "language": "python",
   "name": "python3"
  },
  "language_info": {
   "codemirror_mode": {
    "name": "ipython",
    "version": 2
   },
   "file_extension": ".py",
   "mimetype": "text/x-python",
   "name": "python",
   "nbconvert_exporter": "python",
   "pygments_lexer": "ipython2",
   "version": "2.7.6"
  }
 },
 "nbformat": 4,
 "nbformat_minor": 0
}
