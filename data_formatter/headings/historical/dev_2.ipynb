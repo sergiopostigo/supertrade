{
 "cells": [
  {
   "cell_type": "markdown",
   "source": [
    "## Headings Historical Preprocessing (Part 2)\n",
    "\n",
    "Once manual curation is performed send the curated headings data to the Formatted Zone in PostgreSQL"
   ],
   "metadata": {
    "collapsed": false
   }
  },
  {
   "cell_type": "code",
   "execution_count": 9,
   "outputs": [],
   "source": [
    "import pandas as pd\n",
    "from database_settings import postgres_utilities\n",
    "import os\n",
    "from data_formatter import utilities"
   ],
   "metadata": {
    "collapsed": false
   }
  },
  {
   "cell_type": "code",
   "execution_count": 10,
   "outputs": [],
   "source": [
    "# EDIT HERE (add the name of the file created in part 1)\n",
    "file_name = 'hs_curated_1680276488571.csv'"
   ],
   "metadata": {
    "collapsed": false
   }
  },
  {
   "cell_type": "code",
   "execution_count": 11,
   "outputs": [
    {
     "data": {
      "text/plain": "        heading                                 merged_description  \\\n0    0701100000  PAPAS(PATATAS) FRESCAS O REFRIGERADOS PARA SIE...   \n1    0701900000  PAPAS(PATATAS) FRESCAS O REFRIGERADAS (EXC. PA...   \n2    0702000000  TOMATES FRESCOS O REFRIGERADOS. Tomates fresco...   \n3    0703100000  Cebollas y chalotes. CEBOLLAS Y CHALOTES. Cebo...   \n4    0703201000                                      Para siembra.   \n..          ...                                                ...   \n169  0813300000                MANZANAS SECAS. Manzanas. Manzanas.   \n170  0813400000  Las demas frutas u otros frutos. Las demás fru...   \n171  0813500000  Mezclas de frutas u otros frutos, secos, o de ...   \n172  0814001000  De limón (limón sutil, limón común, limón crio...   \n173  0814009000                                         Las demás.   \n\n                                   curated_description  mapped_to  \n0    Papas (patatas) para siembra, frescos o refrig...        NaN  \n1    Papas (patatas) excepto para siembra, frescos ...        NaN  \n2                       Tomates frescos o refrigerados        NaN  \n3           Cebollas y chalotes frescos o refrigerados        NaN  \n4             Ajos para siembra frescos o refrigerados        NaN  \n..                                                 ...        ...  \n169                                     Manzanas secas        NaN  \n170                        Otros frutas o frutos secos        NaN  \n171                    Mezcla de frutas o frutos secos        NaN  \n172  Corteza de (limón sutil, limón común, limón cr...        NaN  \n173                Otras cortezas de agrios (cítricos)        NaN  \n\n[174 rows x 4 columns]",
      "text/html": "<div>\n<style scoped>\n    .dataframe tbody tr th:only-of-type {\n        vertical-align: middle;\n    }\n\n    .dataframe tbody tr th {\n        vertical-align: top;\n    }\n\n    .dataframe thead th {\n        text-align: right;\n    }\n</style>\n<table border=\"1\" class=\"dataframe\">\n  <thead>\n    <tr style=\"text-align: right;\">\n      <th></th>\n      <th>heading</th>\n      <th>merged_description</th>\n      <th>curated_description</th>\n      <th>mapped_to</th>\n    </tr>\n  </thead>\n  <tbody>\n    <tr>\n      <th>0</th>\n      <td>0701100000</td>\n      <td>PAPAS(PATATAS) FRESCAS O REFRIGERADOS PARA SIE...</td>\n      <td>Papas (patatas) para siembra, frescos o refrig...</td>\n      <td>NaN</td>\n    </tr>\n    <tr>\n      <th>1</th>\n      <td>0701900000</td>\n      <td>PAPAS(PATATAS) FRESCAS O REFRIGERADAS (EXC. PA...</td>\n      <td>Papas (patatas) excepto para siembra, frescos ...</td>\n      <td>NaN</td>\n    </tr>\n    <tr>\n      <th>2</th>\n      <td>0702000000</td>\n      <td>TOMATES FRESCOS O REFRIGERADOS. Tomates fresco...</td>\n      <td>Tomates frescos o refrigerados</td>\n      <td>NaN</td>\n    </tr>\n    <tr>\n      <th>3</th>\n      <td>0703100000</td>\n      <td>Cebollas y chalotes. CEBOLLAS Y CHALOTES. Cebo...</td>\n      <td>Cebollas y chalotes frescos o refrigerados</td>\n      <td>NaN</td>\n    </tr>\n    <tr>\n      <th>4</th>\n      <td>0703201000</td>\n      <td>Para siembra.</td>\n      <td>Ajos para siembra frescos o refrigerados</td>\n      <td>NaN</td>\n    </tr>\n    <tr>\n      <th>...</th>\n      <td>...</td>\n      <td>...</td>\n      <td>...</td>\n      <td>...</td>\n    </tr>\n    <tr>\n      <th>169</th>\n      <td>0813300000</td>\n      <td>MANZANAS SECAS. Manzanas. Manzanas.</td>\n      <td>Manzanas secas</td>\n      <td>NaN</td>\n    </tr>\n    <tr>\n      <th>170</th>\n      <td>0813400000</td>\n      <td>Las demas frutas u otros frutos. Las demás fru...</td>\n      <td>Otros frutas o frutos secos</td>\n      <td>NaN</td>\n    </tr>\n    <tr>\n      <th>171</th>\n      <td>0813500000</td>\n      <td>Mezclas de frutas u otros frutos, secos, o de ...</td>\n      <td>Mezcla de frutas o frutos secos</td>\n      <td>NaN</td>\n    </tr>\n    <tr>\n      <th>172</th>\n      <td>0814001000</td>\n      <td>De limón (limón sutil, limón común, limón crio...</td>\n      <td>Corteza de (limón sutil, limón común, limón cr...</td>\n      <td>NaN</td>\n    </tr>\n    <tr>\n      <th>173</th>\n      <td>0814009000</td>\n      <td>Las demás.</td>\n      <td>Otras cortezas de agrios (cítricos)</td>\n      <td>NaN</td>\n    </tr>\n  </tbody>\n</table>\n<p>174 rows × 4 columns</p>\n</div>"
     },
     "execution_count": 11,
     "metadata": {},
     "output_type": "execute_result"
    }
   ],
   "source": [
    "# Import the manually curated CSV\n",
    "curated_hs = pd.read_csv('./'+file_name, dtype={\"heading\":\"string\"})\n",
    "curated_hs['heading'] = curated_hs['heading'].apply(lambda x: x.zfill(10)) # during curation, zero padding may have been removed, so add it if needed\n",
    "curated_hs"
   ],
   "metadata": {
    "collapsed": false
   }
  },
  {
   "cell_type": "code",
   "execution_count": 12,
   "outputs": [
    {
     "name": "stdout",
     "output_type": "stream",
     "text": [
      "Connected to Formatted Zone successfully!\n",
      "Data sent to Formatted Zone successfully!\n",
      "File hs_curated_1680276488571.csv deleted\n"
     ]
    }
   ],
   "source": [
    "# Add it to the formatted zone\n",
    "\n",
    "# Establish the connection with the database\n",
    "engine = postgres_utilities.engine()\n",
    "\n",
    "# Rename the columns and write in the database\n",
    "try:\n",
    "    curated_hs[['heading','curated_description', 'mapped_to']]\\\n",
    "        .rename(columns={\"curated_description\": \"description\"})\\\n",
    "        .to_sql('peru_exports_headings', engine, if_exists='append', index=False)\n",
    "    print(\"Data sent to Formatted Zone successfully!\")\n",
    "    # Remove the manually curated file once it's data is already in the Formatted Zone\n",
    "    utilities.delete_file_request(file_name)\n",
    "\n",
    "except Exception as e:\n",
    "        print(f\"Error while sending data to Formatted Zone: {e}\")"
   ],
   "metadata": {
    "collapsed": false
   }
  }
 ],
 "metadata": {
  "kernelspec": {
   "display_name": "Python 3",
   "language": "python",
   "name": "python3"
  },
  "language_info": {
   "codemirror_mode": {
    "name": "ipython",
    "version": 2
   },
   "file_extension": ".py",
   "mimetype": "text/x-python",
   "name": "python",
   "nbconvert_exporter": "python",
   "pygments_lexer": "ipython2",
   "version": "2.7.6"
  }
 },
 "nbformat": 4,
 "nbformat_minor": 0
}
