{
 "cells": [
  {
   "cell_type": "markdown",
   "source": [
    "## Headings Historical Preprocessing (Part 1)\n",
    "\n",
    "Preprocess the headings and their descriptions for a posterior manual resolution in part 2"
   ],
   "metadata": {
    "collapsed": false
   }
  },
  {
   "cell_type": "code",
   "execution_count": 5,
   "outputs": [],
   "source": [
    "import pandas as pd\n",
    "import time\n",
    "from data_formatter import utilities\n",
    "from database_settings.spark_utilities import get_spark_df, spark_session\n",
    "from pyspark.sql.functions import col, lpad"
   ],
   "metadata": {
    "collapsed": false
   }
  },
  {
   "cell_type": "code",
   "execution_count": 6,
   "outputs": [],
   "source": [
    "# Spark session\n",
    "spark = spark_session()"
   ],
   "metadata": {
    "collapsed": false
   }
  },
  {
   "cell_type": "code",
   "execution_count": 7,
   "metadata": {
    "collapsed": true
   },
   "outputs": [],
   "source": [
    "# Get headings to work\n",
    "headings = utilities.get_headings()\n",
    "headings_filter = r\"^(\" + \"|\".join(headings) + \")\"  # filter out headings that aren't in the list\n",
    "# Define the headings folder in HDFS\n",
    "exports_path = '/thesis/peru/exports/*.parquet'\n",
    "headings_path = '/thesis/peru/headings/headings.parquet'"
   ]
  },
  {
   "cell_type": "code",
   "execution_count": 8,
   "outputs": [
    {
     "name": "stdout",
     "output_type": "stream",
     "text": [
      "Rows to curate: 174\n"
     ]
    },
    {
     "data": {
      "text/plain": "        heading                                 merged_description  \\\n0    0701100000  Para siembra. Para siembra. PAPAS(PATATAS) FRE...   \n1    0701900000  PAPAS(PATATAS) FRESCAS O REFRIGERADAS (EXC. PA...   \n2    0702000000  TOMATES FRESCOS O REFRIGERADOS. Tomates fresco...   \n3    0703100000  Cebollas y chalotes. Cebollas y chalotes. CEBO...   \n4    0703201000                                      Para siembra.   \n..          ...                                                ...   \n169  0813300000                Manzanas. MANZANAS SECAS. Manzanas.   \n170  0813400000  Las demas frutas u otros frutos. Las demás fru...   \n171  0813500000  MEZCLA DE FRUTOS SECOS O FRUTOS D'CASCARA DEL ...   \n172  0814001000  De limón (limón sutil, limón común, limón crio...   \n173  0814009000                                         Las demás.   \n\n    curated_description mapped_to  \n0                                  \n1                                  \n2                                  \n3                                  \n4                                  \n..                  ...       ...  \n169                                \n170                                \n171                                \n172                                \n173                                \n\n[174 rows x 4 columns]",
      "text/html": "<div>\n<style scoped>\n    .dataframe tbody tr th:only-of-type {\n        vertical-align: middle;\n    }\n\n    .dataframe tbody tr th {\n        vertical-align: top;\n    }\n\n    .dataframe thead th {\n        text-align: right;\n    }\n</style>\n<table border=\"1\" class=\"dataframe\">\n  <thead>\n    <tr style=\"text-align: right;\">\n      <th></th>\n      <th>heading</th>\n      <th>merged_description</th>\n      <th>curated_description</th>\n      <th>mapped_to</th>\n    </tr>\n  </thead>\n  <tbody>\n    <tr>\n      <th>0</th>\n      <td>0701100000</td>\n      <td>Para siembra. Para siembra. PAPAS(PATATAS) FRE...</td>\n      <td></td>\n      <td></td>\n    </tr>\n    <tr>\n      <th>1</th>\n      <td>0701900000</td>\n      <td>PAPAS(PATATAS) FRESCAS O REFRIGERADAS (EXC. PA...</td>\n      <td></td>\n      <td></td>\n    </tr>\n    <tr>\n      <th>2</th>\n      <td>0702000000</td>\n      <td>TOMATES FRESCOS O REFRIGERADOS. Tomates fresco...</td>\n      <td></td>\n      <td></td>\n    </tr>\n    <tr>\n      <th>3</th>\n      <td>0703100000</td>\n      <td>Cebollas y chalotes. Cebollas y chalotes. CEBO...</td>\n      <td></td>\n      <td></td>\n    </tr>\n    <tr>\n      <th>4</th>\n      <td>0703201000</td>\n      <td>Para siembra.</td>\n      <td></td>\n      <td></td>\n    </tr>\n    <tr>\n      <th>...</th>\n      <td>...</td>\n      <td>...</td>\n      <td>...</td>\n      <td>...</td>\n    </tr>\n    <tr>\n      <th>169</th>\n      <td>0813300000</td>\n      <td>Manzanas. MANZANAS SECAS. Manzanas.</td>\n      <td></td>\n      <td></td>\n    </tr>\n    <tr>\n      <th>170</th>\n      <td>0813400000</td>\n      <td>Las demas frutas u otros frutos. Las demás fru...</td>\n      <td></td>\n      <td></td>\n    </tr>\n    <tr>\n      <th>171</th>\n      <td>0813500000</td>\n      <td>MEZCLA DE FRUTOS SECOS O FRUTOS D'CASCARA DEL ...</td>\n      <td></td>\n      <td></td>\n    </tr>\n    <tr>\n      <th>172</th>\n      <td>0814001000</td>\n      <td>De limón (limón sutil, limón común, limón crio...</td>\n      <td></td>\n      <td></td>\n    </tr>\n    <tr>\n      <th>173</th>\n      <td>0814009000</td>\n      <td>Las demás.</td>\n      <td></td>\n      <td></td>\n    </tr>\n  </tbody>\n</table>\n<p>174 rows × 4 columns</p>\n</div>"
     },
     "execution_count": 8,
     "metadata": {},
     "output_type": "execute_result"
    }
   ],
   "source": [
    "# Get all possible headings in the data in the persistent zone\n",
    "headings_to_format = get_spark_df(spark_session=spark, file_path=exports_path)\\\n",
    "    .select('PART_NANDI')\\\n",
    "    .distinct()\\\n",
    "    .withColumn(\"heading\", lpad(col(\"PART_NANDI\").cast(\"string\"), 10, \"0\")) \\\n",
    "    .filter(col(\"heading\").rlike(headings_filter)) \\\n",
    "    .select('heading')\\\n",
    "    .toPandas()\n",
    "\n",
    "# Get the labeled headings from the persistent zone\n",
    "headings_labeled = get_spark_df(spark_session=spark, file_path=headings_path)\\\n",
    "    .select('0', '1')\\\n",
    "    .distinct()\\\n",
    "    .withColumnRenamed('1', 'raw_description') \\\n",
    "    .withColumn(\"heading\", lpad(col(\"0\").cast(\"string\"), 10, \"0\")) \\\n",
    "    .select('heading', 'raw_description')\\\n",
    "    .toPandas()\n",
    "\n",
    "# Join both dataframes in the headings column\n",
    "my_headings = pd.merge(headings_to_format, headings_labeled, on='heading',how='left').sort_values(by='heading', ascending=True)\n",
    "\n",
    "# Formatting\n",
    "# Eliminate multiple spacings in the description\n",
    "my_headings['raw_description'].replace(r'\\s+', ' ', regex=True, inplace=True)\n",
    "# Eliminate the dashes at the beginning of the description\n",
    "my_headings['raw_description'].replace(r'^[-\\s]+', '', regex=True, inplace=True)\n",
    "# Add final dot to description\n",
    "my_headings['raw_description'] = my_headings['raw_description'].apply(lambda x: x if x.endswith('.') else x+'.')\n",
    "# Group all descriptions from a heading in a single cell\n",
    "my_headings = my_headings.groupby('heading')['raw_description'].agg(lambda x: ' '.join(x)).reset_index()\n",
    "# Rename the description\n",
    "my_headings.rename(columns={'raw_description':'merged_description'}, inplace=True)\n",
    "# Add additional columns for curated description and mappings\n",
    "my_headings['curated_description'] = ''\n",
    "my_headings['mapped_to'] = '' # It may be the case that some headings in the list did not exist in the PDF, so the must be mapped to another headings that do exist.\n",
    "# Show count of rows to curate\n",
    "print('Rows to curate: '+str(len(my_headings)))\n",
    "my_headings"
   ],
   "metadata": {
    "collapsed": false
   }
  },
  {
   "cell_type": "markdown",
   "source": [
    "\n"
   ],
   "metadata": {
    "collapsed": false
   }
  },
  {
   "cell_type": "code",
   "execution_count": 9,
   "outputs": [
    {
     "name": "stdout",
     "output_type": "stream",
     "text": [
      "Proceed with manual curation...\n"
     ]
    }
   ],
   "source": [
    "# Export to CSV for manual resolution of descriptions\n",
    "file_name = './hs_curated_'+str(int(time.time()*1000))+'.csv'\n",
    "my_headings.to_csv(file_name, index=None)\n",
    "print('Proceed with manual curation...')"
   ],
   "metadata": {
    "collapsed": false
   }
  },
  {
   "cell_type": "markdown",
   "source": [
    "Proceed with the manual curation..."
   ],
   "metadata": {
    "collapsed": false
   }
  }
 ],
 "metadata": {
  "kernelspec": {
   "display_name": "Python 3",
   "language": "python",
   "name": "python3"
  },
  "language_info": {
   "codemirror_mode": {
    "name": "ipython",
    "version": 2
   },
   "file_extension": ".py",
   "mimetype": "text/x-python",
   "name": "python",
   "nbconvert_exporter": "python",
   "pygments_lexer": "ipython2",
   "version": "2.7.6"
  }
 },
 "nbformat": 4,
 "nbformat_minor": 0
}
