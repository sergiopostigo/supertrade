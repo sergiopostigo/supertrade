{
 "cells": [
  {
   "cell_type": "markdown",
   "source": [
    "# Exports Historical Formatting"
   ],
   "metadata": {
    "collapsed": false
   }
  },
  {
   "cell_type": "code",
   "execution_count": 6,
   "metadata": {
    "collapsed": true
   },
   "outputs": [],
   "source": [
    "from database_settings.spark_utilities import get_spark_df, spark_session\n",
    "from pyspark.sql.functions import col, lpad, concat_ws, regexp_replace, trim\n",
    "from database_settings.postgres_utilities import spark2postgres\n",
    "from data_formatter import utilities"
   ]
  },
  {
   "cell_type": "code",
   "execution_count": 7,
   "outputs": [],
   "source": [
    "# Spark session\n",
    "spark = spark_session()"
   ],
   "metadata": {
    "collapsed": false
   }
  },
  {
   "cell_type": "code",
   "execution_count": 8,
   "outputs": [],
   "source": [
    "# Get headings to work\n",
    "headings = utilities.get_headings()\n",
    "headings_filter = r\"^(\"+ \"|\".join(headings) + \")\" # filter out headings that aren't in the list\n",
    "# Define the exports folder in HDFS\n",
    "path = '/thesis/peru/exports/*.parquet'"
   ],
   "metadata": {
    "collapsed": false
   }
  },
  {
   "cell_type": "code",
   "execution_count": 9,
   "outputs": [
    {
     "name": "stdout",
     "output_type": "stream",
     "text": [
      "Performing query on Persistent Zone...\n"
     ]
    }
   ],
   "source": [
    "# Formatting applied:\n",
    "# - Merge the descriptions in a single column, replace NaN values by '' and trim white spaces\n",
    "# - Replace those exporter codes with value 'No Disponib' by unknown\n",
    "print(\"Performing query on Persistent Zone...\")\n",
    "#\n",
    "df = get_spark_df(spark_session=spark, file_path=path)\\\n",
    "    .select('PART_NANDI','VPESNET', 'VPESBRU', 'VFOBSERDOL', 'CPAIDES','NDOC','FEMB','DCOM','DMER2','DMER3','DMER4','DMER5','BATCH_WEEK')\\\n",
    "    .withColumn(\"heading\", lpad(col(\"PART_NANDI\").cast(\"string\"), 10, \"0\")) \\\n",
    "    .filter(col(\"heading\").rlike(headings_filter))\\\n",
    "    .withColumn(\"description\", concat_ws(\" \", col(\"DCOM\"), col(\"DMER2\"), col(\"DMER3\"), col(\"DMER4\"), col(\"DMER5\"))) \\\n",
    "    .withColumn(\"description\", regexp_replace(col(\"description\"), \"NaN\", \"\")) \\\n",
    "    .withColumn(\"description\", trim(col(\"description\")))\\\n",
    "    .withColumn(\"NDOC\", regexp_replace(col(\"NDOC\"), \"No Disponib\", \"unknown\")) \\\n",
    "    .withColumnRenamed('NDOC', 'exp_id')\\\n",
    "    .withColumnRenamed('VPESNET', 'net_weight')\\\n",
    "    .withColumnRenamed('VPESBRU', 'gross_weight')\\\n",
    "    .withColumnRenamed('VFOBSERDOL', 'value_usd')\\\n",
    "    .withColumnRenamed('CPAIDES', 'country')\\\n",
    "    .withColumnRenamed('FEMB', 'boarding_date')\\\n",
    "    .withColumnRenamed('BATCH_WEEK', 'batch_week')\\\n",
    "    .select('heading','exp_id','net_weight','gross_weight','value_usd','country','boarding_date',\"description\",'batch_week')\\\n",
    "    .orderBy(col('heading').asc())"
   ],
   "metadata": {
    "collapsed": false
   }
  },
  {
   "cell_type": "code",
   "execution_count": 10,
   "outputs": [
    {
     "name": "stdout",
     "output_type": "stream",
     "text": [
      "Sending data to PostgreSQL\n",
      "Data sent to Formatted Zone successfully: 1518837 rows added\n"
     ]
    }
   ],
   "source": [
    "# Write the DataFrame to the PostgreSQL database\n",
    "print(\"Sending data to PostgreSQL...\")\n",
    "try:\n",
    "    df.write \\\n",
    "    .format(\"jdbc\") \\\n",
    "    .option(\"dbtable\", \"peru_exports\") \\\n",
    "    .options(**spark2postgres()) \\\n",
    "    .mode('append')\\\n",
    "    .save()\n",
    "    print(\"Data sent to Formatted Zone successfully: {} rows added\".format(df.count()))\n",
    "\n",
    "except Exception as e:\n",
    "    print(f\"Error while sending data to Formatted Zone: {e}\")"
   ],
   "metadata": {
    "collapsed": false
   }
  }
 ],
 "metadata": {
  "kernelspec": {
   "display_name": "Python 3",
   "language": "python",
   "name": "python3"
  },
  "language_info": {
   "codemirror_mode": {
    "name": "ipython",
    "version": 2
   },
   "file_extension": ".py",
   "mimetype": "text/x-python",
   "name": "python",
   "nbconvert_exporter": "python",
   "pygments_lexer": "ipython2",
   "version": "2.7.6"
  }
 },
 "nbformat": 4,
 "nbformat_minor": 0
}
