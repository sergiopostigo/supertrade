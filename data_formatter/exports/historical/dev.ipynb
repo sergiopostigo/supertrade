{
 "cells": [
  {
   "cell_type": "markdown",
   "source": [
    "# Exports Historical Formatting"
   ],
   "metadata": {
    "collapsed": false
   }
  },
  {
   "cell_type": "code",
   "execution_count": null,
   "metadata": {
    "collapsed": true
   },
   "outputs": [],
   "source": [
    "from database_settings import spark_utilities\n",
    "from pyspark.sql.functions import col, lpad, concat_ws, regexp_replace, trim\n",
    "from database_settings import postgres_utilities\n",
    "from data_formatter import utilities\n",
    "import pandas as pd"
   ]
  },
  {
   "cell_type": "code",
   "execution_count": null,
   "outputs": [],
   "source": [
    "# Get headings to work\n",
    "headings = utilities.get_headings()\n",
    "headings_filter = r\"^(\"+ \"|\".join(headings) + \")\" # filter out headings that aren't in the list"
   ],
   "metadata": {
    "collapsed": false
   }
  },
  {
   "cell_type": "code",
   "execution_count": null,
   "outputs": [],
   "source": [
    "# Formatting applied:\n",
    "# - Merge the descriptions in a single column, replace NaN values by '' and trim white spaces\n",
    "# - Replace those exporter codes with value 'No Disponib' by unknown\n",
    "print(\"Performing query on Persistent Zone...\")\n",
    "df = spark_utilities.get_spark_df('peru_exports')\\\n",
    "    .select('PART_NANDI','VPESNET', 'VPESBRU', 'VFOBSERDOL', 'CPAIDES','NDOC','FEMB','DCOM','DMER2','DMER3','DMER4','DMER5','BATCH_WEEK')\\\n",
    "    .withColumn(\"heading\", lpad(col(\"PART_NANDI\").cast(\"string\"), 10, \"0\")) \\\n",
    "    .filter(col(\"heading\").rlike(headings_filter))\\\n",
    "    .withColumn(\"description\", concat_ws(\" \", col(\"DCOM\"), col(\"DMER2\"), col(\"DMER3\"), col(\"DMER4\"), col(\"DMER5\"))) \\\n",
    "    .withColumn(\"description\", regexp_replace(col(\"description\"), \"NaN\", \"\")) \\\n",
    "    .withColumn(\"description\", trim(col(\"description\")))\\\n",
    "    .withColumn(\"NDOC\", regexp_replace(col(\"NDOC\"), \"No Disponib\", \"unknown\")) \\\n",
    "    .withColumnRenamed('NDOC', 'exp_id')\\\n",
    "    .withColumnRenamed('VPESNET', 'net_weight')\\\n",
    "    .withColumnRenamed('VPESBRU', 'gross_weight')\\\n",
    "    .withColumnRenamed('VFOBSERDOL', 'value_usd')\\\n",
    "    .withColumnRenamed('CPAIDES', 'country')\\\n",
    "    .withColumnRenamed('FEMB', 'boarding_date')\\\n",
    "    .withColumnRenamed('BATCH_WEEK', 'batch_week')\\\n",
    "    .select('heading','exp_id','net_weight','gross_weight','value_usd','country','boarding_date',\"description\",'batch_week')\\\n",
    "    .toPandas()"
   ],
   "metadata": {
    "collapsed": false
   }
  },
  {
   "cell_type": "code",
   "execution_count": null,
   "outputs": [],
   "source": [
    "df.sort_values(by='heading', ascending=True)"
   ],
   "metadata": {
    "collapsed": false
   }
  },
  {
   "cell_type": "code",
   "execution_count": null,
   "outputs": [],
   "source": [
    "# Add it to the formatted zone\n",
    "\n",
    "# Establish the connection with the database\n",
    "conn = postgres_utilities.connect()\n",
    "engine = postgres_utilities.engine()\n",
    "\n",
    "# Rename the columns and write in the database\n",
    "try:\n",
    "    df.to_sql('peru_exports', engine, if_exists='append', index=False)\n",
    "    print(\"Data sent to Formatted Zone successfully: {} rows added\".format(len(df)))\n",
    "\n",
    "except Exception as e:\n",
    "    print(f\"Error while sending data to Formatted Zone: {e}\")"
   ],
   "metadata": {
    "collapsed": false
   }
  }
 ],
 "metadata": {
  "kernelspec": {
   "display_name": "Python 3",
   "language": "python",
   "name": "python3"
  },
  "language_info": {
   "codemirror_mode": {
    "name": "ipython",
    "version": 2
   },
   "file_extension": ".py",
   "mimetype": "text/x-python",
   "name": "python",
   "nbconvert_exporter": "python",
   "pygments_lexer": "ipython2",
   "version": "2.7.6"
  }
 },
 "nbformat": 4,
 "nbformat_minor": 0
}
