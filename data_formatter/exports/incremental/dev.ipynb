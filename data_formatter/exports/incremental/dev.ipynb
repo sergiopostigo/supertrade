{
 "cells": [
  {
   "cell_type": "markdown",
   "source": [
    "# Exports Incremental Formatting\n"
   ],
   "metadata": {
    "collapsed": false
   }
  },
  {
   "cell_type": "code",
   "execution_count": 8,
   "metadata": {
    "collapsed": true
   },
   "outputs": [],
   "source": [
    "from pyspark.sql.functions import col, lpad, concat_ws, regexp_replace, trim, to_date\n",
    "from database_settings import postgres_utilities\n",
    "from data_formatter import utilities\n",
    "from database_settings.postgres_utilities import spark2postgres\n",
    "from database_settings.spark_utilities import get_spark_df, spark_session\n"
   ]
  },
  {
   "cell_type": "code",
   "execution_count": 9,
   "outputs": [],
   "source": [
    "# Get headings to work\n",
    "headings = utilities.get_headings()\n",
    "headings_filter = r\"^(\"+ \"|\".join(headings) + \")\" # filter out headings that aren't in the list"
   ],
   "metadata": {
    "collapsed": false
   }
  },
  {
   "cell_type": "code",
   "execution_count": 10,
   "outputs": [
    {
     "name": "stdout",
     "output_type": "stream",
     "text": [
      "Connected to Formatted Zone successfully!\n",
      "Most recent batch: 2023-06-18\n"
     ]
    }
   ],
   "source": [
    "# Get the most recent batch week code from the data in the Formatted Zone\n",
    "\n",
    "# Establish the connection with the database\n",
    "conn = postgres_utilities.connect()\n",
    "cur = conn.cursor()\n",
    "\n",
    "# Query to get the most recent week range\n",
    "query = \"\"\"\n",
    "SELECT to_date(SUBSTRING(BATCH_WEEK, 3, 8), 'DDMMYY') as LAST_DAY\n",
    "FROM peru_exports\n",
    "ORDER BY LAST_DAY DESC\n",
    "LIMIT 1;\n",
    "\"\"\"\n",
    "\n",
    "# Execute the query\n",
    "cur.execute(query)\n",
    "last_day_of_data = cur.fetchone()[0]\n",
    "print('Most recent batch: {}'.format(last_day_of_data))"
   ],
   "metadata": {
    "collapsed": false
   }
  },
  {
   "cell_type": "code",
   "execution_count": 11,
   "outputs": [],
   "source": [
    "# Spark session\n",
    "spark = spark_session()"
   ],
   "metadata": {
    "collapsed": false
   }
  },
  {
   "cell_type": "code",
   "execution_count": 12,
   "outputs": [
    {
     "name": "stdout",
     "output_type": "stream",
     "text": [
      "Performing query on Persistent Zone...\n"
     ]
    }
   ],
   "source": [
    "# Get new data from the Persistent Zone\n",
    "print(\"Performing query on Persistent Zone...\")\n",
    "exports_path = '/thesis/peru/exports/*.parquet' # exports path in HDFS\n",
    "df = get_spark_df(spark_session=spark, file_path=exports_path)\\\n",
    "    .select('PART_NANDI','VPESNET', 'VPESBRU', 'VFOBSERDOL', 'CPAIDES','NDOC','FEMB','DCOM','DMER2','DMER3','DMER4','DMER5','BATCH_WEEK')\\\n",
    "    .withColumn(\"heading\", lpad(col(\"PART_NANDI\").cast(\"string\"), 10, \"0\")) \\\n",
    "    .filter(col(\"heading\").rlike(headings_filter))\\\n",
    "    .filter(to_date(col(\"BATCH_WEEK\").substr(-6, 6), 'ddMMyy') > last_day_of_data)\\\n",
    "    .withColumn(\"description\", concat_ws(\" \", col(\"DCOM\"), col(\"DMER2\"), col(\"DMER3\"), col(\"DMER4\"), col(\"DMER5\"))) \\\n",
    "    .withColumn(\"description\", regexp_replace(col(\"description\"), \"NaN\", \"\")) \\\n",
    "    .withColumn(\"description\", trim(col(\"description\")))\\\n",
    "    .withColumn(\"NDOC\", regexp_replace(col(\"NDOC\"), \"No Disponib\", \"unknown\")) \\\n",
    "    .withColumnRenamed('NDOC', 'exp_id')\\\n",
    "    .withColumnRenamed('VPESNET', 'net_weight')\\\n",
    "    .withColumnRenamed('VPESBRU', 'gross_weight')\\\n",
    "    .withColumnRenamed('VFOBSERDOL', 'value_usd')\\\n",
    "    .withColumnRenamed('CPAIDES', 'country')\\\n",
    "    .withColumnRenamed('FEMB', 'boarding_date')\\\n",
    "    .withColumnRenamed('BATCH_WEEK', 'batch_week')\\\n",
    "    .select('heading','exp_id','net_weight','gross_weight','value_usd','country','boarding_date',\"description\",'batch_week')"
   ],
   "metadata": {
    "collapsed": false
   }
  },
  {
   "cell_type": "code",
   "execution_count": 13,
   "outputs": [],
   "source": [
    "# df.toPandas()"
   ],
   "metadata": {
    "collapsed": false
   }
  },
  {
   "cell_type": "code",
   "execution_count": 14,
   "outputs": [
    {
     "name": "stdout",
     "output_type": "stream",
     "text": [
      "Nothing to add to the formatted zone\n"
     ]
    }
   ],
   "source": [
    "if df.count()>0:\n",
    "    # Write the DataFrame to the PostgreSQL database\n",
    "    print(\"Sending data to PostgreSQL...\")\n",
    "    try:\n",
    "        df.write \\\n",
    "        .format(\"jdbc\") \\\n",
    "        .option(\"dbtable\", \"peru_exports\") \\\n",
    "        .options(**spark2postgres()) \\\n",
    "        .mode('append')\\\n",
    "        .save()\n",
    "        print(\"Data sent to Formatted Zone successfully: {} rows added\".format(df.count()))\n",
    "\n",
    "    except Exception as e:\n",
    "        print(f\"Error while sending data to Formatted Zone: {e}\")\n",
    "else:\n",
    "    print('Nothing to add to the Formatted Zone')\n",
    "\n"
   ],
   "metadata": {
    "collapsed": false
   }
  }
 ],
 "metadata": {
  "kernelspec": {
   "display_name": "Python 3",
   "language": "python",
   "name": "python3"
  },
  "language_info": {
   "codemirror_mode": {
    "name": "ipython",
    "version": 2
   },
   "file_extension": ".py",
   "mimetype": "text/x-python",
   "name": "python",
   "nbconvert_exporter": "python",
   "pygments_lexer": "ipython2",
   "version": "2.7.6"
  }
 },
 "nbformat": 4,
 "nbformat_minor": 0
}
