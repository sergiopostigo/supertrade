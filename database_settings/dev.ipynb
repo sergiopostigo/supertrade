{
 "cells": [
  {
   "cell_type": "code",
   "execution_count": 1,
   "metadata": {
    "collapsed": true
   },
   "outputs": [
    {
     "name": "stdout",
     "output_type": "stream",
     "text": [
      "PyTables is not installed. No support for HDF output.\n"
     ]
    }
   ],
   "source": [
    "import pandas as pd\n",
    "import psycopg2\n",
    "from pymongo import MongoClient\n",
    "import mongo_utilities\n",
    "import os\n",
    "from tqdm.notebook import tqdm\n",
    "from datetime import datetime\n",
    "from simpledbf import Dbf5"
   ]
  },
  {
   "cell_type": "code",
   "execution_count": 2,
   "outputs": [
    {
     "name": "stdout",
     "output_type": "stream",
     "text": [
      "Database connected successfully\n"
     ]
    }
   ],
   "source": [
    "# Establish the connection with the database\n",
    "db = mongo_utilities.connect()"
   ],
   "metadata": {
    "collapsed": false
   }
  },
  {
   "cell_type": "code",
   "execution_count": null,
   "outputs": [],
   "source": [
    "# Select the database\n",
    "db = client['persistent']\n",
    "# Create the collection(s)\n",
    "collection = db['peru_exports']"
   ],
   "metadata": {
    "collapsed": false
   }
  },
  {
   "cell_type": "code",
   "execution_count": null,
   "outputs": [],
   "source": [
    "# Historical Load\n",
    "# Get all the paths of the files to upload\n",
    "folder = '../../data/temporal_landing/x/'\n",
    "files = os.listdir('../../data/temporal_landing/x')\n",
    "# Ingest the data into a collection\n",
    "for file in tqdm(files):\n",
    "    # Convert the data into a dataframe\n",
    "    batch = Dbf5(folder+file, codec='latin-1')\n",
    "    batch = batch.to_dataframe()\n",
    "    # Add the loading date column\n",
    "    batch['LOAD_DATE'] = datetime.today().strftime('%Y%m%d')\n",
    "    # Convert the dataframe into a dict\n",
    "    batch = batch.to_dict('records')\n",
    "    try:\n",
    "        collection.insert_many(batch)\n",
    "    except Exception as e:\n",
    "        print(\"An exception occurred ::\", e)\n",
    "        collection.drop()\n",
    "        break"
   ],
   "metadata": {
    "collapsed": false
   }
  },
  {
   "cell_type": "code",
   "execution_count": null,
   "outputs": [],
   "source": [
    "mydoc = {\"name\": \"John\", \"address\": \"Highway 37\"}\n",
    "x = collection.insert_one(mydoc)"
   ],
   "metadata": {
    "collapsed": false
   }
  },
  {
   "cell_type": "code",
   "execution_count": null,
   "outputs": [],
   "source": [
    "x.inserted_id"
   ],
   "metadata": {
    "collapsed": false
   }
  },
  {
   "cell_type": "code",
   "execution_count": null,
   "outputs": [],
   "source": [
    "# Establish the connection with the database\n",
    "conn = db_utilities.connect()\n",
    "cursor = conn.cursor()"
   ],
   "metadata": {
    "collapsed": false
   }
  },
  {
   "cell_type": "code",
   "execution_count": null,
   "outputs": [],
   "source": [
    "# Create the table(s)\n",
    "cursor.execute(open(\"./create_tables.sql\", \"r\").read())\n",
    "conn.commit()"
   ],
   "metadata": {
    "collapsed": false
   }
  },
  {
   "cell_type": "code",
   "execution_count": null,
   "outputs": [],
   "source": [
    "# Historical Load\n",
    "# Get all the paths of the files to upload\n",
    "folder = '../../data/temporal_landing/x/'\n",
    "files = os.listdir('../../data/temporal_landing/x')\n",
    "# Populate the table in PostgreSQL\n",
    "for file in tqdm(files):\n",
    "    # Convert the data into a dataframe\n",
    "    batch = Dbf5(folder+file, codec='latin-1')\n",
    "    batch = batch.to_dataframe()\n",
    "    # Add the loading date column\n",
    "    batch['LOAD_DATE'] = datetime.today().strftime('%Y%m%d')\n",
    "    batch.columns = batch.columns.str.lower()\n",
    "    batch.to_sql('peru_exports', db_utilities.engine(), if_exists='append', index=False)"
   ],
   "metadata": {
    "collapsed": false
   }
  },
  {
   "cell_type": "code",
   "execution_count": null,
   "outputs": [],
   "source": [
    "cursor.execute('\\dt')\n",
    "results = cursor.fetchall()"
   ],
   "metadata": {
    "collapsed": false
   }
  },
  {
   "cell_type": "code",
   "execution_count": null,
   "outputs": [],
   "source": [
    "results"
   ],
   "metadata": {
    "collapsed": false
   }
  },
  {
   "cell_type": "code",
   "execution_count": null,
   "outputs": [],
   "source": [
    "conn.close()"
   ],
   "metadata": {
    "collapsed": false
   }
  }
 ],
 "metadata": {
  "kernelspec": {
   "display_name": "Python 3",
   "language": "python",
   "name": "python3"
  },
  "language_info": {
   "codemirror_mode": {
    "name": "ipython",
    "version": 2
   },
   "file_extension": ".py",
   "mimetype": "text/x-python",
   "name": "python",
   "nbconvert_exporter": "python",
   "pygments_lexer": "ipython2",
   "version": "2.7.6"
  }
 },
 "nbformat": 4,
 "nbformat_minor": 0
}
