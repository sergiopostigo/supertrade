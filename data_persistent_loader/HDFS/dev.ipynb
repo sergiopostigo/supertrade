{
 "cells": [
  {
   "cell_type": "markdown",
   "source": [
    "# Data Persistent Loader - HDFS + Parquet"
   ],
   "metadata": {
    "collapsed": false
   }
  },
  {
   "cell_type": "code",
   "execution_count": 70,
   "outputs": [],
   "source": [
    "from simpledbf import Dbf5\n",
    "import pandas as pd\n",
    "import pyarrow.parquet as pq\n",
    "import pyarrow as pa\n",
    "import os\n",
    "from tqdm.notebook import tqdm\n",
    "import subprocess\n",
    "import re\n",
    "from datetime import datetime"
   ],
   "metadata": {
    "collapsed": false
   }
  },
  {
   "cell_type": "code",
   "execution_count": 71,
   "metadata": {
    "collapsed": true
   },
   "outputs": [],
   "source": [
    "# Get all the paths of the files to upload\n",
    "folder = '../../../data/temporal_landing/x/'\n",
    "dbf_files = [os.path.join(folder, f) for f in os.listdir(folder) if os.path.isfile(os.path.join(folder, f)) if f.endswith('.DBF')]"
   ]
  },
  {
   "cell_type": "code",
   "execution_count": 72,
   "outputs": [
    {
     "data": {
      "text/plain": "  0%|          | 0/317 [00:00<?, ?it/s]",
      "application/vnd.jupyter.widget-view+json": {
       "version_major": 2,
       "version_minor": 0,
       "model_id": "4100cbedcb5b49c6ab0260a7280de7da"
      }
     },
     "metadata": {},
     "output_type": "display_data"
    }
   ],
   "source": [
    "# Create a parquet file for every DBF file:\n",
    "for file in tqdm(dbf_files):\n",
    "    try:\n",
    "        # Parse the DBF file into a dataframe\n",
    "        batch = Dbf5(folder + file, codec='latin-1')\n",
    "        batch = batch.to_dataframe()\n",
    "        # Add the batch week column\n",
    "        batch['BATCH_WEEK'] = re.search(r'\\d+', os.path.basename(file)).group()\n",
    "        # Add the loading date column\n",
    "        batch['LOAD_DATE'] = datetime.today().strftime('%Y%m%d')\n",
    "\n",
    "        # Create the row groups\n",
    "        # Get all the available boarding dates' years\n",
    "        years = sorted(pd.to_datetime(batch['FEMB'], format='%Y%m%d').dt.year.unique().tolist(), reverse=True)\n",
    "        # Convert the dataframe into a pyarrow table\n",
    "        batch = pa.Table.from_pandas(batch)\n",
    "        # For every year create a row group\n",
    "        # In this case, we will include all the columns in the row group\n",
    "        my_row_groups = []\n",
    "\n",
    "        for year in years:\n",
    "            # string_column = pa.array(batch.column('FEMB'), type=pa.string())\n",
    "            string_column = [str(i) for i in batch.column('FEMB').to_pylist()]\n",
    "            mask = [s.startswith(str(year)) for s in string_column]\n",
    "            filtered_table = batch.filter(mask)\n",
    "            # Get all the rows from that year\n",
    "            my_row_groups.append(filtered_table)\n",
    "        # Create the Parquet file\n",
    "        parquet_writer = pq.ParquetWriter(folder + os.path.basename(file).split('.')[0] + '.parquet',\n",
    "                                          my_row_groups[0].schema)\n",
    "        # Add every row group\n",
    "        for rg in my_row_groups:\n",
    "            parquet_writer.write_table(rg)\n",
    "        parquet_writer.close()\n",
    "\n",
    "    except Exception as e:\n",
    "        print(f\"Error generating parquet file for '{file}':{type(e).__name__}: {str(e)}\")\n",
    "\n",
    "    else:\n",
    "        # Delete the DBF file from the temporal landing zone\n",
    "        os.remove(os.path.abspath(os.path.join(folder, file)))"
   ],
   "metadata": {
    "collapsed": false
   }
  },
  {
   "cell_type": "code",
   "execution_count": 73,
   "outputs": [],
   "source": [
    "def add_file_to_hdfs(file_path, hdfs_directory, ingestion_type):\n",
    "    # Construct the HDFS command\n",
    "    insert_cmd = 'hadoop fs -put {} {}'.format(file_path, hdfs_directory)\n",
    "    # Execute the HDFS command\n",
    "    subprocess.run(insert_cmd, shell=True, capture_output=True, text=True)\n",
    "    # Check if the file was properly uploaded\n",
    "    try:\n",
    "        # Execute the command and capture the output\n",
    "        subprocess.check_output('hadoop fs -test -f {}{}'.format(hdfs_directory, os.path.basename(file_path)), shell=True)\n",
    "    except subprocess.CalledProcessError:\n",
    "        # If the command returns a non-zero exit code, the file does not exist\n",
    "        print('Error uploading {}'.format(os.path.basename(file_path)))\n",
    "    else:\n",
    "        # If the command returns a zero code, the file exists and do the following\n",
    "        # Log to register the load\n",
    "        logs = pd.DataFrame(columns=['filename', 'type', 'date', 'folder'])  # logs\n",
    "        logs.loc[0] = [os.path.basename(file_path),\n",
    "                       ingestion_type,\n",
    "                       datetime.today().date(),\n",
    "                       hdfs_directory]\n",
    "        logs.to_csv('./log.csv', mode='a', index=False,\n",
    "                    header=not os.path.exists('./log.csv'))\n",
    "        # Delete the parquet file from the temporal landing zone\n",
    "        os.remove(file_path)\n"
   ],
   "metadata": {
    "collapsed": false
   }
  },
  {
   "cell_type": "code",
   "execution_count": 74,
   "outputs": [
    {
     "data": {
      "text/plain": "  0%|          | 0/317 [00:00<?, ?it/s]",
      "application/vnd.jupyter.widget-view+json": {
       "version_major": 2,
       "version_minor": 0,
       "model_id": "d1c037d1bac14d9ebd66e11a0af16ebb"
      }
     },
     "metadata": {},
     "output_type": "display_data"
    }
   ],
   "source": [
    "# Get all the parquet files paths\n",
    "parquet_files = [os.path.abspath(os.path.join(folder, file_name)) for file_name in os.listdir(folder) if file_name.endswith('.parquet')]\n",
    "\n",
    "# Define the directory in HDFS to store the files\n",
    "hdfs_directory = '/thesis/peru/exports/'\n",
    "# Add the files\n",
    "for file in tqdm(parquet_files):\n",
    "    add_file_to_hdfs(file, hdfs_directory, 'historical')\n"
   ],
   "metadata": {
    "collapsed": false
   }
  }
 ],
 "metadata": {
  "kernelspec": {
   "display_name": "Python 3",
   "language": "python",
   "name": "python3"
  },
  "language_info": {
   "codemirror_mode": {
    "name": "ipython",
    "version": 2
   },
   "file_extension": ".py",
   "mimetype": "text/x-python",
   "name": "python",
   "nbconvert_exporter": "python",
   "pygments_lexer": "ipython2",
   "version": "2.7.6"
  }
 },
 "nbformat": 4,
 "nbformat_minor": 0
}
